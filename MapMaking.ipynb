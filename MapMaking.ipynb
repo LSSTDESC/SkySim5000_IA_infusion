{
 "cells": [
  {
   "cell_type": "code",
   "execution_count": 2,
   "id": "e23c8468-8d3c-4b79-91b9-b73b10410038",
   "metadata": {
    "tags": []
   },
   "outputs": [],
   "source": [
    "# This module handles the projection of a catalog on a specific grid\n",
    "# Adapted from the DESC WLMASSMAP code.\n",
    "\n",
    "import numpy as np\n",
    "#from scipy.stats import binned_statistic_2d\n",
    "import healpy as hp\n",
    "from astropy.table import Table\n",
    "from kaiser_squires import flat_KS_map, healpix_KS_map\n",
    "import matplotlib.pyplot as plt\n",
    "\n",
    "# pixel resolution:\n",
    "Nside=4096\n",
    "\n",
    "#smoothing of the kappa maps, in arcmin:\n",
    "sigma = 2.0\n",
    "\n",
    "patch='N'\n",
    "\n",
    "def eq2ang(ra, dec):\n",
    "    \"\"\"\n",
    "    convert equatorial ra,dec in degrees to angular theta, phi in radians\n",
    "    parameters\n",
    "\n",
    "    ----------\n",
    "    ra: scalar or array\n",
    "        Right ascension in degrees\n",
    "    dec: scalar or array\n",
    "        Declination in degrees\n",
    "    returns\n",
    "    -------\n",
    "    theta,phi: tuple\n",
    "        theta = pi/2-dec*D2R # in [0,pi]\n",
    "        phi   = ra*D2R       # in [0,2*pi]\n",
    "    \"\"\"\n",
    "    dec = dec*np.pi/180\n",
    "    ra  = ra*np.pi/180\n",
    "    theta = np.pi/2 - dec\n",
    "    phi  = ra\n",
    "    return theta, phi\n",
    "\n",
    "def project_healpix(catalog, nside, hp_type='RING'):\n",
    "    \"\"\"\n",
    "    Adds a HEALpix pixel index to all galaxies in the catalog\n",
    "\n",
    "    Parameters\n",
    "    ----------\n",
    "    catalog: table\n",
    "        Input shape catalog\n",
    "\n",
    "    nside: int\n",
    "        HEALpix nside parameter\n",
    "\n",
    "    hp_type: string\n",
    "        HEALpix pixel order ('RING', 'NESTED')\n",
    "\n",
    "    Returns\n",
    "    -------\n",
    "    catalog: table\n",
    "        Output shape catalog with pixel index column\n",
    "        nest will be either True or False depending on input\n",
    "    \"\"\"\n",
    "    theta, phi = eq2ang(catalog['ra'], catalog['dec'])\n",
    "    catalog['pixel_index'] = hp.ang2pix(nside, theta, phi,\n",
    "                                        nest=(hp_type=='NESTED'))\n",
    "    return catalog\n",
    "\n",
    "def bin_shear_map(catalog, nx=None, ny=None, npix=None, sigtype=None, seed_id=None):\n",
    "    \"\"\"\n",
    "    Computes the shear map by binning the catalog according to pixel_index.\n",
    "    Either nx,ny or npix must be provided.\n",
    "    \n",
    "    Parameters\n",
    "    ----------\n",
    "    catalog: table\n",
    "        Input shape catalog with pixel_index column\n",
    "\n",
    "    nx,ny: int, optional\n",
    "        Number of pixels of a 2d flat map\n",
    "    \n",
    "    npix: int, optional\n",
    "        Number of pixels of a spherical map (or other 1D pixelating scheme)\n",
    "\n",
    "    sigtype: type of observations \n",
    "        GG_noisefree    = cosmic shear noise-free\n",
    "        GG_IA_noisefree = cosmic shear noise-free + IA\n",
    "        GG_IA_noisy     = cosmic shear + IA + shapenoise\n",
    "        pureIA          = pure IA \n",
    "        \n",
    "    Returns\n",
    "    -------\n",
    "    gmap: ndarray\n",
    "        Shear maps\n",
    "\n",
    "    nmap: ndarray\n",
    "        Number of galaxies per pixels\n",
    "    \"\"\"\n",
    "    assert (npix is not None) or ((nx is not None) and (ny is not None))\n",
    "    assert (sigtype is not None)\n",
    "\n",
    "    # Bin the shear catalog\n",
    "    if npix is None:\n",
    "        npix = nx*ny\n",
    "\n",
    "    if sigtype == 'GG_noisefree':\n",
    "        str1 = 'g1';str2 = 'g2'\n",
    "    if sigtype == 'GG_IA_noisy':\n",
    "        str1 = 'e_obs_1';str2 = 'e_obs_2'\n",
    "    if sigtype == 'GG_IA_noisefree':\n",
    "        str1 = 'e_obs_no_noise_1';str2 = 'e_obs_no_noise_2'\n",
    "    if sigtype == 'pureIA':\n",
    "        str1 = 'e_IA_TATT_1';str2 = 'e_IA_TATT_2'\n",
    "    if sigtype == 'HACC':\n",
    "        str1 = 'gamma1';str2 = 'gamma2'\n",
    "    if sigtype == 'KiDS':\n",
    "        str1 = 'e1';str2 = 'e2'; strw = 'weight'\n",
    "\n",
    "        \n",
    "    #HACC/OuterRim:\n",
    "    g1map = np.bincount(catalog['pixel_index'],\n",
    "                        weights=catalog[str1],\n",
    "                        minlength=npix)\n",
    "    g2map = np.bincount(catalog['pixel_index'],\n",
    "                        weights=catalog[str2],\n",
    "                        minlength=npix)\n",
    "    Nmap  = np.bincount(catalog['pixel_index'], minlength=npix)\n",
    "    \n",
    "    #KiDS\n",
    "    '''\n",
    "    g1map = np.bincount(catalog['pixel_index'],\n",
    "                        weights=catalog[str1]*catalog[strw],\n",
    "                        minlength=npix)\n",
    "    g2map = np.bincount(catalog['pixel_index'],\n",
    "                        weights=-catalog[str2]*catalog[strw],\n",
    "                        minlength=npix)\n",
    "    Nmap  = np.bincount(catalog['pixel_index'], weights=catalog[strw], minlength=npix)\n",
    "    '''\n",
    "    \n",
    "    #KiDS-randoms, rotate ellipticity by random angle 'theta'\n",
    "    '''\n",
    "    rng = np.random.default_rng(seed=seed_id)\n",
    "    theta = rng.random(np.shape(catalog[str1]))*2*np.pi\n",
    "    #Randoms: eobs=cmplx(gamma1i(i)*cos(theta)-gamma2i(i)*sin(theta), (gamma1i(i)*sin(theta)+gamma2i(i)*cos(theta)))\n",
    "    g1map = np.bincount(catalog['pixel_index'],\n",
    "                        weights=catalog[str1]*catalog[strw]*np.cos(theta) - catalog[str2]*catalog[strw]*np.sin(theta),\n",
    "                        minlength=npix)\n",
    "    g2map = np.bincount(catalog['pixel_index'],\n",
    "                        weights=catalog[str1]*catalog[strw]*np.sin(theta) + catalog[str2]*catalog[strw]*np.cos(theta),\n",
    "                        minlength=npix)\n",
    "    Nmap  = np.bincount(catalog['pixel_index'], weights=catalog[strw], minlength=npix)\n",
    "    '''\n",
    "    \n",
    "\n",
    "    # Normalize by number of galaxies\n",
    "    nz_ind = Nmap > 0\n",
    "    g1map[nz_ind] /= Nmap[nz_ind]\n",
    "    g2map[nz_ind] /= Nmap[nz_ind]\n",
    "\n",
    "    gmap = np.stack([g1map,g2map], axis=0)\n",
    "\n",
    "    return gmap, Nmap\n",
    "\n",
    "\n",
    "\n"
   ]
  },
  {
   "cell_type": "code",
   "execution_count": 2,
   "id": "33669df3-d4a8-4e77-9e1e-738b4163952a",
   "metadata": {
    "tags": []
   },
   "outputs": [
    {
     "name": "stdout",
     "output_type": "stream",
     "text": [
      "got catalogue\n",
      "got shear maps\n"
     ]
    },
    {
     "name": "stderr",
     "output_type": "stream",
     "text": [
      "/global/cfs/cdirs/desc-wl/projects/wl-massmap/IA-infusion/SkySim5000/tools/SkySim5000_IA_infusion/kaiser_squires.py:53: RuntimeWarning: divide by zero encountered in divide\n",
      "  almsE = alms[1]*((ell*(ell+1.))/((ell+2.)*(ell-1)))**0.5\n",
      "/global/cfs/cdirs/desc-wl/projects/wl-massmap/IA-infusion/SkySim5000/tools/SkySim5000_IA_infusion/kaiser_squires.py:53: RuntimeWarning: invalid value encountered in multiply\n",
      "  almsE = alms[1]*((ell*(ell+1.))/((ell+2.)*(ell-1)))**0.5\n",
      "/global/cfs/cdirs/desc-wl/projects/wl-massmap/IA-infusion/SkySim5000/tools/SkySim5000_IA_infusion/kaiser_squires.py:54: RuntimeWarning: divide by zero encountered in divide\n",
      "  almsB = alms[2]*((ell*(ell+1.))/((ell+2.)*(ell-1)))**0.5\n",
      "/global/cfs/cdirs/desc-wl/projects/wl-massmap/IA-infusion/SkySim5000/tools/SkySim5000_IA_infusion/kaiser_squires.py:54: RuntimeWarning: invalid value encountered in multiply\n",
      "  almsB = alms[2]*((ell*(ell+1.))/((ell+2.)*(ell-1)))**0.5\n",
      "/global/cfs/cdirs/desc-wl/projects/wl-massmap/IA-infusion/SkySim5000/tools/SkySim5000_IA_infusion/kaiser_squires.py:60: HealpyDeprecationWarning: \"verbose\" was deprecated in version 1.15.0 and will be removed in a future version. \n",
      "  E_map = hp.alm2map(almsE, nside=nside, lmax=lmax, pol=False, sigma=sigma, verbose=False)\n",
      "/global/cfs/cdirs/desc-wl/projects/wl-massmap/IA-infusion/SkySim5000/tools/SkySim5000_IA_infusion/kaiser_squires.py:61: HealpyDeprecationWarning: \"verbose\" was deprecated in version 1.15.0 and will be removed in a future version. \n",
      "  B_map = hp.alm2map(almsB, nside=nside, lmax=lmax, pol=False, sigma=sigma, verbose=False)\n"
     ]
    },
    {
     "name": "stdout",
     "output_type": "stream",
     "text": [
      "Saved ../../kappa/nz_SRD_KS/deltaNLA/kappa_skysim5000_deltaNLA_noAI_bta1_noisy_tomo1.dat\n",
      "got catalogue\n",
      "got shear maps\n",
      "Saved ../../kappa/nz_SRD_KS/deltaNLA/kappa_skysim5000_deltaNLA_noAI_bta1_noisy_tomo2.dat\n",
      "got catalogue\n",
      "got shear maps\n",
      "Saved ../../kappa/nz_SRD_KS/deltaNLA/kappa_skysim5000_deltaNLA_noAI_bta1_noisy_tomo3.dat\n",
      "got catalogue\n",
      "got shear maps\n",
      "Saved ../../kappa/nz_SRD_KS/deltaNLA/kappa_skysim5000_deltaNLA_noAI_bta1_noisy_tomo4.dat\n",
      "got catalogue\n",
      "got shear maps\n",
      "Saved ../../kappa/nz_SRD_KS/deltaNLA/kappa_skysim5000_deltaNLA_noAI_bta1_noisy_tomo5.dat\n"
     ]
    }
   ],
   "source": [
    "nzshell=26\n",
    "#for seed in range(30,31):\n",
    "for i in range(1,6):\n",
    "    #file = Table.read('../../GalCat/SRD-Y1/NLA/galcat_skysim5000_AIAp1_tomo{}.dat'.format(i), format='ascii')\n",
    "    #file = Table.read('../../GalCat/SRD-Y1/NLA/galcat_skysim5000_AIAm1_tomo{}.dat'.format(i), format='ascii')\n",
    "    #file = Table.read('../../GalCat/SRD-Y1/NLA/galcat_skysim5000_noIA_tomo{}.dat'.format(i), format='ascii')\n",
    "\n",
    "    #file = Table.read('../../GalCat/SRD-Y1/deltaNLA/galcat_skysim5000_AIAp1_bta1_tomo{}.dat'.format(i), format='ascii')\n",
    "    file = Table.read('../../GalCat/SRD-Y1/deltaNLA/galcat_skysim5000_noIA_bta1_tomo{}.dat'.format(i), format='ascii')\n",
    "    #file = Table.read('../../GalCat/SRD-Y1/deltaNLA/galcat_skysim5000_AIAp1_bta2_tomo{}.dat'.format(i), format='ascii')\n",
    "    #file = Table.read('../../GalCat/SRD-Y1/TT/galcat_skysim5000_C2p1_tomo{}.dat'.format(i), format='ascii')\n",
    "    #file = Table.read('../../GalCat/SRD-Y1/TT/galcat_skysim5000_C2m1_tomo{}.dat'.format(i), format='ascii')\n",
    "    #file = Table.read('../../GalCat/SRD-Y1/deltaTT/galcat_skysim5000_C2p1_bta1_tomo{}.dat'.format(i), format='ascii')\n",
    "    #file = Table.read('../../GalCat/SRD-Y1/deltaTT/galcat_skysim5000_C2m1_bta1_tomo{}.dat'.format(i), format='ascii')\n",
    "    #file = Table.read('../../GalCat/SRD-Y1/TATT/galcat_skysim5000_AIAp1_C2p1_bta1_tomo{}.dat'.format(i), format='ascii')\n",
    "    #file = Table.read('../../GalCat/SRD-Y1/HODNLA/galcat_skysim5000_AIAp1_HOD_tomo{}.dat'.format(i), format='ascii')\n",
    "    #file = Table.read('../../GalCat/SRD-Y1/HODTT/galcat_skysim5000_A2p1_HOD_tomo{}_TT.dat'.format(i), format='ascii')    \n",
    "    #file = Table.read('/pscratch/sd/j/jmena/HOS_Sims/HACC150_3/shells_z{}_subsampledensitymax_nside8192/SRDv1_nz/kappa_hacc_seed{}_nside8192_catpoisson_imap{}.fits'.format(nzshell,seed,i-1), format='fits')    \n",
    "    #file = Table.read('~/KiDS_Legacy'+patch+'_RA_DEC_e1_e2_w_notomo.dat', format='ascii')    \n",
    "   \n",
    "\n",
    "    print('got catalogue') \n",
    "    \n",
    "    # Add pixel ID to the catalogue, to be used in healpix projection:\n",
    "    file = project_healpix(file, nside=Nside)\n",
    "    \n",
    "    # construct shear maps:\n",
    "    #gmap, nmap = bin_shear_map(file, npix=hp.nside2npix(Nside),sigtype='GG_noisefree')\n",
    "    #gmap, nmap = bin_shear_map(file, npix=hp.nside2npix(Nside),sigtype='pureIA')\n",
    "    #gmap, nmap = bin_shear_map(file, npix=hp.nside2npix(Nside),sigtype='GG_IA_noisefree')\n",
    "    gmap, nmap = bin_shear_map(file, npix=hp.nside2npix(Nside),sigtype='GG_IA_noisy')\n",
    "    #gmap, nmap = bin_shear_map(file, npix=hp.nside2npix(Nside),sigtype='HACC')\n",
    "    #gmap, nmap = bin_shear_map(file, npix=hp.nside2npix(Nside),sigtype='KiDS', seed_id=seed)\n",
    "    print('got shear maps') \n",
    "\n",
    "    # uncomment to display column names:\n",
    "    #file.colnames\n",
    "   \n",
    "    #Kaiser and Squires transform on the sphere using healpix maps with 'Nside' resolution, and Gaussian smoothing\n",
    "    # with width 'sigma'. Outputs are E- and B-mode maps\n",
    "    kappa_e, kappa_b = healpix_KS_map(gmap, lmax = Nside, sigma=sigma)\n",
    "    \n",
    "    #show maps:\n",
    "    \"\"\"\n",
    "    lonra = [40, 43]\n",
    "    latra = [40, 43]\n",
    "    hp.cartview(gmap[0,:], cbar=True, lonra=lonra, latra=latra,\n",
    "            nest=False,\n",
    "                title=\"g1\",\n",
    "                # min=-10, max=0,\n",
    "                cmap=plt.cm.coolwarm,            \n",
    "                norm=None, unit='$\\gamma_1$')\n",
    "    plt.show()\n",
    "    hp.cartview(gmap[1,:], cbar=True, lonra=lonra, latra=latra,\n",
    "            nest=False,\n",
    "                title=\"g2\",\n",
    "                # min=-10, max=0,\n",
    "                cmap=plt.cm.coolwarm,            \n",
    "                norm=None, unit='$\\gamma_2$')\n",
    "    plt.show()\n",
    "    hp.cartview(np.sqrt(gmap[0,:]**2 + gmap[1,:]**2), cbar=True, lonra=lonra, latra=latra,\n",
    "            nest=False,\n",
    "                title=\"gtot\",\n",
    "                # min=-10, max=0,\n",
    "                cmap=plt.cm.coolwarm,            \n",
    "                norm=None, unit='$\\gamma_tot$')\n",
    "    plt.show()\n",
    "    hp.cartview(kappa_e, cbar=True, lonra=lonra, latra=latra,\n",
    "            nest=False,\n",
    "                title=\"gtot\",\n",
    "                # min=-10, max=0,\n",
    "                cmap=plt.cm.coolwarm,            \n",
    "                norm=None, unit='$\\gamma_tot$')\n",
    "    plt.show()\n",
    "    hp.cartview(kappa_b, cbar=True, lonra=lonra, latra=latra,\n",
    "            nest=False,\n",
    "                title=\"gtot\",\n",
    "                # min=-10, max=0,\n",
    "                cmap=plt.cm.coolwarm,            \n",
    "                norm=None, unit='$\\gamma_tot$')\n",
    "    plt.show()\n",
    "    \"\"\"\n",
    "    \n",
    "    # Save kappa:\n",
    "    #fname = '../../kappa/nz_SRD_KS/NLA/kappa_skysim5000_noIA_noisefree_tomo'+str(i)+'.dat'\n",
    "    #fname = '../../kappa/nz_SRD_KS/NLA/kappa_skysim5000_noIA_noisy_tomo'+str(i)+'.dat'\n",
    "    #fname = '../../kappa/nz_SRD_KS/NLA/kappa_skysim5000_noIA_noisefree_tomo'+str(i)+'_e2flip.dat'\n",
    "    #fname = '../../kappa/nz_SRD_KS/NLA/kappa_skysim5000_noIA_noisefree_tomo'+str(i)+'_e1flip.dat'\n",
    "    #fname = '../../kappa/nz_SRD_KS/NLA/kappa_skysim5000_noIA_noisefree_tomo'+str(i)+'_e1e2flip.dat'\n",
    "    #fname = '../../kappa/nz_SRD_KS/NLA/kappa_skysim5000_NLA_AIAp1_noisefree_tomo'+str(i)+'.dat'\n",
    "    #fname = '../../kappa/nz_SRD_KS/NLA/kappa_skysim5000_NLA_AIAp1_noisy_tomo'+str(i)+'.dat'\n",
    "    #fname = '../../kappa/nz_SRD_KS/NLA/kappa_skysim5000_NLA_AIAm1_noisefree_tomo'+str(i)+'.dat'\n",
    "    #fname = '../../kappa/nz_SRD_KS/deltaNLA/kappa_skysim5000_deltaNLA_AIAp1_bta1_noisefree_tomo'+str(i)+'.dat'\n",
    "    #fname = '../../kappa/nz_SRD_KS/deltaNLA/kappa_skysim5000_deltaNLA_AIAp1_bta1_noisy_tomo'+str(i)+'.dat'\n",
    "    fname = '../../kappa/nz_SRD_KS/deltaNLA/kappa_skysim5000_deltaNLA_noAI_bta1_noisy_tomo'+str(i)+'.dat'\n",
    "    #fname = '../../kappa/nz_SRD_KS/deltaNLA/kappa_skysim5000_deltaNLA_noIA_bta1_noisefree_tomo'+str(i)+'.dat'\n",
    "    #fname = '../../kappa/nz_SRD_KS/deltaNLA/kappa_skysim5000_deltaNLA_AIAp1_bta2_noisefree_tomo'+str(i)+'.dat'\n",
    "    #fname = '../../kappa/nz_SRD_KS/TT/kappa_skysim5000_TT_C2p1_noisefree_tomo'+str(i)+'.dat'\n",
    "    #fname = '../../kappa/nz_SRD_KS/TT/kappa_skysim5000_TT_C2p1_noisy_tomo'+str(i)+'.dat'\n",
    "    #fname = '../../kappa/nz_SRD_KS/TT/kappa_skysim5000_TT_C2m1_noisefree_tomo'+str(i)+'.dat'\n",
    "    #fname = '../../kappa/nz_SRD_KS/deltaTT/kappa_skysim5000_deltaTT_C2p1_bta1_noisefree_tomo'+str(i)+'.dat'\n",
    "    #fname = '../../kappa/nz_SRD_KS/deltaTT/kappa_skysim5000_deltaTT_C2m1_bta1_noisefree_tomo'+str(i)+'.dat'\n",
    "    #fname = '../../kappa/nz_SRD_KS/TATT/kappa_skysim5000_TATT_AIAp1_C2p1_bta1_noisefree_tomo'+str(i)+'.dat'\n",
    "    #fname = '../../kappa/nz_SRD_KS/HODNLA/kappa_skysim5000_AIAp1_HODNLA_noisefree_tomo'+str(i)+'.dat'\n",
    "    #fname = '../../kappa/nz_SRD_KS/HODTT/kappa_skysim5000_A2p1_HODTT_noisefree_tomo'+str(i)+'.dat'\n",
    "    #fname = '../../../HACC-Y1/kappa-KS/nz_SRD_KS/kappa_nzshells'+str(nzshell)+'_seed'+str(seed)+'_tomo'+str(i)+'.dat'\n",
    "    #fname = '../../../HACC-Y1/kappa-KS/nz_SRD_KS/kappa_KiDSN_notomo_E.dat'\n",
    "    np.save(fname, kappa_e)\n",
    "    #fname = '../../../HACC-Y1/kappa-KS/nz_SRD_KS/kappa_KiDSN_notomo_B.dat'\n",
    "    #np.save(fname, kappa_b)\n",
    "\n",
    "    #fname = '../../../HACC-Y1/kappa-KS/nz_SRD_KS/kappa_KiDS'+patch+'_notomo_E_e2flip_smooth'+str(int(sigma))+'.dat'\n",
    "    #np.save(fname, kappa_e)\n",
    "    #fname = '../../../HACC-Y1/kappa-KS/nz_SRD_KS/kappa_KiDS'+patch+'_notomo_B_e2flip_smooth'+str(int(sigma))+'.dat'\n",
    "    #np.save(fname, kappa_b)\n",
    "\n",
    "    #fname = '../../../HACC-Y1/kappa-KS/nz_SRD_KS/kappa_KiDS'+patch+'_notomo_ran_e2flip_smooth'+str(int(sigma))+'_seed'+str(seed)+'.dat'\n",
    "    #np.save(fname, kappa_e)\n",
    "    #fname = '../../../HACC-Y1/kappa-KS/nz_SRD_KS/kappa_KiDS'+patch+'_notomo_B_e2flip_smooth'+str(int(sigma))+'.dat'\n",
    "    #np.save(fname, kappa_b)\n",
    "    \n",
    "    \n",
    "    print(\"Saved\", fname)\n",
    "\n",
    "    # Save shear:\n",
    "    #fname = '../../kappa/nz_SRD_KS/gamma_skysim5000_noIA_noisefree_tomo'+str(i)+'.dat'\n",
    "    #np.save(fname, gmap)\n",
    "    #print(\"Saved\", fname)\n",
    "\n",
    "    \n",
    "    #print('Done tomobin ',i)\n",
    "    #print('Done seed ',seed)"
   ]
  },
  {
   "cell_type": "code",
   "execution_count": null,
   "id": "05d79722-f6a6-4e35-94af-0578acb3c582",
   "metadata": {
    "tags": []
   },
   "outputs": [],
   "source": [
    "#Make mask maps:\n",
    "#hp.mollview(nmap, cbar=True, \n",
    "#        nest=False,\n",
    "#            title=\"N_{gal}\",\n",
    "#            # min=-10, max=0,\n",
    "#            cmap=plt.cm.coolwarm,            \n",
    "#            norm=None, unit='N')\n",
    "#plt.show()\n",
    "hp.orthview(nmap,rot=(5,10),\n",
    "                half_sky=True,\n",
    "                title = \"$N_{gal}$\",\n",
    "                cmap='bone',\n",
    "            \n",
    "               )\n",
    "hp.orthview(kappa_e,rot=(5,10),\n",
    "                half_sky=True,\n",
    "                title = \"$\\kappa_{E}$\",\n",
    "                cmap='bone',\n",
    "            \n",
    "               )\n",
    "hp.orthview(kappa_b,rot=(5,10),\n",
    "                half_sky=True,\n",
    "                title = \"$\\kappa_{B}$\",\n",
    "                cmap='bone',\n",
    "            \n",
    "               )"
   ]
  },
  {
   "cell_type": "code",
   "execution_count": 6,
   "id": "7ddf609a-048e-4f69-9c94-5632e926aca7",
   "metadata": {
    "tags": []
   },
   "outputs": [],
   "source": [
    "#Mask outside 0<RA< 20 and -36.61<Dec<0 deg (RA = phi, [0-90], DEC = theta, [0-360])\n",
    "pix_id = np.arange(0,hp.nside2npix(4096))\n",
    "theta, phi = hp.pix2ang(Nside, pix_id, nest=False, lonlat=True)\n"
   ]
  },
  {
   "cell_type": "code",
   "execution_count": 62,
   "id": "6061f1b0-d68b-4c40-952f-355ce0c1a849",
   "metadata": {
    "tags": []
   },
   "outputs": [
    {
     "data": {
      "image/png": "[encoded data removed]",
      "text/plain": [
       "<Figure size 850x540 with 2 Axes>"
      ]
     },
     "metadata": {},
     "output_type": "display_data"
    }
   ],
   "source": [
    "mask = np.zeros_like(pix_id)\n",
    "mask[pix_id[theta<20]]+=1\n",
    "mask[pix_id[phi<0]]+=1\n",
    "mask[pix_id[phi>-36.61]]+=1\n",
    "mask=np.floor(mask/3.0)\n",
    "\n",
    "hp.mollview(mask, cbar=True, \n",
    "        nest=False,\n",
    "            title=\"mask\",\n",
    "            # min=-10, max=0,\n",
    "            cmap=plt.cm.coolwarm,            \n",
    "            norm=None, unit='Mask')\n",
    "plt.show()\n",
    "#save\n",
    "#fname = '../../kappa/nz_SRD_KS/HODTT/HOD_mask_4096.dat'\n",
    "#np.save(fname, mask)"
   ]
  },
  {
   "cell_type": "code",
   "execution_count": 1,
   "id": "3ad13e6b-3506-4bc3-8134-c23780d24780",
   "metadata": {
    "tags": []
   },
   "outputs": [
    {
     "name": "stdout",
     "output_type": "stream",
     "text": [
      "../../kappa/nz_SRD_KS/deltaNLA/kappa_skysim5000_deltaNLA_AIAp1_bta1_noisy_tomo1.dat.npy\n",
      "../../kappa/nz_SRD_KS/deltaNLA/kappa_skysim5000_deltaNLA_AIAp1_bta1_noisy_tomo2.dat.npy\n",
      "../../kappa/nz_SRD_KS/deltaNLA/kappa_skysim5000_deltaNLA_AIAp1_bta1_noisy_tomo3.dat.npy\n",
      "../../kappa/nz_SRD_KS/deltaNLA/kappa_skysim5000_deltaNLA_AIAp1_bta1_noisy_tomo4.dat.npy\n",
      "../../kappa/nz_SRD_KS/deltaNLA/kappa_skysim5000_deltaNLA_AIAp1_bta1_noisy_tomo5.dat.npy\n"
     ]
    }
   ],
   "source": [
    "ls ../../kappa/nz_SRD_KS/deltaNLA/kappa_skysim5000_deltaNLA_AIAp1_bta1_noisy_tomo*"
   ]
  },
  {
   "cell_type": "code",
   "execution_count": 1,
   "id": "3ed43cb4-253f-41db-b0b9-05ac14dca6a7",
   "metadata": {
    "tags": []
   },
   "outputs": [
    {
     "name": "stdout",
     "output_type": "stream",
     "text": [
      "../../kappa/nz_SRD_KS/deltaNLA/kappa_skysim5000_deltaNLA_noIA_bta1_noisefree_tomo1.dat.npy\n"
     ]
    }
   ],
   "source": [
    "ls  ../../kappa/nz_SRD_KS/deltaNLA/kappa_skysim5000_deltaNLA_noIA_bta1_noisefree*"
   ]
  },
  {
   "cell_type": "code",
   "execution_count": 18,
   "id": "9ca2d505-61cd-44a3-a729-a64b3e00bc5e",
   "metadata": {},
   "outputs": [
    {
     "data": {
      "text/plain": [
       "359.989013671875"
      ]
     },
     "execution_count": 18,
     "metadata": {},
     "output_type": "execute_result"
    }
   ],
   "source": [
    "max(theta)"
   ]
  },
  {
   "cell_type": "code",
   "execution_count": null,
   "id": "154bcdb5-e995-4fdd-ad83-44f5bcd31713",
   "metadata": {
    "tags": []
   },
   "outputs": [],
   "source": []
  },
  {
   "cell_type": "code",
   "execution_count": 29,
   "id": "efa41aa2-a65a-45d6-8d9c-a2604ee2e205",
   "metadata": {
    "tags": []
   },
   "outputs": [],
   "source": [
    "mask[pix_id[theta<20] and pix_id[phi>90]] = 1"
   ]
  },
  {
   "cell_type": "code",
   "execution_count": 61,
   "id": "480c36fa-2bca-4da4-9b88-e269e6fb1978",
   "metadata": {
    "tags": []
   },
   "outputs": [
    {
     "data": {
      "image/png": "[encoded data removed]",
      "text/plain": [
       "<Figure size 850x540 with 2 Axes>"
      ]
     },
     "metadata": {},
     "output_type": "display_data"
    }
   ],
   "source": []
  },
  {
   "cell_type": "code",
   "execution_count": null,
   "id": "1e0fbf71-e731-43c3-bcb5-3616f59c05a8",
   "metadata": {},
   "outputs": [],
   "source": [
    "mask = np.zeros_like(nmap)\n",
    "#mask[pix_id[nmap>0]]+=1\n",
    "mask[nmap>0]+=1\n",
    "\n",
    "hp.mollview(mask, cbar=True, \n",
    "        nest=False,\n",
    "            title=\"mask\",\n",
    "            # min=-10, max=0,\n",
    "            cmap=plt.cm.coolwarm,            \n",
    "            norm=None, unit='Mask')\n",
    "plt.show()\n",
    "fname = '../../../HACC-Y1/kappa-KS/nz_SRD_KS/mask_KiDS'+patch+'.dat'\n",
    "np.save(fname, mask)\n"
   ]
  },
  {
   "cell_type": "code",
   "execution_count": 1,
   "id": "21243b2d-5921-41ac-83db-301d3239f250",
   "metadata": {},
   "outputs": [
    {
     "name": "stdout",
     "output_type": "stream",
     "text": [
      "../../../HACC-Y1/kappa-KS/nz_SRD_KS/mask_KiDSN.dat.npy\n",
      "../../../HACC-Y1/kappa-KS/nz_SRD_KS/mask_KiDSS.dat.npy\n"
     ]
    }
   ],
   "source": [
    "ls ../../../HACC-Y1/kappa-KS/nz_SRD_KS/mask_KiDS*"
   ]
  },
  {
   "cell_type": "code",
   "execution_count": 9,
   "id": "0cf9f5d1-e9b0-42a3-8303-2f5d94cf478c",
   "metadata": {},
   "outputs": [],
   "source": [
    "data = np.array((1,2,3,4))"
   ]
  },
  {
   "cell_type": "code",
   "execution_count": 6,
   "id": "e7fe55ff-dad9-40db-b0f3-c1e2b3a0ebc8",
   "metadata": {
    "tags": []
   },
   "outputs": [
    {
     "data": {
      "text/plain": [
       "array([1, 2, 3, 4])"
      ]
     },
     "execution_count": 6,
     "metadata": {},
     "output_type": "execute_result"
    }
   ],
   "source": [
    "data\n"
   ]
  },
  {
   "cell_type": "code",
   "execution_count": 7,
   "id": "ab1f2704-0110-483e-a594-339151785a4c",
   "metadata": {
    "tags": []
   },
   "outputs": [
    {
     "data": {
      "text/plain": [
       "(4,)"
      ]
     },
     "execution_count": 7,
     "metadata": {},
     "output_type": "execute_result"
    }
   ],
   "source": [
    "np.shape(data)"
   ]
  },
  {
   "cell_type": "code",
   "execution_count": 10,
   "id": "e9b48651-81dd-4cee-9bff-caa6a938988c",
   "metadata": {
    "tags": []
   },
   "outputs": [
    {
     "data": {
      "text/plain": [
       "array([4, 2, 3, 1])"
      ]
     },
     "execution_count": 10,
     "metadata": {},
     "output_type": "execute_result"
    }
   ],
   "source": [
    "data[[3,1,2,0]]"
   ]
  },
  {
   "cell_type": "code",
   "execution_count": 11,
   "id": "66bc9ff7-90de-463f-a8c9-a9a01925f02f",
   "metadata": {
    "tags": []
   },
   "outputs": [],
   "source": [
    "value = list(data)"
   ]
  },
  {
   "cell_type": "code",
   "execution_count": 12,
   "id": "2176bb65-5c72-4161-a371-b84a528475e8",
   "metadata": {
    "tags": []
   },
   "outputs": [
    {
     "data": {
      "text/plain": [
       "[1, 2, 3, 4]"
      ]
     },
     "execution_count": 12,
     "metadata": {},
     "output_type": "execute_result"
    }
   ],
   "source": [
    "value"
   ]
  },
  {
   "cell_type": "code",
   "execution_count": 4,
   "id": "015d4f83-5077-41b3-b896-f594aa9b9693",
   "metadata": {},
   "outputs": [
    {
     "data": {
      "text/plain": [
       "0.42943580147717575"
      ]
     },
     "execution_count": 4,
     "metadata": {},
     "output_type": "execute_result"
    }
   ],
   "source": [
    "hp.nside2resol(8192)*180/np.pi*60"
   ]
  },
  {
   "cell_type": "code",
   "execution_count": null,
   "id": "e1812473-4a98-4ecf-a082-58d1ffeb9d41",
   "metadata": {},
   "outputs": [],
   "source": []
  }
 ],
 "metadata": {
  "kernelspec": {
   "display_name": "desc-python-dev",
   "language": "python",
   "name": "desc-python-dev"
  },
  "language_info": {
   "codemirror_mode": {
    "name": "ipython",
    "version": 3
   },
   "file_extension": ".py",
   "mimetype": "text/x-python",
   "name": "python",
   "nbconvert_exporter": "python",
   "pygments_lexer": "ipython3",
   "version": "3.10.12"
  }
 },
 "nbformat": 4,
 "nbformat_minor": 5
}
