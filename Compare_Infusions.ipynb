{
 "cells": [
  {
   "cell_type": "markdown",
   "metadata": {},
   "source": [
    "# Current Infusion"
   ]
  },
  {
   "cell_type": "code",
   "execution_count": 1,
   "metadata": {
    "tags": []
   },
   "outputs": [],
   "source": [
    "import pyccl as ccl\n",
    "import numpy as np\n",
    "import fitsio\n",
    "from fitsio import FITS, FITSHDR\n",
    "import healpy as hp\n",
    "import time\n",
    "import matplotlib.pyplot as plt\n",
    "import pyccl.ccllib as lib\n",
    "import pyccl.nl_pt as pt\n",
    "from astropy.io import fits\n",
    "import astropy.units as u\n",
    "from astropy.cosmology import FlatLambdaCDM\n",
    "import os"
   ]
  },
  {
   "cell_type": "code",
   "execution_count": 27,
   "metadata": {},
   "outputs": [
    {
     "name": "stdout",
     "output_type": "stream",
     "text": [
      "*** original mass sheets ***\n",
      "['density_map_411_dens.bin', 'density_map_442_dens.bin', 'density_map_307_dens.bin', 'density_map_198_dens.bin', 'density_map_259_dens.bin', 'density_map_373_dens.bin', 'density_map_315_dens.bin', 'density_map_355_dens.bin', 'density_map_272_dens.bin', 'density_map_279_dens.bin', '.ipynb_checkpoints', 'density_map_464_dens.bin', 'density_map_247_dens.bin', 'density_map_286_dens.bin', 'density_map_241_dens.bin', 'density_map_189_dens.bin', 'density_map_219_dens.bin', 'density_map_224_dens.bin', 'density_map_203_dens.bin', 'density_map_121_dens.bin', 'density_map_176_dens.bin', 'density_map_230_dens.bin', 'density_map_475_dens.bin', 'density_map_331_dens.bin', 'density_map_137_dens.bin', 'density_map_194_dens.bin', 'density_map_347_dens.bin', 'density_map_323_dens.bin', 'density_map_213_dens.bin', 'density_map_180_dens.bin', 'density_map_167_dens.bin', 'density_map_392_dens.bin', 'density_map_151_dens.bin', 'density_map_184_dens.bin', 'density_map_141_dens.bin', 'density_map_134_dens.bin', 'density_map_124_dens.bin', 'density_map_453_dens.bin', 'density_map_163_dens.bin', 'density_map_144_dens.bin', 'density_map_253_dens.bin', 'density_map_235_dens.bin', 'density_map_432_dens.bin', 'density_map_266_dens.bin', 'density_map_148_dens.bin', 'density_map_171_dens.bin', 'density_map_421_dens.bin', 'density_map_338_dens.bin', 'density_map_401_dens.bin', 'density_map_382_dens.bin', 'density_map_300_dens.bin', 'density_map_159_dens.bin', 'density_map_155_dens.bin', 'density_map_127_dens.bin', 'density_map_487_dens.bin', 'density_map_208_dens.bin', 'density_map_131_dens.bin', 'density_map_293_dens.bin', 'density_map_365_dens.bin']\n",
      "0.0245\n"
     ]
    }
   ],
   "source": [
    "path_in = \"/global/cfs/cdirs/lsst/groups/CS/mass_sheets/\"\n",
    "directory_contents = os.listdir(path_in)\n",
    "print(\"*** original mass sheets ***\")\n",
    "print(directory_contents)\n",
    "\n",
    "zfile = np.loadtxt(\"z2ts.txt\", delimiter=\",\")\n",
    "snaplist = zfile[:, 1].astype(int)\n",
    "zlist = zfile[:, 0]\n",
    "\n",
    "# Choosing an arbitrary snapshot and reading its redshift\n",
    "snap_number = 487\n",
    "index = np.where(snaplist == snap_number)[0][0]\n",
    "z_snap = zlist[index]\n",
    "print(z_snap)"
   ]
  },
  {
   "cell_type": "code",
   "execution_count": 4,
   "metadata": {},
   "outputs": [],
   "source": [
    "cosmo_ccl = ccl.Cosmology(Omega_c=0.239, Omega_b=0.047, h=0.7, sigma8=0.82, n_s=0.96)\n",
    "\n",
    "Om_m = cosmo_ccl[\"Omega_m\"]\n",
    "rho_crit = lib.cvar.constants.RHO_CRITICAL\n",
    "Aia = 1.0"
   ]
  },
  {
   "cell_type": "markdown",
   "metadata": {},
   "source": [
    "### Function's definitions"
   ]
  },
  {
   "cell_type": "code",
   "execution_count": 5,
   "metadata": {},
   "outputs": [],
   "source": [
    "def Epsilon1_NLA(cosmo, z, A1, rho_crit, sxx, syy):\n",
    "    gz = ccl.growth_factor(cosmo, 1.0 / (1 + z))\n",
    "    Fact = -1 * A1 * 5e-14 * rho_crit * cosmo[\"Omega_m\"] / gz\n",
    "    # e1_NLA =  - Fact  * (sxx - syy)\n",
    "    e1_NLA = Fact * (sxx - syy)\n",
    "    return e1_NLA\n",
    "\n",
    "\n",
    "def Epsilon2_NLA(cosmo, z, A1, rho_crit, sxy):\n",
    "    gz = ccl.growth_factor(cosmo, 1.0 / (1 + z))\n",
    "    Fact = -1 * A1 * 5e-14 * rho_crit * cosmo[\"Omega_m\"] / gz\n",
    "    e2_NLA = 2 * Fact * sxy\n",
    "    # e2_NLA = Fact * sxy\n",
    "    return e2_NLA\n",
    "\n",
    "\n",
    "def compute_tidal_tensor_spherical_new(hpmap, smoothing=0, downsample_nside=2048):\n",
    "\n",
    "    # -----------------------\n",
    "    # Get alm from delta map:\n",
    "    # The input maps must all be in ring ordering.\n",
    "\n",
    "    lmax = 2048 * 4\n",
    "\n",
    "    alm_E = hp.sphtfunc.map2alm(\n",
    "        hpmap.real,\n",
    "        lmax=2048 * 4,\n",
    "        mmax=None,\n",
    "        iter=3,\n",
    "        pol=False,\n",
    "        use_weights=False,\n",
    "        datapath=None,\n",
    "    )\n",
    "    alm_B = alm_E * 0.0\n",
    "    ##We set the B modes to 0\n",
    "    ell, emm = hp.Alm.getlm(lmax=lmax)\n",
    "\n",
    "    kalmsE = alm_E / (1.0 * ((ell * (ell + 1.0)) / ((ell + 2.0) * (ell - 1))) ** 0.5)\n",
    "    kalmsE[ell == 0] = 0.0\n",
    "\n",
    "    kalmsB = alm_B / (1.0 * ((ell * (ell + 1.0)) / ((ell + 2.0) * (ell - 1))) ** 0.5)\n",
    "    kalmsB[ell == 0] = 0.0\n",
    "\n",
    "    # if (smoothing > 0.0) :\n",
    "    #     #smooth by sigma, given in radians\n",
    "    #     alm_E_smooth=hp.sphtfunc.smoothalm(alm_E, fwhm=0.0, sigma=smoothing, beam_window=None, pol=False, mmax=None, verbose=True, inplace=True)\n",
    "    #     alm_E = alm_E_smooth\n",
    "    #     del alm_E_smooth\n",
    "\n",
    "    nside = hp.get_nside(hpmap)\n",
    "    # maps_QU = hp.alm2map_spin((alm_E, alm_B), nside, spin=2,lmax=2048*4,mmax=None)\n",
    "    # maps_QU = hp.alm2map_spin((kalmsE, kalmsB), nside, spin=2,lmax=lmax,mmax=None)\n",
    "    _, gamma1, gamma2 = hp.alm2map(\n",
    "        [kalmsE * 0.0, kalmsE, kalmsB], nside=int(downsample_nside), pol=True\n",
    "    )\n",
    "    maps_QU = gamma1, gamma2\n",
    "    hpmap = hp.ud_grade(map_in=hpmap, nside_out=int(downsample_nside))\n",
    "    delta = np.copy(hpmap)\n",
    "    # In 2D cartesian, s11(k)+s22(k)=delta(k)\n",
    "    # In the spherical polarization framework, we have:\n",
    "    # Q is 'g1' = (t11 - t22)\n",
    "    # delta is t11 + t22\n",
    "    # U is 'g2' = t12\n",
    "    # t11 is (Q +delta)/2\n",
    "    # t22 is (delta-Q)/2\n",
    "    # Need to subtract off the trace, affecting s_11 and s_22...\n",
    "    tidal_tensor_sph = np.zeros((hp.nside2npix(downsample_nside), 3), dtype=np.float32)\n",
    "\n",
    "    # t11\n",
    "    tidal_tensor_sph[:, 0] = (maps_QU[0] + delta) / 2.0 - 1.0 / 3 * hpmap\n",
    "\n",
    "    # t22\n",
    "    tidal_tensor_sph[:, 1] = (delta - maps_QU[0]) / 2.0 - 1.0 / 3 * hpmap\n",
    "\n",
    "    # t12\n",
    "    tidal_tensor_sph[:, 2] = maps_QU[1]\n",
    "\n",
    "    Norm_empirical = (np.pi / 2) ** 2\n",
    "\n",
    "    tidal_tensor_sph *= Norm_empirical\n",
    "\n",
    "    return tidal_tensor_sph"
   ]
  },
  {
   "cell_type": "markdown",
   "metadata": {},
   "source": [
    "### Initialization"
   ]
  },
  {
   "cell_type": "code",
   "execution_count": 6,
   "metadata": {},
   "outputs": [
    {
     "name": "stdout",
     "output_type": "stream",
     "text": [
      "Processing mass sheet density_map_411_dens.bin...\n"
     ]
    }
   ],
   "source": [
    "fn_density_map = \"density_map_411_dens.bin\"\n",
    "print(f\"Processing mass sheet {fn_density_map}...\")\n",
    "density_map_filename = f\"{path_in}{fn_density_map}\"\n",
    "# read mass density map from the mass sheet file\n",
    "tmp = np.fromfile(density_map_filename, \"<f\")\n",
    "density_map = hp.pixelfunc.ud_grade(\n",
    "    tmp, 4096, pess=False, order_in=\"NESTED\", order_out=\"RING\", power=None, dtype=None\n",
    ")\n",
    "\n",
    "density_map /= np.mean(density_map)  # divide by average density\n",
    "density_map -= 1  # compute overdensity"
   ]
  },
  {
   "cell_type": "markdown",
   "metadata": {},
   "source": [
    "### Computing IA maps starting from the density map"
   ]
  },
  {
   "cell_type": "code",
   "execution_count": 7,
   "metadata": {},
   "outputs": [
    {
     "name": "stderr",
     "output_type": "stream",
     "text": [
      "/tmp/ipykernel_2019692/1331318071.py:38: RuntimeWarning: divide by zero encountered in divide\n",
      "  kalmsE = alm_E / (1.0 * ((ell * (ell + 1.0)) / ((ell + 2.0) * (ell - 1))) ** 0.5)\n",
      "/tmp/ipykernel_2019692/1331318071.py:38: RuntimeWarning: invalid value encountered in divide\n",
      "  kalmsE = alm_E / (1.0 * ((ell * (ell + 1.0)) / ((ell + 2.0) * (ell - 1))) ** 0.5)\n",
      "/tmp/ipykernel_2019692/1331318071.py:41: RuntimeWarning: divide by zero encountered in divide\n",
      "  kalmsB = alm_B / (1.0 * ((ell * (ell + 1.0)) / ((ell + 2.0) * (ell - 1))) ** 0.5)\n",
      "/tmp/ipykernel_2019692/1331318071.py:41: RuntimeWarning: invalid value encountered in divide\n",
      "  kalmsB = alm_B / (1.0 * ((ell * (ell + 1.0)) / ((ell + 2.0) * (ell - 1))) ** 0.5)\n"
     ]
    }
   ],
   "source": [
    "s_joachim = compute_tidal_tensor_spherical_new(density_map)"
   ]
  },
  {
   "cell_type": "code",
   "execution_count": 8,
   "metadata": {},
   "outputs": [],
   "source": [
    "s_11_joachim = s_joachim[:, 0]\n",
    "s_22_joachim = s_joachim[:, 1]\n",
    "s_12_joachim = s_joachim[:, 2]"
   ]
  },
  {
   "cell_type": "code",
   "execution_count": null,
   "metadata": {},
   "outputs": [],
   "source": [
    "IA_NLA = Epsilon1_NLA(\n",
    "    cosmo=cosmo_ccl,\n",
    "    z=z_snap,\n",
    "    rho_crit=rho_crit,\n",
    "    A1=1.0,\n",
    "    sxx=s_11_joachim,\n",
    "    syy=s_22_joachim,\n",
    "), Epsilon2_NLA(cosmo=cosmo_ccl, z=z_snap, A1=1.0, rho_crit=rho_crit, sxy=s_12_joachim)"
   ]
  },
  {
   "cell_type": "markdown",
   "metadata": {},
   "source": [
    "# Alternative Infusion"
   ]
  },
  {
   "cell_type": "code",
   "execution_count": 9,
   "metadata": {},
   "outputs": [],
   "source": [
    "import matplotlib.pyplot as plt\n",
    "import numpy as np\n",
    "import healpy as hp\n",
    "from astropy.cosmology import FlatLambdaCDM\n",
    "from astropy import units as u\n",
    "from astropy.cosmology import z_at_value\n",
    "from bornraytrace import intrinsic_alignments as ia\n",
    "from bornraytrace import lensing\n",
    "from matplotlib import rcParams\n",
    "import warnings\n",
    "\n",
    "warnings.filterwarnings(\"ignore\")\n",
    "rcParams.update({\"font.size\": 16})\n",
    "rcParams.update({\"image.cmap\": \"inferno\"})"
   ]
  },
  {
   "cell_type": "markdown",
   "metadata": {},
   "source": [
    "### Functions definitions"
   ]
  },
  {
   "cell_type": "code",
   "execution_count": 18,
   "metadata": {},
   "outputs": [],
   "source": [
    "def F_nla(z, om0, A_ia, rho_crit, eta=0.0, z0=0.0, lbar=0.0, l0=1e-9, beta=0.0):\n",
    "    prefactor = -A_ia * 5e-14 * rho_crit * om0\n",
    "    inverse_linear_growth = 1.0 / ccl.growth_factor(cosmo_ccl, 1.0 / (1 + z))\n",
    "    redshift_dependence = ((1 + z) / (1 + z0)) ** eta\n",
    "    luminosity_dependence = (lbar / l0) ** beta\n",
    "    Norm_empirical = (np.pi / 2) ** 2\n",
    "\n",
    "    return (\n",
    "        prefactor\n",
    "        * inverse_linear_growth\n",
    "        * redshift_dependence\n",
    "        * luminosity_dependence\n",
    "        * Norm_empirical\n",
    "    )\n",
    "\n",
    "\n",
    "def kappa2shear(kappa_map, lmax, downsample_nside=None):\n",
    "    \"\"\"\n",
    "    Performs inverse Kaiser-Squires on the sphere with healpy spherical harmonics\n",
    "\n",
    "    :param kappa_map: healpix format complex convergence (kappa) map\n",
    "    :param lmax: maximum multipole\n",
    "    :param downsample: option to downsample map output. A good compromise choice to reduce nside by half is: lmax=nside*2, downsample_nside=nside/2\n",
    "    :return: complex shear map (gamma1 + 1j * gamma2)\n",
    "    \"\"\"\n",
    "\n",
    "    nside = hp.npix2nside(len(kappa_map))\n",
    "\n",
    "    almsE = hp.map2alm(kappa_map.real, lmax=lmax, pol=False)\n",
    "    almsB = hp.map2alm(kappa_map.imag, lmax=lmax, pol=False)\n",
    "    ell, emm = hp.Alm.getlm(lmax=lmax)\n",
    "\n",
    "    kalmsE = almsE / (1.0 * ((ell * (ell + 1.0)) / ((ell + 2.0) * (ell - 1))) ** 0.5)\n",
    "    kalmsE[ell == 0] = 0.0\n",
    "\n",
    "    kalmsB = almsB / (1.0 * ((ell * (ell + 1.0)) / ((ell + 2.0) * (ell - 1))) ** 0.5)\n",
    "    kalmsB[ell == 0] = 0.0\n",
    "\n",
    "    if downsample_nside is None:\n",
    "        _, gamma1, gamma2 = hp.alm2map(\n",
    "            [kalmsE * 0.0, kalmsE, kalmsB], nside=int(nside), pol=True\n",
    "        )\n",
    "    else:\n",
    "        assert downsample_nside <= nside\n",
    "        _, gamma1, gamma2 = hp.alm2map(\n",
    "            [kalmsE * 0.0, kalmsE, kalmsB], nside=int(downsample_nside), pol=True\n",
    "        )\n",
    "\n",
    "    return gamma1 + 1j * gamma2"
   ]
  },
  {
   "cell_type": "code",
   "execution_count": 21,
   "metadata": {},
   "outputs": [],
   "source": [
    "# Compute NLA prefactor\n",
    "f_nla_array = F_nla(z_snap, Om_m, A_ia=1, rho_crit=rho_crit)\n",
    "# Apply NLA prefactor to the density map to obtain the kappa_IA map\n",
    "kappa_ia_array = hp.ud_grade(density_map, hp.npix2nside(len(density_map))) * f_nla_array\n",
    "# Apply inverse Kaiser-Squires to obtain the IA map\n",
    "ia_alt = lensing.kappa2shear(kappa_ia_array, lmax=2048 * 4, downsample_nside=2048)"
   ]
  },
  {
   "cell_type": "markdown",
   "metadata": {},
   "source": [
    "## Comparison"
   ]
  },
  {
   "cell_type": "code",
   "execution_count": 28,
   "metadata": {},
   "outputs": [
    {
     "data": {
      "text/plain": [
       "array([1.00000002, 1.00000006, 1.00000011, ..., 1.00000003, 1.00000002,\n",
       "       1.00000009])"
      ]
     },
     "execution_count": 28,
     "metadata": {},
     "output_type": "execute_result"
    }
   ],
   "source": [
    "IA_NLA[0] / ia_alt.real"
   ]
  },
  {
   "cell_type": "code",
   "execution_count": 29,
   "metadata": {},
   "outputs": [
    {
     "data": {
      "text/plain": [
       "array([2.00000001, 2.00000004, 1.99999998, ..., 1.99999986, 1.99999986,\n",
       "       1.99999988])"
      ]
     },
     "execution_count": 29,
     "metadata": {},
     "output_type": "execute_result"
    }
   ],
   "source": [
    "IA_NLA[1] / ia_alt.imag"
   ]
  },
  {
   "cell_type": "code",
   "execution_count": null,
   "metadata": {},
   "outputs": [],
   "source": []
  }
 ],
 "metadata": {
  "kernelspec": {
   "display_name": "c3mockchallenge",
   "language": "python",
   "name": "c3mockchallenge"
  },
  "language_info": {
   "codemirror_mode": {
    "name": "ipython",
    "version": 3
   },
   "file_extension": ".py",
   "mimetype": "text/x-python",
   "name": "python",
   "nbconvert_exporter": "python",
   "pygments_lexer": "ipython3",
   "version": "3.11.4"
  }
 },
 "nbformat": 4,
 "nbformat_minor": 4
}
