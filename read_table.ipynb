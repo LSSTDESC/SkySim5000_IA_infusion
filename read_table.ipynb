{
 "cells": [
  {
   "cell_type": "code",
   "execution_count": 1,
   "id": "9587bdbc-86f4-4fac-b511-019662d3f799",
   "metadata": {},
   "outputs": [],
   "source": [
    "from astropy.io import fits"
   ]
  },
  {
   "cell_type": "code",
   "execution_count": 2,
   "id": "dacdffb3-bf6c-4614-82db-cbffefbea5a4",
   "metadata": {},
   "outputs": [],
   "source": [
    "hdul = fits.open('theo_prediction.fits')"
   ]
  },
  {
   "cell_type": "code",
   "execution_count": 3,
   "id": "63e825b3-245c-455a-ad1b-9d44c57fb7d5",
   "metadata": {},
   "outputs": [],
   "source": [
    "header=hdul[1].header"
   ]
  },
  {
   "cell_type": "code",
   "execution_count": 4,
   "id": "c809d7ab-298b-49d3-8679-bcda4d2ca9f6",
   "metadata": {},
   "outputs": [],
   "source": [
    "data=hdul[1].data"
   ]
  },
  {
   "cell_type": "code",
   "execution_count": 5,
   "id": "01e9c86f-94a1-4f2f-a167-fa657e1df902",
   "metadata": {},
   "outputs": [],
   "source": [
    "NO_IA_plus=data['NO IA+'] # Xi + (no ia)\n",
    "NO_IA_minus=data['NO IA-'] # Xi - (no ia)\n",
    "GI_plus=data['GI+']        #GI + (TATT) \n",
    "GI_minus=data['GI-']       #GI - (TATT)\n",
    "GI_NLA_plus=data['GI_NLA+']  #GI + (NLA),\n",
    "GI_NLA_minus=data['GI_NLA-']  #GI - (NLA)\n",
    "II_plus=data['II+']           #II + (TATT) \n",
    "II_minus=data['II-']         #II -   (TATT)\n",
    "II_NLA_plus=data['II_NLA+']  #II +   (NLA)\n",
    "II_NLA_minus=data['II_NLA-']     #II -  (NLA)\n",
    "theta=data['theta']            # Angular separation(s) in arcmin\n",
    "z_combination=data['bin_comb']  #redshift bin combination "
   ]
  }
 ],
 "metadata": {
  "kernelspec": {
   "display_name": "Python 3",
   "language": "python",
   "name": "python3"
  },
  "language_info": {
   "codemirror_mode": {
    "name": "ipython",
    "version": 3
   },
   "file_extension": ".py",
   "mimetype": "text/x-python",
   "name": "python",
   "nbconvert_exporter": "python",
   "pygments_lexer": "ipython3",
   "version": "3.7.4"
  }
 },
 "nbformat": 4,
 "nbformat_minor": 5
}
