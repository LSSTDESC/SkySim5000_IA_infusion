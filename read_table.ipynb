{
 "cells": [
  {
   "cell_type": "code",
   "execution_count": 1,
   "id": "9587bdbc-86f4-4fac-b511-019662d3f799",
   "metadata": {},
   "outputs": [
    {
     "name": "stdout",
     "output_type": "stream",
     "text": [
      "Populating the interactive namespace from numpy and matplotlib\n"
     ]
    }
   ],
   "source": [
    "from astropy.io import fits\n",
    "import numpy as np\n",
    "%pylab inline"
   ]
  },
  {
   "cell_type": "code",
   "execution_count": 2,
   "id": "dacdffb3-bf6c-4614-82db-cbffefbea5a4",
   "metadata": {},
   "outputs": [],
   "source": [
    "hdul = fits.open('theo_prediction.fits')"
   ]
  },
  {
   "cell_type": "code",
   "execution_count": 3,
   "id": "63e825b3-245c-455a-ad1b-9d44c57fb7d5",
   "metadata": {},
   "outputs": [],
   "source": [
    "header=hdul[1].header"
   ]
  },
  {
   "cell_type": "code",
   "execution_count": 4,
   "id": "c809d7ab-298b-49d3-8679-bcda4d2ca9f6",
   "metadata": {},
   "outputs": [],
   "source": [
    "data=hdul[1].data"
   ]
  },
  {
   "cell_type": "code",
   "execution_count": 5,
   "id": "01e9c86f-94a1-4f2f-a167-fa657e1df902",
   "metadata": {},
   "outputs": [],
   "source": [
    "NO_IA_plus=data['NO IA+'] # Xi + (no ia)\n",
    "NO_IA_minus=data['NO IA-'] # Xi - (no ia)\n",
    "GI_plus=data['GI+']        #GI + (TATT) \n",
    "GI_minus=data['GI-']       #GI - (TATT)\n",
    "GI_NLA_plus=data['GI_NLA+']  #GI + (NLA),\n",
    "GI_NLA_minus=data['GI_NLA-']  #GI - (NLA)\n",
    "II_plus=data['II+']           #II + (TATT) \n",
    "II_minus=data['II-']         #II -   (TATT)\n",
    "II_NLA_plus=data['II_NLA+']  #II +   (NLA)\n",
    "II_NLA_minus=data['II_NLA-']     #II -  (NLA)\n",
    "theta=data['theta']            # Angular separation(s) in arcmin\n",
    "z_combination=data['bin_comb']  #redshift bin combination "
   ]
  },
  {
   "cell_type": "code",
   "execution_count": 6,
   "id": "921093e7-3dfc-4a66-87eb-a22bf023038b",
   "metadata": {},
   "outputs": [
    {
     "data": {
      "text/plain": [
       "array([[8.02404187e-06, 6.14180300e-06, 4.95658525e-06, ...,\n",
       "        3.09791120e-07, 3.06581641e-07, 3.03423678e-07],\n",
       "       [1.56539415e-05, 1.17719633e-05, 9.34124707e-06, ...,\n",
       "        5.69931299e-07, 5.63525328e-07, 5.57224861e-07],\n",
       "       [4.18490321e-05, 3.09575007e-05, 2.40362959e-05, ...,\n",
       "        1.36935456e-06, 1.35143532e-06, 1.33383779e-06],\n",
       "       ...,\n",
       "       [1.15807652e-04, 8.58721509e-05, 6.62653484e-05, ...,\n",
       "        3.10667714e-06, 3.05665561e-06, 3.00768111e-06],\n",
       "       [1.68856450e-04, 1.26032382e-04, 9.81077740e-05, ...,\n",
       "        3.98527927e-06, 3.91521038e-06, 3.84672373e-06],\n",
       "       [2.57358358e-04, 1.93811314e-04, 1.53008622e-04, ...,\n",
       "        5.09783860e-06, 5.00059991e-06, 4.90581560e-06]])"
      ]
     },
     "execution_count": 6,
     "metadata": {},
     "output_type": "execute_result"
    }
   ],
   "source": [
    "NO_IA_plus"
   ]
  },
  {
   "cell_type": "code",
   "execution_count": 7,
   "id": "ea6a18ff-29d2-4c90-81f8-16b8cd367cb8",
   "metadata": {},
   "outputs": [
    {
     "data": {
      "text/plain": [
       "array([[1, 1],\n",
       "       [2, 1],\n",
       "       [2, 2],\n",
       "       [3, 1],\n",
       "       [3, 2],\n",
       "       [3, 3],\n",
       "       [4, 1],\n",
       "       [4, 2],\n",
       "       [4, 3],\n",
       "       [4, 4],\n",
       "       [5, 1],\n",
       "       [5, 2],\n",
       "       [5, 3],\n",
       "       [5, 4],\n",
       "       [5, 5]])"
      ]
     },
     "execution_count": 7,
     "metadata": {},
     "output_type": "execute_result"
    }
   ],
   "source": [
    "z_combination"
   ]
  },
  {
   "cell_type": "code",
   "execution_count": 8,
   "id": "b28548b9-c72b-4144-8e21-7413814b0054",
   "metadata": {},
   "outputs": [
    {
     "data": {
      "text/plain": [
       "(15, 99)"
      ]
     },
     "execution_count": 8,
     "metadata": {},
     "output_type": "execute_result"
    }
   ],
   "source": [
    "np.shape(NO_IA_plus)"
   ]
  },
  {
   "cell_type": "code",
   "execution_count": 11,
   "id": "92e83ba9-3194-4e5c-88fa-9fb5e8fe8091",
   "metadata": {},
   "outputs": [
    {
     "data": {
      "text/plain": [
       "<function matplotlib.pyplot.show(close=None, block=None)>"
      ]
     },
     "execution_count": 11,
     "metadata": {},
     "output_type": "execute_result"
    },
    {
     "data": {
      "image/png": "[encoded data removed]",
      "text/plain": [
       "<Figure size 432x288 with 1 Axes>"
      ]
     },
     "metadata": {
      "needs_background": "light"
     },
     "output_type": "display_data"
    }
   ],
   "source": [
    "plot(theta[0,:],NO_IA_plus[0,:],'k-')\n",
    "plot(theta[0,:],NO_IA_minus[0,:],'b-')\n",
    "\n",
    "plot(theta[0,:],NO_IA_plus[2,:],'k-')\n",
    "plot(theta[0,:],NO_IA_minus[2,:],'b-')\n",
    "\n",
    "plot(theta[0,:],NO_IA_plus[5,:],'k-')\n",
    "plot(theta[0,:],NO_IA_minus[5,:],'b-')\n",
    "\n",
    "plot(theta[0,:],NO_IA_plus[9,:],'k-')\n",
    "plot(theta[0,:],NO_IA_minus[9,:],'b-')\n",
    "\n",
    "plot(theta[0,:],NO_IA_plus[14,:],'r-')\n",
    "plot(theta[0,:],NO_IA_minus[14,:],'r-')\n",
    "\n",
    "\n",
    "\n",
    "plt.show"
   ]
  },
  {
   "cell_type": "code",
   "execution_count": 32,
   "id": "9ba303bd-c4ad-4e51-9d9d-eb4a807f4d3d",
   "metadata": {},
   "outputs": [
    {
     "name": "stdout",
     "output_type": "stream",
     "text": [
      "[5, 3]\n",
      "5 3\n",
      "Will use column 12\n"
     ]
    }
   ],
   "source": [
    "tomo_pair = [5, 3]\n",
    "print(tomo_pair)\n",
    "for tomo in range(0,15):\n",
    "    if(z_combination[tomo][0]==tomo_pair[0] and z_combination[tomo][1]==tomo_pair[1] ):\n",
    "        print(z_combination[tomo][0], z_combination[tomo][1])\n",
    "        print(\"Will use column\",tomo)"
   ]
  },
  {
   "cell_type": "code",
   "execution_count": null,
   "id": "efe1b923-bc62-4e77-9a0e-be00b28892c4",
   "metadata": {},
   "outputs": [],
   "source": []
  }
 ],
 "metadata": {
  "kernelspec": {
   "display_name": "desc-python-dev",
   "language": "python",
   "name": "desc-python-dev"
  },
  "language_info": {
   "codemirror_mode": {
    "name": "ipython",
    "version": 3
   },
   "file_extension": ".py",
   "mimetype": "text/x-python",
   "name": "python",
   "nbconvert_exporter": "python",
   "pygments_lexer": "ipython3",
   "version": "3.8.12"
  }
 },
 "nbformat": 4,
 "nbformat_minor": 5
}
