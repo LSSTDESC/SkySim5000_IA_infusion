{
 "cells": [
  {
   "cell_type": "code",
   "execution_count": 1,
   "id": "f2482bb0-6aef-409f-9491-70e47881efa7",
   "metadata": {},
   "outputs": [],
   "source": [
    "import numpy as np\n",
    "from astropy.table import Table"
   ]
  },
  {
   "cell_type": "markdown",
   "id": "6c1cc066-b7aa-49ad-9764-011b6f343194",
   "metadata": {},
   "source": [
    "We use the constants for different IA models as inputs"
   ]
  },
  {
   "cell_type": "code",
   "execution_count": 2,
   "id": "628e5cc6-2685-4151-b4bc-bcdec02f1d05",
   "metadata": {},
   "outputs": [],
   "source": [
    "A_IA = 1\n",
    "b_TA = 0\n",
    "C_2= 0\n",
    "##I think I'm forgetting something here"
   ]
  },
  {
   "cell_type": "markdown",
   "id": "d298a125-6c33-404d-89ec-58598ab919ab",
   "metadata": {},
   "source": [
    "The intensity of the NLA, delta-NLA and TT models can be chosen by tweaking the numbers above, this can probably be changed for some calculation involving weights given to each model but that's up for discussion, for now, we setup for the observed epsilons with and without noise, using the provided parameters"
   ]
  },
  {
   "cell_type": "code",
   "execution_count": 3,
   "id": "f0f13178-07aa-402f-a862-cf2f7a8e253a",
   "metadata": {},
   "outputs": [],
   "source": [
    "for i in np.arange(5)+1:\n",
    "    catalog = Table.read('/global/homes/j/jharno/IA-infusion/SkySim5000/GalCat/StageIV_nz/GalCat_tomo{}_All_0.06GpAM_RA_Dec_g1_g2_w_den_Sij.dat'.format(i),\n",
    "                     format='ascii')  # descriptions=['ra_deg', 'dec_deg', 'shear1', 'shear2', 'weight', 'z_true', 'delta', 's11', 's22', 's12'])\n",
    "    epsilons = Table.read('/global/cscratch1/sd/dlan/SkySim5000_IA_infusion/epsilon_{}.dat'.format(i), format='ascii')  #descriptions=['e1','e2','e1_noise','e2_noise']\n",
    "    \n",
    "    ra=np.asarray(catalog['col1'])\n",
    "    dec=np.asarray(catalog['col2'])\n",
    "    weight=np.asarray(catalog['col5'])\n",
    "    z=np.asarray(catalog['col6'])\n",
    "    gamma1 = np.asarray(catalog['col3'])\n",
    "    gamma2 = np.asarray(catalog['col4'])\n",
    "    e1_NLA = np.asarray(epsilons['e1_NLA'])\n",
    "    e2_NLA = np.asarray(epsilons['e2_NLA'])\n",
    "    e1_TT = np.asarray(epsilons['e1_TT'])\n",
    "    e2_TT = np.asarray(epsilons['e2_TT'])\n",
    "    e1_noise = np.asarray(epsilons['e1_noise'])\n",
    "    e2_noise = np.asarray(epsilons['e2_noise'])\n",
    "    delta = np.asarray(catalog['col7'])\n",
    "    epsilon_NLA = np.empty(e1_NLA.shape, dtype = complex)\n",
    "    epsilon_NLA.real = A_IA * e1_NLA  \n",
    "    epsilon_NLA.imag = A_IA * e2_NLA\n",
    "    epsilon_TT = np.empty(e1_TT.shape, dtype = complex)\n",
    "    epsilon_TT.real = C_2 * e1_TT  \n",
    "    epsilon_TT.imag = C_2 * e2_TT\n",
    "    epsilon_random = np.empty(e1_TT.shape, dtype = complex)\n",
    "    epsilon_random.real = e1_noise\n",
    "    epsilon_random.imag = e2_noise\n",
    "    g = np.empty(gamma1.shape, dtype=complex)\n",
    "    g.real = gamma1\n",
    "    g.imag = gamma2\n",
    "    #And finally, we calculate the observed epsilons using the summation as in equation 11 of the paper\n",
    "    epsilon_IA_TATT = epsilon_NLA * (1 + b_TA * delta) + epsilon_TT\n",
    "    epsilon_int = (epsilon_IA_TATT + epsilon_random)/(1 + np.conjugate(epsilon_IA_TATT) * epsilon_random)\n",
    "    epsilon_obs = (epsilon_int + g)/(1 + np.conjugate(epsilon_int) * g)\n",
    "    epsilon_obs_no_noise = (epsilon_IA_TATT + g)/(1 + epsilon_IA_TATT * np.conjugate(g))\n",
    "   \n",
    "    fin_epsilon = Table([ra,dec,z,weight,delta,epsilon_obs.real,epsilon_obs.imag,epsilon_obs_no_noise.real,epsilon_obs_no_noise.imag,epsilon_IA_TATT.real,epsilon_IA_TATT.imag], names = ('ra','dec','z','weight','delta','e_obs_1','e_obs_2', 'e_obs_no_noise_1','e_obs_no_noise_2','e_IA_TATT_1', 'e_IA_TATT_2' ))\n",
    "    fin_epsilon.write('/global/cscratch1/sd/dlan/SkySim5000_IA_infusion/fin_epsilon_IA_{}.dat'.format(i), format='ascii', overwrite=True)"
   ]
  },
  {
   "cell_type": "code",
   "execution_count": null,
   "id": "561c04d0-8c88-40ce-8564-621080c88d32",
   "metadata": {},
   "outputs": [],
   "source": []
  }
 ],
 "metadata": {
  "kernelspec": {
   "display_name": "desc-python",
   "language": "python",
   "name": "desc-python"
  },
  "language_info": {
   "codemirror_mode": {
    "name": "ipython",
    "version": 3
   },
   "file_extension": ".py",
   "mimetype": "text/x-python",
   "name": "python",
   "nbconvert_exporter": "python",
   "pygments_lexer": "ipython3",
   "version": "3.8.12"
  }
 },
 "nbformat": 4,
 "nbformat_minor": 5
}
