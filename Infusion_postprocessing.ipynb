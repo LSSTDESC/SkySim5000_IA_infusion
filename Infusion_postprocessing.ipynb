{
 "cells": [
  {
   "cell_type": "code",
   "execution_count": 10,
   "id": "f2482bb0-6aef-409f-9491-70e47881efa7",
   "metadata": {},
   "outputs": [],
   "source": [
    "import numpy as np\n",
    "from astropy.table import Table\n",
    "catalog = Table.read('/global/cscratch1/sd/jharno/IA_Infusion/GalCat_tomo1_All_0.06GpAM_RA_Dec_g1_g2_w_den_Sij.dat',\n",
    "                     format='ascii')  # descriptions=['ra_deg', 'dec_deg', 'shear1', 'shear2', 'weight', 'z_true', 'delta', 's11', 's22', 's12'])\n",
    "epsilons = Table.read('/global/cscratch1/sd/lhior/epsilon.dat', format='ascii')  #descriptions=['e1','e2','e1_noise','e2_noise']\n",
    "\n",
    "gamma1 = np.asarray(catalog['col3'])\n",
    "gamma2 = np.asarray(catalog['col4'])\n",
    "e1 = np.asarray(epsilons['e1'])\n",
    "e2 = np.asarray(epsilons['e2'])\n",
    "e1_noise = np.asarray(epsilons['e1_noise'])\n",
    "e2_noise = np.asarray(epsilons['e2_noise'])\n",
    "delta = np.asarray(catalog['col7'])"
   ]
  },
  {
   "cell_type": "markdown",
   "id": "ecafec91-2673-4f95-8700-210dbecb4e2b",
   "metadata": {},
   "source": [
    "We use the constants for different IA models as inputs"
   ]
  },
  {
   "cell_type": "code",
   "execution_count": 7,
   "id": "52b3dbae-ad96-4a2c-80ea-d9cc5c47d07a",
   "metadata": {},
   "outputs": [],
   "source": [
    "A_IA = 1\n",
    "b_TA = 0\n",
    "##I think I'm forgetting something here"
   ]
  },
  {
   "cell_type": "markdown",
   "id": "4a2936fe-9ebe-4d91-821f-b42dfe58a11e",
   "metadata": {},
   "source": [
    "The intensity of the NLA and delta-NLA models can be chosen by tweaking the numbers above, this can probably be changed for some calculation involving weights given to each model but that's up for discussion, for now, we setup for the observed epsilons with and without noise, using the provided parameters"
   ]
  },
  {
   "cell_type": "code",
   "execution_count": 18,
   "id": "32cbc7a0-c99f-4c04-a53b-c9c6d4fc599b",
   "metadata": {},
   "outputs": [],
   "source": [
    "epsilon_IA = np.empty(e1.shape, dtype = complex)\n",
    "epsilon_IA.real = A_IA * e1  \n",
    "epsilon_IA.imag = A_IA * e2\n",
    "epsilon_random = np.empty(e1.shape, dtype = complex)\n",
    "epsilon_random.real = e1_noise\n",
    "epsilon_random.imag = e2_noise\n",
    "g = np.empty(gamma1.shape, dtype=complex)\n",
    "g.real = gamma1\n",
    "g.imag = gamma2"
   ]
  },
  {
   "cell_type": "markdown",
   "id": "3068f754-7604-46d0-8e16-aa7bac4db6b0",
   "metadata": {},
   "source": [
    "And finally, we calculate the observed epsilons using the summation as in equation 11 of the paper"
   ]
  },
  {
   "cell_type": "code",
   "execution_count": 19,
   "id": "df1ccf0d-291e-4fb9-a72b-a3db51df087e",
   "metadata": {},
   "outputs": [],
   "source": [
    "epsilon_IA_delta = epsilon_IA * (1 + b_TA * delta) #Placeholder since current deltas are not final, simplifies to epsilon_IA for b_TA = 0\n",
    "epsilon_int = (epsilon_IA_delta + epsilon_random)/(1 + epsilon_IA_delta * epsilon_random)\n",
    "epsilon_obs = (epsilon_int + g)/(1 + epsilon_int * g)\n",
    "epsilon_obs_no_noise = (epsilon_IA_delta + g)/(1 + epsilon_IA_delta * g)"
   ]
  },
  {
   "cell_type": "code",
   "execution_count": null,
   "id": "6b83578a-0cfb-40e9-be27-d021e040c48b",
   "metadata": {},
   "outputs": [],
   "source": []
  }
 ],
 "metadata": {
  "kernelspec": {
   "display_name": "Python 3 (ipykernel)",
   "language": "python",
   "name": "python3"
  },
  "language_info": {
   "codemirror_mode": {
    "name": "ipython",
    "version": 3
   },
   "file_extension": ".py",
   "mimetype": "text/x-python",
   "name": "python",
   "nbconvert_exporter": "python",
   "pygments_lexer": "ipython3",
   "version": "3.8.10"
  }
 },
 "nbformat": 4,
 "nbformat_minor": 5
}
