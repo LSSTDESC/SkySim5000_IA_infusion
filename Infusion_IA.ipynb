{
 "cells": [
  {
   "cell_type": "code",
   "execution_count": 1,
   "id": "991a9da9-18bf-4931-a62c-8d6c9c9973ed",
   "metadata": {},
   "outputs": [
    {
     "name": "stdout",
     "output_type": "stream",
     "text": [
      "%pylab is deprecated, use %matplotlib inline and import the required libraries.\n",
      "Populating the interactive namespace from numpy and matplotlib\n"
     ]
    }
   ],
   "source": [
    "%pylab inline\n",
    "%load_ext autoreload\n",
    "%autoreload 2\n",
    "import pyccl.ccllib as lib\n",
    "import pyccl as ccl\n",
    "import pyccl.nl_pt as pt\n",
    "from astropy.table import Table\n",
    "import numpy as np"
   ]
  },
  {
   "cell_type": "code",
   "execution_count": 2,
   "id": "b8d52a89-6c5e-4183-bdcc-c54b1f6f4df2",
   "metadata": {},
   "outputs": [],
   "source": [
    "cosmo = ccl.Cosmology(\n",
    "    Omega_c=0.22, Omega_b=0.0448, \n",
    "    h=0.71, sigma8 = 0.801, n_s= 0.963,w0=-1.00,wa=0.0, Omega_k=0.0)\n",
    "\n",
    "Om_m = cosmo['Omega_m']\n",
    "rho_crit = lib.cvar.constants.RHO_CRITICAL\n",
    "Aia=1.0 #1.5,2\n",
    "C2=1.0\n",
    "sigma_epsilon = 0.27"
   ]
  },
  {
   "cell_type": "code",
   "execution_count": 3,
   "id": "1af0b54a-4420-452b-a125-b08768f8a060",
   "metadata": {},
   "outputs": [],
   "source": [
    "def Epsilon1_NLA(cosmo,z,A1,rho_crit,sxx,syy):\n",
    "    gz = ccl.growth_factor(cosmo, 1./(1+z))\n",
    "    Fact = -1*A1*5e-14*rho_crit*cosmo['Omega_m']/gz\n",
    "    e1_NLA =  Fact  * (sxx - syy) \n",
    "    return e1_NLA\n",
    "\n",
    "def Epsilon2_NLA(cosmo,z,A1,rho_crit,sxy):\n",
    "    gz = ccl.growth_factor(cosmo, 1./(1+z))\n",
    "    Fact = -1*A1*5e-14*rho_crit*cosmo['Omega_m']/gz\n",
    "    e2_NLA = Fact* sxy\n",
    "    return e2_NLA\n",
    "\n",
    "def Epsilon1_TT(cosmo,z,A2,rho_crit,sxx,syy):\n",
    "    gz = ccl.growth_factor(cosmo, 1./(1+z))\n",
    "    Fact =  -5*A2*5e-14*rho_crit*cosmo['Omega_m']/gz**2\n",
    "    e1_TT =  Fact * (sxx**2 - syy**2) \n",
    "    return e1_TT\n",
    "\n",
    "def Epsilon2_TT(cosmo,z,A2,rho_crit,sxx,syy,sxy):\n",
    "    gz = ccl.growth_factor(cosmo, 1./(1+z))\n",
    "    Fact =  -5*A2*5e-14*rho_crit*cosmo['Omega_m']/gz**2\n",
    "    e2_TT =  Fact * sxy*(sxx+syy)\n",
    "    return e2_TT\n"
   ]
  },
  {
   "cell_type": "code",
   "execution_count": 4,
   "id": "1e52868b-9f29-429d-9b68-ed89c493ae5a",
   "metadata": {},
   "outputs": [
    {
     "name": "stderr",
     "output_type": "stream",
     "text": [
      "\n",
      "KeyboardInterrupt\n",
      "\n"
     ]
    }
   ],
   "source": [
    "for i in np.arange(1,6):\n",
    "\n",
    "    # This sometimes takes huge amount of memory, when astropy table gets bunkers. \n",
    "    # Use the next cell if that happens\n",
    "    \n",
    "    # descriptions=['ra_deg', 'dec_deg', 'shear1', 'shear2', 'weight', 'z_true', 'delta', 's11', 's22', 's12']\n",
    "    \n",
    "    \n",
    "    #SkySim\n",
    "    #catalog = Table.read('/global/cscratch1/sd/jharno/IA_Infusion/GalCat_tomo{}_All_0.06GpAM_RA_Dec_g1_g2_w_den_Sij.dat'.format(i), format='ascii')  \n",
    "    #catalog = Table.read('/global/cscratch1/sd/jharno/IA_Infusion/GalCat_tomo{}_All_0.06GpAM_RA_Dec_g1_g2_w_den_Sij_smooth.dat'.format(i), format='ascii')  \n",
    "\n",
    "    #V0\n",
    "    #catalog = Table.read('../../GalCat/StageIV_nz/V0/GalCat_tomo{}_All_0.06GpAM_RA_Dec_g1_g2_w_den_Sij.dat'.format(i), format='ascii')  \n",
    "    #catalog = Table.read('../../GalCat/StageIV_nz/V0/GalCat_tomo{}_All_0.06GpAM_RA_Dec_g1_g2_w_den_Sij_smooth.dat'.format(i), format='ascii')  \n",
    "    #catalog = Table.read('../../GalCat/SRD-Y1/random_pos/GalCat_tomo{}_All_0.6GpAM_RA_Dec_g1_g2_w_z_den_Sij_smooth0.5Mpc.asc'.format(i), format='ascii')  \n",
    "    \n",
    "    #V1\n",
    "    #catalog = Table.read('../../GalCat/StageIV_nz/V1/GalCat_tomo{}_All_0.06GpAM_RA_Dec_g1_g2_w_z_den_Sij_linear_bias.asc'.format(i), format='ascii')  \n",
    "    #catalog = Table.read('../../GalCat/StageIV_nz/V1/GalCat_tomo{}_All_0.06GpAM_RA_Dec_g1_g2_w_z_den_Sij_linear_bias_smooth.asc'.format(i), format='ascii')  \n",
    "    #catalog = Table.read('../../GalCat/StageIV_nz/V1/GalCat_tomo{}_All_0.6GpAM_RA_Dec_g1_g2_w_z_den_Sij_linear_bias_smooth.asc'.format(i), format='ascii')  \n",
    "    #catalog = Table.read('../../GalCat/StageIV_nz/V1/GalCat_tomo{}_All_0.06GpAM_RA_Dec_g1_g2_w_z_den_Sij_linear_bias_smooth_1Mpc.asc'.format(i), format='ascii')  \n",
    "    #catalog = Table.read('../../GalCat/SRD-Y1/lin_bias_pos/GalCat_tomo{}_All_0.6GpAM_RA_Dec_g1_g2_w_z_den_Sij_smooth0.1Mpc.asc'.format(i), format='ascii')  \n",
    "    #catalog = Table.read('../../GalCat/SRD-Y1/lin_bias_pos/GalCat_tomo{}_All_0.6GpAM_RA_Dec_g1_g2_w_z_den_Sij_linear_bias_smooth1_bta1_smooth0.1Mpc.asc'.format(i), format='ascii')\n",
    "    catalog = Table.read('../../GalCat/SRD-Y1/lin_bias_pos/GalCat_tomo{}_All_0.6GpAM_RA_Dec_g1_g2_w_z_den_Sij_linear_bias_smooth1_bta1_smooth0.5Mpc.asc'.format(i), format='ascii')\n",
    "    \n",
    "    \n",
    "    print('Got Gatalogue')\n",
    "    \n",
    "    s11=catalog['col8']\n",
    "    s22=catalog['col9']\n",
    "    s12=catalog['col10']\n",
    "    z=catalog['col6']\n",
    "    \n",
    "    e1_NLA=Epsilon1_NLA(cosmo,z,Aia,rho_crit,s11,s22)\n",
    "    e2_NLA=Epsilon2_NLA(cosmo,z,Aia,rho_crit,s12)\n",
    "    \n",
    "    e1_TT=Epsilon1_TT(cosmo,z,C2,rho_crit,s11,s22)\n",
    "    e2_TT=Epsilon2_TT(cosmo,z,C2,rho_crit,s11,s22,s12)\n",
    "\n",
    "    random1=np.random.normal(0, sigma_epsilon, e1_NLA.shape)\n",
    "    random2=np.random.normal(0, sigma_epsilon, e2_NLA.shape)\n",
    "    \n",
    "    print('Got Shapes')\n",
    "    \n",
    "    epsilon = Table([e1_NLA, e2_NLA, e1_TT, e2_TT, random1, random2], names = ('e1_NLA', 'e2_NLA', 'e1_TT', 'e2_TT', 'e1_noise', 'e2_noise'))\n",
    "\n",
    "    #epsilon.write('/global/cscratch1/sd/jharno/epsilon_{}.dat'.format(i), format='ascii', overwrite=True)    \n",
    "    #epsilon.write('/global/cscratch1/sd/jharno/epsilon_{}_smooth.dat'.format(i), format='ascii', overwrite=True)    \n",
    "\n",
    "    #***\n",
    "    #V0:\n",
    "    #epsilon.write('../../GalCat/StageIV_nz/V0/epsilon_{}_0.06GpAM_V2.asc'.format(i), format='ascii', overwrite=True)    \n",
    "    #epsilon.write('../../GalCat/StageIV_nz/V0/epsilon_{}_0.06GpAM_smooth_V2.asc'.format(i), format='ascii', overwrite=True)    \n",
    "    #epsilon.write('../../GalCat/SRD-Y1/random_pos/epsilon_{}_0.6GpAM_smooth0.5.asc'.format(i), format='ascii', overwrite=True)    \n",
    "\n",
    "    #***\n",
    "    #V1\n",
    "    #epsilon.write('../../GalCat/StageIV_nz/V1/epsilon_{}_0.06GpAM_linear_bias.asc'.format(i), format='ascii', overwrite=True)    \n",
    "    #epsilon.write('../../GalCat/StageIV_nz/V1/epsilon_{}_0.06GpAM_linear_bias_smooth.asc'.format(i), format='ascii', overwrite=True)    \n",
    "    #epsilon.write('../../GalCat/StageIV_nz/V1/epsilon_{}_0.6GpAM_linear_bias_smooth.asc'.format(i), format='ascii', overwrite=True)    \n",
    "    #epsilon.write('../../GalCat/StageIV_nz/V1/epsilon_{}_0.06GpAM_linear_bias_smooth_1Mpc.asc'.format(i), format='ascii', overwrite=True)    \n",
    "    #epsilon.write('../../GalCat/SRD-Y1/lin_bias_pos/epsilon_{}_0.6GpAM_linear_bias_smooth1_bta1_smooth01Mpc.asc'.format(i), format='ascii', overwrite=True)    \n",
    "    epsilon.write('../../GalCat/SRD-Y1/lin_bias_pos/epsilon_{}_0.6GpAM_linear_bias_smooth1_bta1_smooth05Mpc.asc'.format(i), format='ascii', overwrite=True)    \n",
    "\n",
    "    print('Done tomo',i)"
   ]
  },
  {
   "cell_type": "code",
   "execution_count": 4,
   "id": "bc80065e-a899-48b1-9aa2-050f6db00f24",
   "metadata": {},
   "outputs": [
    {
     "name": "stdout",
     "output_type": "stream",
     "text": [
      "Got Gatalogue\n",
      "Got Shapes\n",
      "Done tomo 1\n",
      "Got Gatalogue\n",
      "Got Shapes\n",
      "Done tomo 2\n",
      "Got Gatalogue\n",
      "Got Shapes\n",
      "Done tomo 3\n",
      "Got Gatalogue\n",
      "Got Shapes\n",
      "Done tomo 4\n",
      "Got Gatalogue\n",
      "Got Shapes\n",
      "Done tomo 5\n"
     ]
    }
   ],
   "source": [
    "for i in np.arange(1,6):\n",
    "    #SkySim5000\n",
    "    #catalog = np.loadtxt('../../GalCat/StageIV_nz/V1/GalCat_tomo'+str(i)+'_All_0.6GpAM_RA_Dec_g1_g2_w_z_den_Sij_linear_bias_smooth.asc')  \n",
    "    #catalog = np.loadtxt('../../GalCat/StageIV_nz/V1/GalCat_tomo'+str(i)+'_All_0.6GpAM_RA_Dec_g1_g2_w_z_den_Sij_linear_bias_smooth_bta2.asc')  \n",
    "    #catalog = np.loadtxt('../../GalCat/SRD-Y1/random_pos/GalCat_tomo'+str(i)+'_All_0.6GpAM_RA_Dec_g1_g2_w_z_den_Sij_smooth0.1Mpc.asc')  \n",
    "    #catalog = np.loadtxt('../../GalCat/SRD-Y1/random_pos/GalCat_tomo'+str(i)+'_All_0.6GpAM_RA_Dec_g1_g2_w_z_den_Sij_smooth0.5Mpc.asc')  \n",
    "    #catalog = np.loadtxt('../../GalCat/SRD-Y1/lin_bias_pos/GalCat_tomo'+str(i)+'_All_0.6GpAM_RA_Dec_g1_g2_w_z_den_Sij_linear_bias_bta1_smooth0.5Mpc.asc')  \n",
    "    #catalog = np.loadtxt('../../GalCat/SRD-Y1/lin_bias_pos/GalCat_tomo'+str(i)+'_All_0.6GpAM_RA_Dec_g1_g2_w_z_den_Sij_linear_bias_bta2_smooth0.5Mpc.asc')  \n",
    "    #catalog = np.loadtxt('../../GalCat/SRD-Y1/lin_bias_pos/GalCat_tomo'+str(i)+'_All_0.6GpAM_RA_Dec_g1_g2_w_z_den_Sij_linear_bias_smooth1_bta1_smooth0.5Mpc.asc')\n",
    "    #catalog = np.loadtxt('../../GalCat/SRD-Y1/lin_bias_pos/GalCat_tomo'+str(i)+'_All_0.6GpAM_RA_Dec_g1_g2_w_z_den_Sij_linear_bias_smooth1_bta2_smooth0.5Mpc.asc')\n",
    "\n",
    "    #HACC/BCM:\n",
    "    catalog = np.loadtxt('../../../BCM/dmo/GalCat/GalCat_tomo'+str(i)+'_All_0.6GpAM_RA_Dec_g1_g2_w_z_den_Sij_smooth0.5Mpc.asc')\n",
    "   \n",
    "    print('Got Gatalogue')\n",
    "\n",
    "    s11=catalog[:,7]\n",
    "    s22=catalog[:,8]\n",
    "    s12=catalog[:,9]\n",
    "    z=catalog[:,5]\n",
    "\n",
    "    e1_NLA=Epsilon1_NLA(cosmo,z,Aia,rho_crit,s11,s22)\n",
    "    e2_NLA=Epsilon2_NLA(cosmo,z,Aia,rho_crit,s12)\n",
    "\n",
    "    e1_TT=Epsilon1_TT(cosmo,z,C2,rho_crit,s11,s22)\n",
    "    e2_TT=Epsilon2_TT(cosmo,z,C2,rho_crit,s11,s22,s12)\n",
    "\n",
    "    random1=np.random.normal(0, sigma_epsilon, e1_NLA.shape)\n",
    "    random2=np.random.normal(0, sigma_epsilon, e2_NLA.shape)\n",
    "\n",
    "    print('Got Shapes')\n",
    "\n",
    "    epsilon = Table([e1_NLA, e2_NLA, e1_TT, e2_TT, random1, random2], names = ('e1_NLA', 'e2_NLA', 'e1_TT', 'e2_TT', 'e1_noise', 'e2_noise'))\n",
    "\n",
    "    #SkySim5000:\n",
    "    #epsilon.write('../../GalCat/StageIV_nz/V1/epsilon_{}_0.6GpAM_linear_bias_smooth.asc'.format(i), format='ascii', overwrite=True)    \n",
    "    #epsilon.write('../../GalCat/StageIV_nz/V1/epsilon_{}_0.6GpAM_linear_bias_smooth_bta2.asc'.format(i), format='ascii', overwrite=True)    \n",
    "    #epsilon.write('../../GalCat/StageIV_nz/V1/epsilon_{}_0.06GpAM_linear_bias_smooth_1Mpc.asc'.format(i), format='ascii', overwrite=True)    \n",
    "    #epsilon.write('../../GalCat/SRD-Y1/random_pos/epsilon_{}_0.6GpAM_smooth0.1Mpc.asc'.format(i), format='ascii', overwrite=True)    \n",
    "    #epsilon.write('../../GalCat/SRD-Y1/random_pos/epsilon_{}_0.6GpAM_smooth0.5Mpc.asc'.format(i), format='ascii', overwrite=True)    \n",
    "    #epsilon.write('../../GalCat/SRD-Y1/random_pos/epsilon_{}_0.6GpAM_smooth0.5Mpc_nofactor2.asc'.format(i), format='ascii', overwrite=True)    \n",
    "    #epsilon.write('../../GalCat/SRD-Y1/lin_bias_pos/epsilon_{}_0.6GpAM_smooth0.5Mpc.asc'.format(i), format='ascii', overwrite=True)    \n",
    "    #epsilon.write('../../GalCat/SRD-Y1/lin_bias_pos/epsilon_{}_0.6GpAM_smooth_bta2_0.5Mpc.asc'.format(i), format='ascii', overwrite=True)    \n",
    "    #epsilon.write('../../GalCat/SRD-Y1/lin_bias_pos/epsilon_{}_0.6GpAM_linear_bias_smooth1_bta1_smooth05Mpc_nofactor2.asc'.format(i), format='ascii', overwrite=True)    \n",
    "    #epsilon.write('../../GalCat/SRD-Y1/lin_bias_pos/epsilon_{}_0.6GpAM_linear_bias_smooth1_bta2_smooth05Mpc.asc'.format(i), format='ascii', overwrite=True)    \n",
    "\n",
    "    #HACC/BCM:\n",
    "    epsilon.write('../../../BCM/dmo/GalCat/epsilon_{}_0.6GpAM_smooth05Mpc.asc'.format(i), format='ascii', overwrite=True)    \n",
    "    \n",
    "    print('Done tomo',i)"
   ]
  },
  {
   "cell_type": "code",
   "execution_count": null,
   "id": "b635bab1-4aff-4dcd-8428-9e38d53274a7",
   "metadata": {},
   "outputs": [],
   "source": []
  },
  {
   "cell_type": "code",
   "execution_count": 9,
   "id": "e17cee48-e118-4235-94cf-e4cbb717bd9b",
   "metadata": {},
   "outputs": [
    {
     "name": "stdout",
     "output_type": "stream",
     "text": [
      "Got Gatalogue\n",
      "Got Shapes\n",
      "Done tomo 1\n",
      "Got Gatalogue\n",
      "Got Shapes\n",
      "Done tomo 2\n",
      "Got Gatalogue\n",
      "Got Shapes\n",
      "Done tomo 3\n",
      "Got Gatalogue\n",
      "Got Shapes\n",
      "Done tomo 4\n",
      "Got Gatalogue\n",
      "Got Shapes\n",
      "Done tomo 5\n"
     ]
    }
   ],
   "source": [
    "for i in np.arange(1,6):\n",
    "    z,s11,s12,s22 = np.loadtxt('../../GalCat/HOD/FromCharlie/GalCat_tomo'+str(i)+'_06GpAM_new.dat', usecols = (1,13,14,15), unpack=True)\n",
    "\n",
    "    print('Got Gatalogue')\n",
    "\n",
    "    #s11=catalog[:,13]\n",
    "    #s22=catalog[:,15]\n",
    "    #s12=catalog[:,14]\n",
    "    #z=catalog[:,2]\n",
    "\n",
    "    e1_NLA=Epsilon1_NLA(cosmo,z,Aia,rho_crit,s11,s22)\n",
    "    e2_NLA=Epsilon2_NLA(cosmo,z,Aia,rho_crit,s12)\n",
    "\n",
    "    e1_TT=Epsilon1_TT(cosmo,z,C2,rho_crit,s11,s22)\n",
    "    e2_TT=Epsilon2_TT(cosmo,z,C2,rho_crit,s11,s22,s12)\n",
    "\n",
    "    random1=np.random.normal(0, sigma_epsilon, e1_NLA.shape)\n",
    "    random2=np.random.normal(0, sigma_epsilon, e2_NLA.shape)\n",
    "\n",
    "    print('Got Shapes')\n",
    "\n",
    "    epsilon = Table([e1_NLA, e2_NLA, e1_TT, e2_TT, random1, random2], names = ('e1_NLA', 'e2_NLA', 'e1_TT', 'e2_TT', 'e1_noise', 'e2_noise'))\n",
    "\n",
    "    epsilon.write('../../GalCat/HOD/FromCharlie/epsilon_{}_0.6GpAM.asc'.format(i), format='ascii', overwrite=True)    \n",
    "\n",
    "    print('Done tomo',i)"
   ]
  },
  {
   "cell_type": "code",
   "execution_count": 4,
   "id": "eecf98c5-e9d1-46c5-8a03-35c80adaa51c",
   "metadata": {},
   "outputs": [
    {
     "name": "stdout",
     "output_type": "stream",
     "text": [
      "Got Shapes\n",
      "Done tomo 1\n",
      "Got Shapes\n",
      "Done tomo 2\n",
      "Got Shapes\n",
      "Done tomo 3\n",
      "Got Shapes\n",
      "Done tomo 4\n",
      "Got Shapes\n",
      "Done tomo 5\n"
     ]
    }
   ],
   "source": [
    "from astropy.io import fits\n",
    "\n",
    "\n",
    "# HACC catalogues\n",
    "nside=8192\n",
    "n_shells=101\n",
    "seed=0\n",
    "# dndz_flag='Euclid_dndz_fu08_bin1-5'\n",
    "dndz_flag='SRDv1_nz'\n",
    "kappa_dir=dndz_flag\n",
    "folder_path='/pscratch/sd/j/jmena/HOS_Sims/HACC150_3/shells_z'+str(n_shells)+'_subsampledensitymax1.5_nside'+str(nside)+'/'+kappa_dir\n",
    "filename='kappa_hacc_seed'+str(seed)+'_nside'+str(nside)+'_'\n",
    "\n",
    "nshells=51\n",
    "for i in range(1,6):\n",
    "    filename1 = folder_path+'/'+filename+'catpoisson_interppixels_b1_imap'+str(i-1)+'.fits'\n",
    "    hdul1=fits.open(filename1)\n",
    "    data1=hdul1[1].data\n",
    "    header1=hdul1[1].header\n",
    "\n",
    "            \n",
    "    data1_dict={}\n",
    "    for column in data1.columns:\n",
    "        if column.name in ['z','t11', 't22', 't12']:\n",
    "            data1_dict[column.name]=data1[column.name]\n",
    "\n",
    "            \n",
    "    e1_NLA=Epsilon1_NLA(cosmo,data1_dict['z'],Aia,rho_crit,data1_dict['t11'],data1_dict['t22'])\n",
    "    e2_NLA=Epsilon2_NLA(cosmo,data1_dict['z'],Aia,rho_crit,data1_dict['t12'])\n",
    "\n",
    "    e1_TT=Epsilon1_TT(cosmo,data1_dict['z'],C2,rho_crit,data1_dict['t11'],data1_dict['t22'])\n",
    "    e2_TT=Epsilon2_TT(cosmo,data1_dict['z'],C2,rho_crit,data1_dict['t11'],data1_dict['t22'],data1_dict['t12'])\n",
    "\n",
    "    random1=np.random.normal(0, sigma_epsilon, e1_NLA.shape)\n",
    "    random2=np.random.normal(0, sigma_epsilon, e2_NLA.shape)\n",
    "\n",
    "    print('Got Shapes')\n",
    "    \n",
    "    epsilon = Table([e1_NLA, e2_NLA, e1_TT, e2_TT, random1, random2], names = ('e1_NLA', 'e2_NLA', 'e1_TT', 'e2_TT', 'e1_noise', 'e2_noise'))\n",
    "    epsilon.write('../../../HACC-Y1/GalCat/SRD-Y1/HACC150_3/IA/epsilon_{}_0.6GpAM.asc'.format(i), format='ascii', overwrite=True)    \n",
    "\n",
    "    print('Done tomo',i)"
   ]
  },
  {
   "cell_type": "code",
   "execution_count": 20,
   "id": "c3603cf0-45f4-4834-900b-d7ed749ad073",
   "metadata": {},
   "outputs": [
    {
     "name": "stdout",
     "output_type": "stream",
     "text": [
      "\u001b[0m\u001b[01;34mIA\u001b[0m/  \u001b[01;34mnoIA\u001b[0m/\n"
     ]
    }
   ],
   "source": [
    "ls ../../../HACC-Y1/GalCat/SRD-Y1/HACC150_3/"
   ]
  },
  {
   "cell_type": "code",
   "execution_count": 5,
   "id": "8f7a6c0a-667c-43fd-9ce6-99abb487caae",
   "metadata": {},
   "outputs": [
    {
     "data": {
      "text/plain": [
       "0.7839810640527554"
      ]
     },
     "execution_count": 5,
     "metadata": {},
     "output_type": "execute_result"
    }
   ],
   "source": []
  },
  {
   "cell_type": "code",
   "execution_count": 4,
   "id": "df8c1082-a590-4ded-bbed-0816857211e1",
   "metadata": {},
   "outputs": [
    {
     "data": {
      "text/plain": [
       "0.013876831362291541"
      ]
     },
     "execution_count": 4,
     "metadata": {},
     "output_type": "execute_result"
    }
   ],
   "source": [
    "rho_crit*5e-14"
   ]
  },
  {
   "cell_type": "code",
   "execution_count": null,
   "id": "6db9969e-7d34-4e5a-b397-faf9c3b6b955",
   "metadata": {},
   "outputs": [],
   "source": []
  }
 ],
 "metadata": {
  "kernelspec": {
   "display_name": "desc-python-dev",
   "language": "python",
   "name": "desc-python-dev"
  },
  "language_info": {
   "codemirror_mode": {
    "name": "ipython",
    "version": 3
   },
   "file_extension": ".py",
   "mimetype": "text/x-python",
   "name": "python",
   "nbconvert_exporter": "python",
   "pygments_lexer": "ipython3",
   "version": "3.10.12"
  }
 },
 "nbformat": 4,
 "nbformat_minor": 5
}
