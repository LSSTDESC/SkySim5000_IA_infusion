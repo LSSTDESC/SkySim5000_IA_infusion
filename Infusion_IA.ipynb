{
 "cells": [
  {
   "cell_type": "code",
   "execution_count": 1,
   "id": "991a9da9-18bf-4931-a62c-8d6c9c9973ed",
   "metadata": {},
   "outputs": [
    {
     "name": "stdout",
     "output_type": "stream",
     "text": [
      "Populating the interactive namespace from numpy and matplotlib\n"
     ]
    }
   ],
   "source": [
    "%pylab inline\n",
    "%load_ext autoreload\n",
    "%autoreload 2\n",
    "import pyccl.ccllib as lib\n",
    "import pyccl as ccl\n",
    "import pyccl.nl_pt as pt"
   ]
  },
  {
   "cell_type": "code",
   "execution_count": 2,
   "id": "769a020b-229e-450f-a06f-42fa486eb0c1",
   "metadata": {},
   "outputs": [],
   "source": [
    "cosmo = ccl.Cosmology(\n",
    "    Omega_c=0.22, Omega_b=0.0448, \n",
    "    h=0.71, sigma8 = 0.801, n_s= 0.963,w0=-1.00,wa=0.0, Omega_k=0.0)"
   ]
  },
  {
   "cell_type": "code",
   "execution_count": 3,
   "id": "1735fa5d-5302-41d9-986a-465deb858590",
   "metadata": {},
   "outputs": [],
   "source": [
    "from astropy.table import Table\n",
    "catalog = Table.read('/global/cscratch1/sd/jharno/IA_Infusion/GalCat_tomo1_All_0.06GpAM_RA_Dec_g1_g2_w_den_Sij.dat',\n",
    "                     format='ascii')  # descriptions=['ra_deg', 'dec_deg', 'shear1', 'shear2', 'weight', 'z_true', 'delta', 's11', 's22', 's12'])"
   ]
  },
  {
   "cell_type": "code",
   "execution_count": 4,
   "id": "1e52868b-9f29-429d-9b68-ed89c493ae5a",
   "metadata": {},
   "outputs": [],
   "source": [
    "s11=catalog['col8']\n",
    "s22=catalog['col9']\n",
    "s12=catalog['col10']\n",
    "z=catalog['col6']"
   ]
  },
  {
   "cell_type": "code",
   "execution_count": 5,
   "id": "da6b9d40-7f62-4a6f-a617-f138164d70b1",
   "metadata": {},
   "outputs": [],
   "source": [
    "Aia=1 #1.5,2"
   ]
  },
  {
   "cell_type": "code",
   "execution_count": 6,
   "id": "ace54a16-37fb-4293-812a-8566c5ee3fd8",
   "metadata": {},
   "outputs": [],
   "source": [
    "\n",
    "Om_m = cosmo['Omega_m']\n",
    "rho_crit = lib.cvar.constants.RHO_CRITICAL\n",
    "\n"
   ]
  },
  {
   "cell_type": "code",
   "execution_count": 7,
   "id": "41137721-ead3-4b7e-927b-fdd77708efea",
   "metadata": {},
   "outputs": [],
   "source": [
    "def Epsilon1(cosmo,z,A1,rho_crit,sxx,syy):\n",
    "    gz = ccl.growth_factor(cosmo, 1./(1+z))\n",
    "    Fact = -1*A1*5e-14*rho_crit*cosmo['Omega_m']*(1+z)**3/gz\n",
    "    e1 =  Fact  * (sxx - syy) \n",
    "    return e1\n"
   ]
  },
  {
   "cell_type": "code",
   "execution_count": 8,
   "id": "5c12e127-722d-4e4e-8cf9-58ecfe11f8d3",
   "metadata": {},
   "outputs": [],
   "source": [
    "def Epsilon2(cosmo,z,A1,rho_crit,sxy):\n",
    "    gz = ccl.growth_factor(cosmo, 1./(1+z))\n",
    "    Fact = -1*A1*5e-14*rho_crit*cosmo['Omega_m']*(1+z)**3/gz\n",
    "    e2 = 2 *Fact* sxy\n",
    "    return e2"
   ]
  },
  {
   "cell_type": "code",
   "execution_count": 10,
   "id": "1b0e4220-56aa-4adc-bf0e-6376280b61ec",
   "metadata": {},
   "outputs": [],
   "source": [
    "e1=Epsilon1(cosmo,z,Aia,rho_crit,s11,s22)\n",
    "e2=Epsilon2(cosmo,z,Aia,rho_crit,s12)"
   ]
  },
  {
   "cell_type": "code",
   "execution_count": null,
   "id": "ed25c2c3-9804-4bbf-9013-c545878a084f",
   "metadata": {},
   "outputs": [],
   "source": []
  }
 ],
 "metadata": {
  "kernelspec": {
   "display_name": "tfpython",
   "language": "python",
   "name": "tfpython"
  },
  "language_info": {
   "codemirror_mode": {
    "name": "ipython",
    "version": 3
   },
   "file_extension": ".py",
   "mimetype": "text/x-python",
   "name": "python",
   "nbconvert_exporter": "python",
   "pygments_lexer": "ipython3",
   "version": "3.8.5"
  }
 },
 "nbformat": 4,
 "nbformat_minor": 5
}
