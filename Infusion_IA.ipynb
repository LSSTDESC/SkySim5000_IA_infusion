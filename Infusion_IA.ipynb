{
 "cells": [
  {
   "cell_type": "code",
   "execution_count": 1,
   "id": "991a9da9-18bf-4931-a62c-8d6c9c9973ed",
   "metadata": {},
   "outputs": [
    {
     "name": "stdout",
     "output_type": "stream",
     "text": [
      "Populating the interactive namespace from numpy and matplotlib\n"
     ]
    }
   ],
   "source": [
    "%pylab inline\n",
    "%load_ext autoreload\n",
    "%autoreload 2\n",
    "import pyccl.ccllib as lib\n",
    "import pyccl as ccl\n",
    "import pyccl.nl_pt as pt\n",
    "from astropy.table import Table\n",
    "import numpy as np"
   ]
  },
  {
   "cell_type": "code",
   "execution_count": 2,
   "id": "b8d52a89-6c5e-4183-bdcc-c54b1f6f4df2",
   "metadata": {},
   "outputs": [],
   "source": [
    "cosmo = ccl.Cosmology(\n",
    "    Omega_c=0.22, Omega_b=0.0448, \n",
    "    h=0.71, sigma8 = 0.801, n_s= 0.963,w0=-1.00,wa=0.0, Omega_k=0.0)\n",
    "\n",
    "Om_m = cosmo['Omega_m']\n",
    "rho_crit = lib.cvar.constants.RHO_CRITICAL\n",
    "Aia=1.0 #1.5,2\n",
    "C2=1.0\n",
    "sigma_epsilon = 0.27"
   ]
  },
  {
   "cell_type": "code",
   "execution_count": 3,
   "id": "1af0b54a-4420-452b-a125-b08768f8a060",
   "metadata": {},
   "outputs": [],
   "source": [
    "def Epsilon1_NLA(cosmo,z,A1,rho_crit,sxx,syy):\n",
    "    gz = ccl.growth_factor(cosmo, 1./(1+z))\n",
    "    Fact = -1*A1*5e-14*rho_crit*cosmo['Omega_m']/gz\n",
    "    #e1_NLA =  - Fact  * (sxx - syy) \n",
    "    e1_NLA =  Fact  * (sxx - syy) \n",
    "    return e1_NLA\n",
    "\n",
    "def Epsilon2_NLA(cosmo,z,A1,rho_crit,sxy):\n",
    "    gz = ccl.growth_factor(cosmo, 1./(1+z))\n",
    "    Fact = -1*A1*5e-14*rho_crit*cosmo['Omega_m']/gz\n",
    "    e2_NLA = 2 *Fact* sxy\n",
    "    return e2_NLA\n",
    "\n",
    "def Epsilon1_TT(cosmo,z,A2,rho_crit,sxx,syy):\n",
    "    gz = ccl.growth_factor(cosmo, 1./(1+z))\n",
    "    Fact = - 5*A2*5e-14*rho_crit*cosmo['Omega_m']/gz**2\n",
    "    e1_TT =  Fact * (syy**2 - sxx**2) \n",
    "    return e1_TT\n",
    "\n",
    "def Epsilon2_TT(cosmo,z,A2,rho_crit,sxy,sxx,syy):\n",
    "    gz = ccl.growth_factor(cosmo, 1./(1+z))\n",
    "    Fact = - 5*A2*5e-14*rho_crit*cosmo['Omega_m']/gz**2\n",
    "    e2_TT =  Fact * sxy*(sxx+syy)\n",
    "    return e2_TT\n"
   ]
  },
  {
   "cell_type": "code",
   "execution_count": 4,
   "id": "1e52868b-9f29-429d-9b68-ed89c493ae5a",
   "metadata": {},
   "outputs": [
    {
     "name": "stdout",
     "output_type": "stream",
     "text": [
      "Done tomo 1\n",
      "Done tomo 2\n",
      "Done tomo 3\n",
      "Done tomo 4\n",
      "Done tomo 5\n"
     ]
    }
   ],
   "source": [
    "#for i in np.arange(1)+1:\n",
    "for i in np.arange(5)+1:\n",
    "\n",
    "    catalog = Table.read('/global/cscratch1/sd/jharno/IA_Infusion/GalCat_tomo{}_All_0.06GpAM_RA_Dec_g1_g2_w_den_Sij.dat'.format(i),\n",
    "                     format='ascii')  # descriptions=['ra_deg', 'dec_deg', 'shear1', 'shear2', 'weight', 'z_true', 'delta', 's11', 's22', 's12'])\n",
    "    s11=catalog['col8']\n",
    "    s22=catalog['col9']\n",
    "    s12=catalog['col10']\n",
    "    z=catalog['col6']\n",
    "    e1_NLA=Epsilon1_NLA(cosmo,z,Aia,rho_crit,s11,s22)\n",
    "    e2_NLA=Epsilon2_NLA(cosmo,z,Aia,rho_crit,s12)\n",
    "\n",
    "    e1_TT=Epsilon1_TT(cosmo,z,C2,rho_crit,s11,s22)\n",
    "    e2_TT=Epsilon2_TT(cosmo,z,C2,rho_crit,s11,s22,s12)\n",
    "\n",
    "    random1=np.random.normal(0, sigma_epsilon, e1_NLA.shape)\n",
    "    random2=np.random.normal(0, sigma_epsilon, e2_NLA.shape)\n",
    "    epsilon = Table([e1_NLA, e2_NLA, e1_TT, e2_TT, random1, random2], names = ('e1_NLA', 'e2_NLA', 'e1_TT', 'e2_TT', 'e1_noise', 'e2_noise'))\n",
    "    epsilon.write('/global/cscratch1/sd/jharno/epsilon_{}.dat'.format(i), format='ascii', overwrite=True)    \n",
    "    #epsilon.write('/global/cscratch1/sd/jharno/epsilon_e1IAflip{}.dat'.format(i), format='ascii', overwrite=True)\n",
    "    print('Done tomo',i)"
   ]
  },
  {
   "cell_type": "code",
   "execution_count": null,
   "id": "bc80065e-a899-48b1-9aa2-050f6db00f24",
   "metadata": {},
   "outputs": [],
   "source": []
  }
 ],
 "metadata": {
  "kernelspec": {
   "display_name": "desc-python-dev",
   "language": "python",
   "name": "desc-python-dev"
  },
  "language_info": {
   "codemirror_mode": {
    "name": "ipython",
    "version": 3
   },
   "file_extension": ".py",
   "mimetype": "text/x-python",
   "name": "python",
   "nbconvert_exporter": "python",
   "pygments_lexer": "ipython3",
   "version": "3.9.7"
  }
 },
 "nbformat": 4,
 "nbformat_minor": 5
}
