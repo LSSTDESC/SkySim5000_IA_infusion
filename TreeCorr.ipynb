{
 "cells": [
  {
   "cell_type": "code",
   "execution_count": 1,
   "id": "b7c465fb-a7c0-4c18-8c04-12d5b7d7b4d3",
   "metadata": {},
   "outputs": [],
   "source": [
    "import treecorr\n",
    "import pyccl as ccl\n",
    "import numpy as np\n",
    "    \n",
    "config = {'ra_col' : 1,\n",
    "          'dec_col' : 2,\n",
    "          'g1_col' : 3,\n",
    "          'g2_col' : 4,\n",
    "          'w_col' : 5,\n",
    "          'ra_units' : 'deg',\n",
    "          'dec_units' : 'deg'}"
   ]
  },
  {
   "cell_type": "markdown",
   "id": "afdab356-4df3-439f-9827-d9db4a8ecda1",
   "metadata": {},
   "source": [
    "We load all of the data into a single array for simplicity, n=6 is used for consistency so that we can start counting from 1 to 5 instead of from 0 to 4"
   ]
  },
  {
   "cell_type": "markdown",
   "id": "e8f42df7-2d08-44c6-9b15-b2c93587fde5",
   "metadata": {},
   "source": [
    "Here we calculate the auto correlation functions for all bins"
   ]
  },
  {
   "cell_type": "code",
   "execution_count": 2,
   "id": "69b6feab-72f9-4bed-aa06-167ca1d14a11",
   "metadata": {},
   "outputs": [],
   "source": [
    "for i in np.arange(5)+1:\n",
    "    filename = '/global/homes/j/jharno/IA-infusion/SkySim5000/GalCat/StageIV_nz/GalCat_tomo{}_All_0.06GpAM_RA_Dec_g1_g2_w_den_Sij.dat'.format(i)\n",
    "    cat = treecorr.Catalog(filename, config, flip_g2=True)\n",
    "    #gg = treecorr.GGCorrelation(nbins = 20, min_sep = 0.005, max_sep = 7, bin_slop=0.01) \n",
    "    gg = treecorr.GGCorrelation(nbins = 20, min_sep=0.5, max_sep=475.5, sep_units='arcmin',bin_slop=0.01,)\n",
    "    gg.process(cat, metric = 'Arc')\n",
    "    gg.write('correlations/cross_correlation_tomo{}_{}'.format(i,i))"
   ]
  },
  {
   "cell_type": "markdown",
   "id": "cace6001-0e94-4cdb-abb4-3ca0362e1495",
   "metadata": {},
   "source": [
    "Here we calculate the cross correlation functions for all bins"
   ]
  },
  {
   "cell_type": "code",
   "execution_count": 3,
   "id": "d9c758c6-06ec-49d9-8aa4-7f383ba1a0a0",
   "metadata": {},
   "outputs": [],
   "source": [
    "for i in np.arange(5)+1:\n",
    "    for j in range(1, i):\n",
    "        filename1 = '/global/homes/j/jharno/IA-infusion/SkySim5000/GalCat/StageIV_nz/GalCat_tomo{}_All_0.06GpAM_RA_Dec_g1_g2_w_den_Sij.dat'.format(i)\n",
    "        filename2 = '/global/homes/j/jharno/IA-infusion/SkySim5000/GalCat/StageIV_nz/GalCat_tomo{}_All_0.06GpAM_RA_Dec_g1_g2_w_den_Sij.dat'.format(j)\n",
    "        cat_1 = treecorr.Catalog(filename1, config, flip_g2='True')\n",
    "        cat_2 = treecorr.Catalog(filename2, config, flip_g2='True')\n",
    "        #gg = treecorr.GGCorrelation(nbins = 20, min_sep = 0.005, max_sep = 7, bin_slop=0.01) \n",
    "        gg = treecorr.GGCorrelation(nbins = 20, min_sep=0.5, max_sep=475.5, sep_units='arcmin',bin_slop=0.01)\n",
    "        gg.process(cat_1, cat_2)\n",
    "        #gg.process(cat_1, cat_2, metric = 'Arc')\n",
    "        gg.write('correlations/cross_correlation_tomo{}_{}'.format(j,i))"
   ]
  },
  {
   "cell_type": "markdown",
   "id": "412d4289-d705-4c31-acf1-8c9b547c0651",
   "metadata": {},
   "source": [
    "Here we show how to read the correlation functions saved to a file by TreeCorr"
   ]
  },
  {
   "cell_type": "code",
   "execution_count": 4,
   "id": "57aa80b3-79b9-4aad-ba78-1555f8d74ed0",
   "metadata": {},
   "outputs": [],
   "source": [
    "gg = treecorr.GGCorrelation(nbins = 20,\n",
    "                       min_sep = 0.03333333, #2 arcmin\n",
    "                       max_sep = 1.66666667)\n",
    "gg.read('correlations/cross_correlation_tomo3_3')"
   ]
  },
  {
   "cell_type": "code",
   "execution_count": 5,
   "id": "b46920ef-ea14-4d0e-8bde-b3039cda5bb8",
   "metadata": {},
   "outputs": [],
   "source": [
    "# Run treecorr on the mocks with IA infused:\n",
    "config_IA = {'ra_col' : 1,\n",
    "          'dec_col' : 2,\n",
    "          'g1_col' : 6,\n",
    "          'g2_col' : 7,\n",
    "          'w_col' : 4,\n",
    "          'ra_units' : 'deg',\n",
    "          'dec_units' : 'deg'}\n",
    "\n",
    "\n",
    "# Run the auto-correlation functions:\n",
    "for i in np.arange(5)+1:\n",
    "    filename = '/global/cscratch1/sd/dlan/SkySim5000_IA_infusion/fin_epsilon_IA_{}.dat'.format(i)\n",
    "    cat = treecorr.Catalog(filename, config_IA, flip_g2=True,first_row=2)\n",
    "    #gg = treecorr.GGCorrelation(nbins = 20, min_sep = 0.005, max_sep = 7, bin_slop=0.01) \n",
    "    gg = treecorr.GGCorrelation(nbins = 20, min_sep=0.5, max_sep=475.5, sep_units='arcmin',bin_slop=0.01,)\n",
    "    gg.process(cat, metric = 'Arc')\n",
    "    gg.write('correlations/cross_correlation_tomo{}_{}_IA.dat'.format(i,i))\n",
    "\n",
    "# And the cross-redshift bins\n",
    "for i in np.arange(5)+1:\n",
    "    for j in range(1, i):\n",
    "        filename1 = '/global/cscratch1/sd/dlan/SkySim5000_IA_infusion/fin_epsilon_IA_{}.dat'.format(i)\n",
    "        filename2 = '/global/cscratch1/sd/dlan/SkySim5000_IA_infusion/fin_epsilon_IA_{}.dat'.format(j)\n",
    "        cat_1 = treecorr.Catalog(filename1, config_IA, flip_g2='True',first_row=2)\n",
    "        cat_2 = treecorr.Catalog(filename2, config_IA, flip_g2='True',first_row=2)\n",
    "        #gg = treecorr.GGCorrelation(nbins = 20, min_sep = 0.005, max_sep = 7, bin_slop=0.01) \n",
    "        gg = treecorr.GGCorrelation(nbins = 20, min_sep=0.5, max_sep=475.5, sep_units='arcmin',bin_slop=0.01)\n",
    "        gg.process(cat_1, cat_2)\n",
    "        #gg.process(cat_1, cat_2, metric = 'Arc')\n",
    "        gg.write('correlations/cross_correlation_IA_tomo{}_{}'.format(j,i))\n",
    "    "
   ]
  },
  {
   "cell_type": "code",
   "execution_count": null,
   "id": "eecfd9c8-2b54-44e0-8c4c-b9fd7c8ced55",
   "metadata": {},
   "outputs": [],
   "source": []
  },
  {
   "cell_type": "code",
   "execution_count": null,
   "id": "338d10d4-a858-4d74-9e8d-6fc9e62c2921",
   "metadata": {},
   "outputs": [],
   "source": []
  }
 ],
 "metadata": {
  "kernelspec": {
   "display_name": "desc-python-dev",
   "language": "python",
   "name": "desc-python-dev"
  },
  "language_info": {
   "codemirror_mode": {
    "name": "ipython",
    "version": 3
   },
   "file_extension": ".py",
   "mimetype": "text/x-python",
   "name": "python",
   "nbconvert_exporter": "python",
   "pygments_lexer": "ipython3",
   "version": "3.8.12"
  }
 },
 "nbformat": 4,
 "nbformat_minor": 5
}
