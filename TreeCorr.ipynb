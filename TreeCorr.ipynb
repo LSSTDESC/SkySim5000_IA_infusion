{
 "cells": [
  {
   "cell_type": "code",
   "execution_count": 1,
   "id": "b7c465fb-a7c0-4c18-8c04-12d5b7d7b4d3",
   "metadata": {},
   "outputs": [],
   "source": [
    "import treecorr\n",
    "import pyccl as ccl\n",
    "import numpy as np\n",
    "\n",
    "# Columns ordering:\n",
    "##'ra','dec','z','g1,'g2','weight','delta','e_obs_1','e_obs_2', 'e_obs_no_noise_1','e_obs_no_noise_2','e_IA_TATT_1', 'e_IA_TATT_2'\n",
    "\n",
    "#pure shear signal, noisefree:\n",
    "config_G = {'ra_col' : 1,\n",
    "          'dec_col' : 2,\n",
    "          'g1_col' : 4,\n",
    "          'g2_col' : 5,\n",
    "          'w_col' : 6,\n",
    "          'ra_units' : 'deg',\n",
    "          'dec_units' : 'deg'}\n",
    "\n",
    "# observed ellipticities, with shear, noise and IA\n",
    "config_IA = {'ra_col' : 1,\n",
    "          'dec_col' : 2,\n",
    "          'g1_col' : 8,\n",
    "          'g2_col' : 9,\n",
    "          'w_col' : 6,\n",
    "          'ra_units' : 'deg',\n",
    "          'dec_units' : 'deg'}\n",
    "\n",
    "# observed ellipticities with shear, IA, noisefree\n",
    "config_IA_noisefree = {'ra_col' : 1,\n",
    "          'dec_col' : 2,\n",
    "          'g1_col' : 10,\n",
    "          'g2_col' : 11,\n",
    "          'w_col' : 6,\n",
    "          'ra_units' : 'deg',\n",
    "          'dec_units' : 'deg'}\n",
    "\n",
    "\n",
    "# pure IA\n",
    "config_pureIA = {'ra_col' : 1,\n",
    "          'dec_col' : 2,\n",
    "          'g1_col' : 12,\n",
    "          'g2_col' : 13,\n",
    "          'w_col' : 6,\n",
    "          'ra_units' : 'deg',\n",
    "          'dec_units' : 'deg'}\n",
    "\n"
   ]
  },
  {
   "cell_type": "markdown",
   "id": "afdab356-4df3-439f-9827-d9db4a8ecda1",
   "metadata": {},
   "source": [
    "We load all of the data into a single array for simplicity, n=6 is used for consistency so that we can start counting from 1 to 5 instead of from 0 to 4"
   ]
  },
  {
   "cell_type": "markdown",
   "id": "e8f42df7-2d08-44c6-9b15-b2c93587fde5",
   "metadata": {},
   "source": [
    "Here we calculate the auto correlation functions for all bins"
   ]
  },
  {
   "cell_type": "code",
   "execution_count": 2,
   "id": "69b6feab-72f9-4bed-aa06-167ca1d14a11",
   "metadata": {},
   "outputs": [],
   "source": [
    "for i in np.arange(5)+1:\n",
    "    filename = '/global/homes/j/jharno/IA-infusion/SkySim5000/GalCat/StageIV_nz/GalCat_tomo{}_All_0.06GpAM_RA_Dec_g1_g2_w_den_Sij.dat'.format(i)\n",
    "    cat = treecorr.Catalog(filename, config_G, flip_g2=True)\n",
    "    #gg = treecorr.GGCorrelation(nbins = 20, min_sep = 0.005, max_sep = 7, bin_slop=0.01) \n",
    "    gg = treecorr.GGCorrelation(nbins = 20, min_sep=0.5, max_sep=475.5, sep_units='arcmin',bin_slop=0.01,)\n",
    "    gg.process(cat, metric = 'Arc')\n",
    "    gg.write('correlations/cross_correlation_tomo{}_{}'.format(i,i))"
   ]
  },
  {
   "cell_type": "markdown",
   "id": "cace6001-0e94-4cdb-abb4-3ca0362e1495",
   "metadata": {},
   "source": [
    "Here we calculate the cross correlation functions for all bins"
   ]
  },
  {
   "cell_type": "code",
   "execution_count": 3,
   "id": "d9c758c6-06ec-49d9-8aa4-7f383ba1a0a0",
   "metadata": {},
   "outputs": [],
   "source": [
    "for i in np.arange(5)+1:\n",
    "    for j in range(1, i):\n",
    "        filename1 = '/global/homes/j/jharno/IA-infusion/SkySim5000/GalCat/StageIV_nz/GalCat_tomo{}_All_0.06GpAM_RA_Dec_g1_g2_w_den_Sij.dat'.format(i)\n",
    "        filename2 = '/global/homes/j/jharno/IA-infusion/SkySim5000/GalCat/StageIV_nz/GalCat_tomo{}_All_0.06GpAM_RA_Dec_g1_g2_w_den_Sij.dat'.format(j)\n",
    "        cat_1 = treecorr.Catalog(filename1, config_G, flip_g2='True')\n",
    "        cat_2 = treecorr.Catalog(filename2, config_G, flip_g2='True')\n",
    "        #gg = treecorr.GGCorrelation(nbins = 20, min_sep = 0.005, max_sep = 7, bin_slop=0.01) \n",
    "        gg = treecorr.GGCorrelation(nbins = 20, min_sep=0.5, max_sep=475.5, sep_units='arcmin',bin_slop=0.01)\n",
    "        gg.process(cat_1, cat_2)\n",
    "        #gg.process(cat_1, cat_2, metric = 'Arc')\n",
    "        gg.write('correlations/cross_correlation_tomo{}_{}'.format(j,i))"
   ]
  },
  {
   "cell_type": "markdown",
   "id": "412d4289-d705-4c31-acf1-8c9b547c0651",
   "metadata": {},
   "source": [
    "Here we show how to read the correlation functions saved to a file by TreeCorr"
   ]
  },
  {
   "cell_type": "code",
   "execution_count": 4,
   "id": "57aa80b3-79b9-4aad-ba78-1555f8d74ed0",
   "metadata": {},
   "outputs": [],
   "source": [
    "gg = treecorr.GGCorrelation(nbins = 20,\n",
    "                       min_sep = 0.03333333, #2 arcmin\n",
    "                       max_sep = 1.66666667)\n",
    "gg.read('correlations/cross_correlation_tomo3_3')"
   ]
  },
  {
   "cell_type": "code",
   "execution_count": 2,
   "id": "bef2b09c-b11c-4eb7-ad76-a0106be4fa98",
   "metadata": {},
   "outputs": [],
   "source": [
    "from astropy.table import Table"
   ]
  },
  {
   "cell_type": "code",
   "execution_count": 7,
   "id": "b46920ef-ea14-4d0e-8bde-b3039cda5bb8",
   "metadata": {},
   "outputs": [
    {
     "name": "stdout",
     "output_type": "stream",
     "text": [
      "Done tomo 1\n",
      "Done tomo 2\n",
      "Done tomo 3\n",
      "Done tomo 4\n",
      "Done tomo 5\n",
      "Done tomo 2 1\n",
      "Done tomo 3 1\n",
      "Done tomo 3 2\n",
      "Done tomo 4 1\n",
      "Done tomo 4 2\n",
      "Done tomo 4 3\n",
      "Done tomo 5 1\n",
      "Done tomo 5 2\n",
      "Done tomo 5 3\n",
      "Done tomo 5 4\n"
     ]
    }
   ],
   "source": [
    "#Compute IA for observed ellipticities with cosmic shear, noise and IA:\n",
    "\n",
    "# Run the auto-correlation functions:\n",
    "for i in np.arange(5)+1:\n",
    "    #filename = '/global/cscratch1/sd/jharno/fin_epsilon_IA_{}.dat'.format(i)\n",
    "    filename = '/global/cscratch1/sd/jharno/fin_epsilon_delta-NLA_{}.dat'.format(i)\n",
    "    #filename = '/global/cscratch1/sd/jharno/fin_epsilon_TATT_{}.dat'.format(i)\n",
    "\n",
    "\n",
    "    cat = treecorr.Catalog(filename, config_IA, flip_g2=True,first_row=2)\n",
    "    gg = treecorr.GGCorrelation(nbins = 20, min_sep=0.5, max_sep=475.5, sep_units='arcmin',bin_slop=0.01,)\n",
    "    gg.process(cat, metric = 'Arc')\n",
    "    #gg.write('correlations/infused_cross_correlation_tomo{}_{}'.format(i,i))\n",
    "    gg.write('correlations/infused_cross_correlation_tomo_delta-NLA{}_{}'.format(i,i))\n",
    "    #gg.write('correlations/infused_cross_correlation_tomo_TATT{}_{}'.format(i,i))\n",
    "\n",
    "    print(\"Done tomo\", i)\n",
    "    \n",
    "# And the cross-redshift bins\n",
    "for i in np.arange(5)+1:\n",
    "    for j in range(1, i):\n",
    "        #filename1 = '/global/cscratch1/sd/jharno/fin_epsilon_IA_{}.dat'.format(i)\n",
    "        #filename2 = '/global/cscratch1/sd/jharno/fin_epsilon_IA_{}.dat'.format(j)\n",
    "\n",
    "        filename1 = '/global/cscratch1/sd/jharno/fin_epsilon_delta-NLA_{}.dat'.format(i)\n",
    "        filename2 = '/global/cscratch1/sd/jharno/fin_epsilon_delta-NLA_{}.dat'.format(j)\n",
    "\n",
    "        #filename1 = '/global/cscratch1/sd/jharno/fin_epsilon_TATT_{}.dat'.format(i)\n",
    "        #filename2 = '/global/cscratch1/sd/jharno/fin_epsilon_TATT_{}.dat'.format(j)\n",
    "\n",
    "        cat_1 = treecorr.Catalog(filename1, config_IA, flip_g2='True',first_row=2)\n",
    "        cat_2 = treecorr.Catalog(filename2, config_IA, flip_g2='True',first_row=2)\n",
    "        gg = treecorr.GGCorrelation(nbins = 20, min_sep=0.5, max_sep=475.5, sep_units='arcmin',bin_slop=0.01)\n",
    "        gg.process(cat_1, cat_2)\n",
    "        #gg.write('correlations/infused_cross_correlation_tomo{}_{}'.format(j,i))\n",
    "        gg.write('correlations/infused_cross_correlation_tomo_delta-NLA{}_{}'.format(j,i))\n",
    "        #gg.write('correlations/infused_cross_correlation_tomo_TATT{}_{}'.format(j,i))\n",
    "\n",
    "        print(\"Done tomo\", i,j)\n",
    "\n"
   ]
  },
  {
   "cell_type": "code",
   "execution_count": 3,
   "id": "b0e9d9f5-006d-480e-b9cf-6f25e8cd07a8",
   "metadata": {},
   "outputs": [
    {
     "name": "stdout",
     "output_type": "stream",
     "text": [
      "Done tomo 1\n",
      "Done tomo 2\n",
      "Done tomo 3\n",
      "Done tomo 4\n",
      "Done tomo 5\n"
     ]
    }
   ],
   "source": [
    "# Run treecorr on the mocks with IA infused, no noise:\n",
    "\n",
    "\n",
    "# Run the auto-correlation functions:\n",
    "for i in range(1,6):\n",
    "#for i in np.arange(5)+1:\n",
    "\n",
    "    #filename = '/global/cscratch1/sd/jharno/fin_epsilon_IA_{}.dat'.format(i)\n",
    "    #filename = '/global/cscratch1/sd/jharno/fin_epsilon_delta-NLA_{}.dat'.format(i)\n",
    "    filename = '/global/cscratch1/sd/jharno/fin_epsilon_delta-NLA_{}_V3.dat'.format(i)\n",
    "    #filename = '/global/cscratch1/sd/jharno/fin_epsilon_TATT_{}.dat'.format(i)\n",
    "\n",
    "\n",
    "    cat = treecorr.Catalog(filename, config_IA_noisefree, flip_g2=True,first_row=2)\n",
    "    gg = treecorr.GGCorrelation(nbins = 20, min_sep=0.5, max_sep=475.5, sep_units='arcmin',bin_slop=0.01,)\n",
    "    gg.process(cat, metric = 'Arc')\n",
    "    #gg.write('correlations/infused_cross_correlation_no_noise_tomo{}_{}'.format(i,i))\n",
    "    #gg.write('correlations/infused_cross_correlation_no_noise_tomo_delta-NLA{}_{}'.format(i,i))\n",
    "    gg.write('correlations/infused_cross_correlation_no_noise_tomo_delta-NLA{}_{}_V3'.format(i,i))\n",
    "    #gg.write('correlations/infused_cross_correlation_no_noise_tomo_TATT{}_{}'.format(i,i))\n",
    "\n",
    "\n",
    "    print(\"Done tomo\", i)\n",
    "\n"
   ]
  },
  {
   "cell_type": "code",
   "execution_count": null,
   "id": "310eaa5b-f27a-43ad-afa5-066d02a9d8aa",
   "metadata": {},
   "outputs": [
    {
     "name": "stdout",
     "output_type": "stream",
     "text": [
      "Done tomo 2 1\n",
      "Done tomo 3 1\n",
      "Done tomo 3 2\n",
      "Done tomo 4 1\n",
      "Done tomo 4 2\n",
      "Done tomo 4 3\n",
      "Done tomo 5 1\n",
      "Done tomo 5 2\n",
      "Done tomo 5 3\n"
     ]
    }
   ],
   "source": [
    "# And the cross-redshift bins\n",
    "for i in np.arange(5)+1:\n",
    "    for j in range(1, i):\n",
    "        #filename1 = '/global/cscratch1/sd/jharno/fin_epsilon_IA_{}.dat'.format(i)\n",
    "        #filename2 = '/global/cscratch1/sd/jharno/fin_epsilon_IA_{}.dat'.format(j)\n",
    "\n",
    "        filename1 = '/global/cscratch1/sd/jharno/fin_epsilon_delta-NLA_{}.dat'.format(i)\n",
    "        filename2 = '/global/cscratch1/sd/jharno/fin_epsilon_delta-NLA_{}.dat'.format(j)\n",
    "\n",
    "        #filename1 = '/global/cscratch1/sd/jharno/fin_epsilon_TATT_{}.dat'.format(i)\n",
    "        #filename2 = '/global/cscratch1/sd/jharno/fin_epsilon_TATT_{}.dat'.format(j)\n",
    "\n",
    "        cat_1 = treecorr.Catalog(filename1, config_IA_noisefree, flip_g2='True',first_row=2)\n",
    "        cat_2 = treecorr.Catalog(filename2, config_IA_noisefree, flip_g2='True',first_row=2)\n",
    "        gg = treecorr.GGCorrelation(nbins = 20, min_sep=0.5, max_sep=475.5, sep_units='arcmin',bin_slop=0.01)\n",
    "        gg.process(cat_1, cat_2)\n",
    "        #gg.write('correlations/infused_cross_correlation_no_noise_tomo{}_{}'.format(j,i))\n",
    "        gg.write('correlations/infused_cross_correlation_no_noise_tomo_delta-NLA{}_{}'.format(j,i))\n",
    "        #gg.write('correlations/infused_cross_correlation_no_noise_tomo_TATT{}_{}'.format(j,i))\n",
    "\n",
    "        print(\"Done tomo\", i,j)\n",
    "\n"
   ]
  },
  {
   "cell_type": "code",
   "execution_count": 4,
   "id": "713a7214-d780-43b8-aad5-58dd140f95c6",
   "metadata": {},
   "outputs": [
    {
     "name": "stdout",
     "output_type": "stream",
     "text": [
      "Done tomo 1\n",
      "Done tomo 2\n",
      "Done tomo 3\n",
      "Done tomo 4\n",
      "Done tomo 5\n"
     ]
    }
   ],
   "source": [
    "# Run treecorr on the pure IA signal:\n",
    "\n",
    "# Run the auto-correlation functions:\n",
    "for i in range(1,6):\n",
    "#for i in np.arange(5)+1:\n",
    "\n",
    "    #filename = '/global/cscratch1/sd/jharno/fin_epsilon_IA_{}.dat'.format(i)\n",
    "    #filename = '/global/cscratch1/sd/jharno/fin_epsilon_delta-NLA_{}.dat'.format(i)\n",
    "    filename = '/global/cscratch1/sd/jharno/fin_epsilon_delta-NLA_{}_V3.dat'.format(i)\n",
    "    #filename = '/global/cscratch1/sd/jharno/fin_epsilon_TATT_{}.dat'.format(i)\n",
    "\n",
    "\n",
    "\n",
    "    cat = treecorr.Catalog(filename, config_pureIA, flip_g2=True,first_row=2)\n",
    "\n",
    "    gg = treecorr.GGCorrelation(nbins = 20, min_sep=0.5, max_sep=475.5, sep_units='arcmin',bin_slop=0.01,)\n",
    "    gg.process(cat, metric = 'Arc')\n",
    "    #gg.write('correlations/infused_cross_correlation_TATT_tomo{}_{}'.format(i,i))    \n",
    "    #gg.write('correlations/infused_cross_correlation_TATT_tomo_delta-NLA{}_{}'.format(i,i))    \n",
    "    gg.write('correlations/infused_cross_correlation_TATT_tomo_delta-NLA{}_{}_V3'.format(i,i))    \n",
    "    #gg.write('correlations/infused_cross_correlation_TATT_tomo_TATT{}_{}'.format(i,i))    \n",
    "\n",
    "    print(\"Done tomo\",i)"
   ]
  },
  {
   "cell_type": "code",
   "execution_count": 2,
   "id": "ea412e1f-efd7-40de-897f-58723eaabf77",
   "metadata": {},
   "outputs": [
    {
     "name": "stdout",
     "output_type": "stream",
     "text": [
      "Done tomo 2 1\n",
      "Done tomo 3 1\n",
      "Done tomo 3 2\n",
      "Done tomo 4 1\n",
      "Done tomo 4 2\n",
      "Done tomo 4 3\n",
      "Done tomo 5 1\n",
      "Done tomo 5 2\n",
      "Done tomo 5 3\n",
      "Done tomo 5 4\n"
     ]
    }
   ],
   "source": [
    "# And the cross-redshift bins\n",
    "for i in np.arange(5)+1:\n",
    "    for j in range(1, i):\n",
    "        #filename1 = '/global/cscratch1/sd/jharno/fin_epsilon_IA_{}.dat'.format(i)\n",
    "        #filename2 = '/global/cscratch1/sd/jharno/fin_epsilon_IA_{}.dat'.format(j)\n",
    "\n",
    "        filename1 = '/global/cscratch1/sd/jharno/fin_epsilon_delta-NLA_{}.dat'.format(i)\n",
    "        filename2 = '/global/cscratch1/sd/jharno/fin_epsilon_delta-NLA_{}.dat'.format(j)\n",
    "\n",
    "        #filename1 = '/global/cscratch1/sd/jharno/fin_epsilon_TATT_{}.dat'.format(i)\n",
    "        #filename2 = '/global/cscratch1/sd/jharno/fin_epsilon_TATT_{}.dat'.format(j)\n",
    "\n",
    "        cat_1 = treecorr.Catalog(filename1, config_pureIA, flip_g2='True',first_row=2)\n",
    "        cat_2 = treecorr.Catalog(filename2, config_pureIA, flip_g2='True',first_row=2)\n",
    "        gg = treecorr.GGCorrelation(nbins = 20, min_sep=0.5, max_sep=475.5, sep_units='arcmin',bin_slop=0.01)\n",
    "        gg.process(cat_1, cat_2, metric = 'Arc')\n",
    "        #gg.write('correlations/infused_cross_correlation_TATT_tomo{}_{}'.format(j,i))       \n",
    "        gg.write('correlations/infused_cross_correlation_TATT_tomo_delta-NLA{}_{}'.format(j,i))\n",
    "        #gg.write('correlations/infused_cross_correlation_TATT_tomo_TATT{}_{}'.format(j,i))\n",
    "\n",
    "        print(\"Done tomo\",i,j)"
   ]
  },
  {
   "cell_type": "code",
   "execution_count": null,
   "id": "4844ad4e-12f5-4ab7-bbe0-9f5dfd2b0552",
   "metadata": {},
   "outputs": [],
   "source": [
    "\n"
   ]
  },
  {
   "cell_type": "code",
   "execution_count": 6,
   "id": "e84aaac2-3b2c-4985-aafd-026ff4e8683b",
   "metadata": {},
   "outputs": [
    {
     "name": "stdout",
     "output_type": "stream",
     "text": [
      "Done tomo 1 1\n",
      "Done tomo 2 2\n",
      "Done tomo 3 3\n",
      "Done tomo 4 4\n",
      "Done tomo 5 5\n"
     ]
    }
   ],
   "source": [
    "# Get the GI term: \n",
    "#Run treecorr on the pure IA_TATT signal of the foreground, and the pure shear of the background:\n",
    "# Get auto+cross bins\n",
    "for i in range(1,6):\n",
    "    for j in range(i, i+1):\n",
    "#for i in np.arange(5)+1:\n",
    "#    for j in range(1, i+1):\n",
    "\n",
    "        #filename1 = '/global/cscratch1/sd/jharno/fin_epsilon_IA_{}.dat'.format(i)\n",
    "        #filename2 = '/global/cscratch1/sd/jharno/fin_epsilon_IA_{}.dat'.format(j)\n",
    "\n",
    "        #filename1 = '/global/cscratch1/sd/jharno/fin_epsilon_delta-NLA_{}.dat'.format(i)\n",
    "        #filename2 = '/global/cscratch1/sd/jharno/fin_epsilon_delta-NLA_{}.dat'.format(j)\n",
    "        filename1 = '/global/cscratch1/sd/jharno/fin_epsilon_delta-NLA_{}_V3.dat'.format(i)\n",
    "        filename2 = '/global/cscratch1/sd/jharno/fin_epsilon_delta-NLA_{}_V3.dat'.format(j)\n",
    "\n",
    "\n",
    "        #filename1 = '/global/cscratch1/sd/jharno/fin_epsilon_TATT_{}.dat'.format(i)\n",
    "        #filename2 = '/global/cscratch1/sd/jharno/fin_epsilon_TATT_{}.dat'.format(j)\n",
    "\n",
    "        cat_1 = treecorr.Catalog(filename1, config_G, flip_g2='True',first_row=2)\n",
    "        cat_2 = treecorr.Catalog(filename2, config_pureIA, flip_g2='True',first_row=2)\n",
    "        gg = treecorr.GGCorrelation(nbins = 20, min_sep=0.5, max_sep=475.5, sep_units='arcmin',bin_slop=0.01)\n",
    "        gg.process(cat_1, cat_2, metric = 'Arc')\n",
    "        #gg.write('correlations/infused_cross_correlation_GI_tomo{}_{}'.format(j,i))\n",
    "        #gg.write('correlations/infused_cross_correlation_GI_tomo_delta-NLA{}_{}'.format(j,i))\n",
    "        gg.write('correlations/infused_cross_correlation_GI_tomo_delta-NLA{}_{}_V3'.format(j,i))\n",
    "        #gg.write('correlations/infused_cross_correlation_GI_tomo_TATT{}_{}'.format(j,i))\n",
    "\n",
    "        print(\"Done tomo\",i,j)"
   ]
  },
  {
   "cell_type": "code",
   "execution_count": null,
   "id": "e2b8ccca-870b-4ef2-9b2c-e07fbba0da48",
   "metadata": {},
   "outputs": [],
   "source": []
  },
  {
   "cell_type": "code",
   "execution_count": null,
   "id": "b89108e6-b9db-431b-a72e-887c64a112ae",
   "metadata": {},
   "outputs": [],
   "source": []
  }
 ],
 "metadata": {
  "kernelspec": {
   "display_name": "desc-python-dev",
   "language": "python",
   "name": "desc-python-dev"
  },
  "language_info": {
   "codemirror_mode": {
    "name": "ipython",
    "version": 3
   },
   "file_extension": ".py",
   "mimetype": "text/x-python",
   "name": "python",
   "nbconvert_exporter": "python",
   "pygments_lexer": "ipython3",
   "version": "3.9.7"
  }
 },
 "nbformat": 4,
 "nbformat_minor": 5
}
