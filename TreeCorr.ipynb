{
 "cells": [
  {
   "cell_type": "code",
   "execution_count": 1,
   "id": "b7c465fb-a7c0-4c18-8c04-12d5b7d7b4d3",
   "metadata": {},
   "outputs": [],
   "source": [
    "import treecorr\n",
    "import pyccl as ccl\n",
    "import numpy as np\n",
    "cosmo = ccl.Cosmology(Omega_c = 0.22, \n",
    "                      h = 0.71,\n",
    "                      Omega_b = 0.0448,\n",
    "                      n_s = 0.963,\n",
    "                      sigma8 = 0.801,\n",
    "                      Omega_k = 0.0,\n",
    "                      w0 = -1.00,\n",
    "                      #Omega_nu = 0.0\n",
    "                      wa = 0.0,)"
   ]
  },
  {
   "cell_type": "markdown",
   "id": "afdab356-4df3-439f-9827-d9db4a8ecda1",
   "metadata": {},
   "source": [
    "We load all of the data into a single array for simplicity, n=6 is used for consistency so that we can start counting from 1 to 5 instead of from 0 to 4"
   ]
  },
  {
   "cell_type": "code",
   "execution_count": 2,
   "id": "23ff823c-1356-43f6-8393-45041444ec02",
   "metadata": {},
   "outputs": [],
   "source": [
    "data = np.empty((6, 1113829, 10))\n",
    "for i in np.arange(5)+1:\n",
    "    data[i] = np.loadtxt('/global/homes/j/jharno/IA-infusion/SkySim5000/GalCat/StageIV_nz/GalCat_tomo{}_All_0.06GpAM_RA_Dec_g1_g2_w_den_Sij.dat'.format(i))      \n",
    "        "
   ]
  },
  {
   "cell_type": "markdown",
   "id": "e8f42df7-2d08-44c6-9b15-b2c93587fde5",
   "metadata": {},
   "source": [
    "Here we calculate the auto correlation functions for all bins"
   ]
  },
  {
   "cell_type": "code",
   "execution_count": null,
   "id": "69b6feab-72f9-4bed-aa06-167ca1d14a11",
   "metadata": {},
   "outputs": [],
   "source": [
    "for i in np.arange(5)+1:\n",
    "    ra = data[i,:,0]\n",
    "    dec = data[i,:,1]\n",
    "    g1 = data[i,:,2]\n",
    "    g2 = data[i,:,3]\n",
    "    w = data[i,:,4]\n",
    "    z = data[i,:,5]\n",
    "    r = ccl.comoving_radial_distance(cosmo, 1./(1+z))\n",
    "    #cat = treecorr.Catalog(ra = ra, dec=dec, g1=g1, g2=g2, w=w, r=r, ra_units='degrees', dec_units='degrees')\n",
    "    cat = treecorr.Catalog(ra = ra, dec=dec, g1=g1, g2=g2, w=w, r=r, ra_units='degrees', dec_units='degrees',flip_g2='True')\n",
    "\n",
    "    gg = treecorr.GGCorrelation(nbins = 9,\n",
    "                       min_sep = 0.00833333, #0.5 arcmin\n",
    "                       max_sep = 7.925, #475.5 arcmin\n",
    "                       bin_slop = 0.01) \n",
    "    #gg.process(cat, metric = 'Rperp')\n",
    "    gg.process(cat, metric = 'Arc')\n",
    "\n",
    "    gg.write('correlations/cross_correlation_tomo{}_{}'.format(i,i))"
   ]
  },
  {
   "cell_type": "markdown",
   "id": "cace6001-0e94-4cdb-abb4-3ca0362e1495",
   "metadata": {},
   "source": [
    "Here we calculate the cross correlation functions for all bins"
   ]
  },
  {
   "cell_type": "code",
   "execution_count": 6,
   "id": "d9c758c6-06ec-49d9-8aa4-7f383ba1a0a0",
   "metadata": {},
   "outputs": [],
   "source": [
    "for i in np.arange(5)+1:\n",
    "    for j in range(1, i):\n",
    "        ra_1 = data[i,:,0]\n",
    "        dec_1 = data[i,:,1]\n",
    "        g1_1 = data[i,:,2]\n",
    "        g2_1 = data[i,:,3]\n",
    "        w_1 = data[i,:,4]\n",
    "        z_1 = data[i,:,5]\n",
    "        r_1 = ccl.comoving_radial_distance(cosmo, 1./(1+z_1))\n",
    "        cat_1 = treecorr.Catalog(ra = ra_1, dec=dec_1, g1=g1_1, g2=g2_1, w=w_1, r=r_1, ra_units='degrees', dec_units='degrees')\n",
    "        ra_2 = data[j,:,0]\n",
    "        dec_2 = data[j,:,1]\n",
    "        g1_2 = data[j,:,2]\n",
    "        g2_2 = data[j,:,3]\n",
    "        w_2 = data[j,:,4]\n",
    "        z_2 = data[j,:,5]\n",
    "        r_2 = ccl.comoving_radial_distance(cosmo, 1./(1+z_2))\n",
    "        cat_2 = treecorr.Catalog(ra = ra_2, dec=dec_2, g1=g1_2, g2=g2_2, w=w_2, r=r_2, ra_units='degrees', dec_units='degrees')\n",
    "        gg = treecorr.GGCorrelation(nbins = 9,\n",
    "                       min_sep = 0.00833333, #0.5 arcmin\n",
    "                       max_sep = 7.925, #475.5 arcmin\n",
    "                       bin_slop = 0.01) \n",
    "        gg.process(cat_1, cat_2, metric = 'Rperp')\n",
    "        gg.write('correlations/cross_correlation_tomo_{}_{}'.format(i,j))"
   ]
  },
  {
   "cell_type": "markdown",
   "id": "412d4289-d705-4c31-acf1-8c9b547c0651",
   "metadata": {},
   "source": [
    "Here we show how to read the correlation functions saved to a file by TreeCorr"
   ]
  },
  {
   "cell_type": "markdown",
   "id": "45496cf9-c405-4739-a895-1ddf444f5345",
   "metadata": {},
   "source": [
    "gg = treecorr.GGCorrelation(nbins = 9,\n",
    "                       min_sep = 0.00833333, #0.5 arcmin\n",
    "                       max_sep = 7.925, #475.5 arcmin\n",
    "                       bin_slop = 0.01) \n",
    "gg.read('correlations/auto_correlation_tomo3')"
   ]
  },
  {
   "cell_type": "code",
   "execution_count": 25,
   "id": "b46920ef-ea14-4d0e-8bde-b3039cda5bb8",
   "metadata": {},
   "outputs": [
    {
     "data": {
      "text/plain": [
       "array([2.3351e-04, 2.2439e-04, 2.2668e-04, 2.1037e-04, 2.0577e-04,\n",
       "       1.6077e-04, 9.8708e-05, 5.3405e-05, 2.7840e-05])"
      ]
     },
     "execution_count": 25,
     "metadata": {},
     "output_type": "execute_result"
    }
   ],
   "source": [
    "gg.xip"
   ]
  }
 ],
 "metadata": {
  "kernelspec": {
   "display_name": "desc-python-dev",
   "language": "python",
   "name": "desc-python-dev"
  },
  "language_info": {
   "codemirror_mode": {
    "name": "ipython",
    "version": 3
   },
   "file_extension": ".py",
   "mimetype": "text/x-python",
   "name": "python",
   "nbconvert_exporter": "python",
   "pygments_lexer": "ipython3",
   "version": "3.8.12"
  }
 },
 "nbformat": 4,
 "nbformat_minor": 5
}
