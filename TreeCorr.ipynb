{
 "cells": [
  {
   "cell_type": "code",
   "execution_count": 1,
   "id": "b7c465fb-a7c0-4c18-8c04-12d5b7d7b4d3",
   "metadata": {},
   "outputs": [],
   "source": [
    "import treecorr\n",
    "import pyccl as ccl\n",
    "import numpy as np\n",
    "filename = '/global/homes/j/jharno/IA-infusion/SkySim5000/GalCat/StageIV_nz/GalCat_tomo1_All_0.06GpAM_RA_Dec_g1_g2_w_den_Sij.dat'\n",
    "config = { 'ra_col' : 1,\n",
    "           'dec_col' : 2,\n",
    "           'g1_col' : 3,\n",
    "           'g2_col' : 4,\n",
    "           'w_col' : 5,\n",
    "           'ra_units' : 'deg',\n",
    "           'dec_units' : 'deg' }\n",
    "#cat = treecorr.Catalog(filename, config)  ##This doesn't allow us to add the distances directly since we have to convert those from the z_true using ccl first\n",
    "cosmo = ccl.Cosmology(Omega_c = 0.22, \n",
    "                      h = 0.71,\n",
    "                      Omega_b = 0.0448,\n",
    "                      n_s = 0.963,\n",
    "                      sigma8 = 0.801,\n",
    "                      Omega_k = 0.0,\n",
    "                      w0 = -1.00,\n",
    "                      #Omega_nu = 0.0\n",
    "                      wa = 0.0,)"
   ]
  },
  {
   "cell_type": "code",
   "execution_count": 2,
   "id": "743ac931-831e-4400-8644-61c480a02619",
   "metadata": {},
   "outputs": [],
   "source": [
    "data = np.loadtxt(filename)\n",
    "ra = data[:,0]\n",
    "dec = data[:,1]\n",
    "g1 = data[:,2]\n",
    "g2 = data[:,3]\n",
    "w = data[:,4]\n",
    "z = data[:,5]\n",
    "r = ccl.comoving_radial_distance(cosmo, 1./(1+z))\n",
    "cat = treecorr.Catalog(ra = ra, dec=dec, g1=g1, g2=g2, w=w, r=r, ra_units='degrees', dec_units='degrees')\n",
    "\n"
   ]
  },
  {
   "cell_type": "code",
   "execution_count": 19,
   "id": "915c0982-95ad-455d-ac06-fd3abc7e1375",
   "metadata": {},
   "outputs": [],
   "source": [
    "gg = treecorr.GGCorrelation(nbins = 9,\n",
    "                       min_sep = 0.00833333, #0.5 arcmin\n",
    "                       max_sep = 7.925, #475.5 arcmin\n",
    "                       bin_slop = 0.01) "
   ]
  },
  {
   "cell_type": "code",
   "execution_count": 13,
   "id": "036191d8-1dc5-41b3-bff9-695f3fd397e8",
   "metadata": {},
   "outputs": [],
   "source": [
    "gg.process(cat, metric = 'Rperp')"
   ]
  },
  {
   "cell_type": "code",
   "execution_count": 15,
   "id": "5a8b0d5b-a4db-4437-8e52-9df83ceb640d",
   "metadata": {},
   "outputs": [
    {
     "data": {
      "text/plain": [
       "array([2.04216917e-06, 3.17183454e-06, 3.04377876e-06, 2.98986691e-06,\n",
       "       2.25493490e-06, 1.58498188e-06, 9.75605654e-07, 5.25226026e-07,\n",
       "       2.56555993e-07])"
      ]
     },
     "execution_count": 15,
     "metadata": {},
     "output_type": "execute_result"
    }
   ],
   "source": [
    "gg.xip"
   ]
  },
  {
   "cell_type": "code",
   "execution_count": 16,
   "id": "df2fe94e-4256-4408-bd02-435f7472fde2",
   "metadata": {},
   "outputs": [
    {
     "data": {
      "text/plain": [
       "array([ 2.90049880e-07, -1.24550796e-07, -1.68422636e-07,  7.23098282e-08,\n",
       "       -1.91173046e-09,  4.45568920e-10, -9.30595704e-09, -7.43834750e-10,\n",
       "       -1.33638437e-10])"
      ]
     },
     "execution_count": 16,
     "metadata": {},
     "output_type": "execute_result"
    }
   ],
   "source": [
    "gg.xim"
   ]
  },
  {
   "cell_type": "code",
   "execution_count": 18,
   "id": "3f01bd18-12ef-4e52-9528-550b8f909092",
   "metadata": {},
   "outputs": [
    {
     "data": {
      "text/plain": [
       "array([1.19200000e+03, 5.41000000e+03, 2.46990000e+04, 1.13663000e+05,\n",
       "       5.19442000e+05, 2.37748900e+06, 1.08604670e+07, 4.93122490e+07,\n",
       "       2.21077707e+08])"
      ]
     },
     "execution_count": 18,
     "metadata": {},
     "output_type": "execute_result"
    }
   ],
   "source": [
    "gg.npairs"
   ]
  },
  {
   "cell_type": "code",
   "execution_count": null,
   "id": "3c301461-fdb8-4d83-8c83-6fd7ac437a3a",
   "metadata": {},
   "outputs": [],
   "source": []
  }
 ],
 "metadata": {
  "kernelspec": {
   "display_name": "desc-python-dev",
   "language": "python",
   "name": "desc-python-dev"
  },
  "language_info": {
   "codemirror_mode": {
    "name": "ipython",
    "version": 3
   },
   "file_extension": ".py",
   "mimetype": "text/x-python",
   "name": "python",
   "nbconvert_exporter": "python",
   "pygments_lexer": "ipython3",
   "version": "3.8.12"
  }
 },
 "nbformat": 4,
 "nbformat_minor": 5
}
