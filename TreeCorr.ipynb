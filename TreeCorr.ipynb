{
 "cells": [
  {
   "cell_type": "code",
   "execution_count": 2,
   "id": "b7c465fb-a7c0-4c18-8c04-12d5b7d7b4d3",
   "metadata": {},
   "outputs": [],
   "source": [
    "import treecorr\n",
    "import pyccl as ccl\n",
    "import numpy as np\n",
    "\n",
    "# Columns ordering:\n",
    "##'ra','dec','z','g1,'g2','weight','delta','e_obs_1','e_obs_2', 'e_obs_no_noise_1','e_obs_no_noise_2','e_IA_TATT_1', 'e_IA_TATT_2'\n",
    "\n",
    "#pure shear signal, noisefree:\n",
    "config_G = {'ra_col' : 1,\n",
    "          'dec_col' : 2,\n",
    "          'g1_col' : 3,\n",
    "          'g2_col' : 4,\n",
    "          'w_col' : 5,\n",
    "          'ra_units' : 'deg',\n",
    "          'dec_units' : 'deg'}\n",
    "\n",
    "# observed ellipticities, with shear, noise and IA\n",
    "config_IA = {'ra_col' : 1,\n",
    "          'dec_col' : 2,\n",
    "          'g1_col' : 8,\n",
    "          'g2_col' : 9,\n",
    "          'w_col' : 6,\n",
    "          'ra_units' : 'deg',\n",
    "          'dec_units' : 'deg'}\n",
    "\n",
    "# observed ellipticities with shear, IA, noisefree\n",
    "config_IA_noisefree = {'ra_col' : 1,\n",
    "          'dec_col' : 2,\n",
    "          'g1_col' : 10,\n",
    "          'g2_col' : 11,\n",
    "          'w_col' : 6,\n",
    "          'ra_units' : 'deg',\n",
    "          'dec_units' : 'deg'}\n",
    "\n",
    "\n",
    "# pure IA\n",
    "config_pureIA = {'ra_col' : 1,\n",
    "          'dec_col' : 2,\n",
    "          'g1_col' : 12,\n",
    "          'g2_col' : 13,\n",
    "          'w_col' : 6,\n",
    "          'ra_units' : 'deg',\n",
    "          'dec_units' : 'deg'}\n",
    "\n"
   ]
  },
  {
   "cell_type": "markdown",
   "id": "afdab356-4df3-439f-9827-d9db4a8ecda1",
   "metadata": {},
   "source": [
    "We load all of the data into a single array for simplicity, n=6 is used for consistency so that we can start counting from 1 to 5 instead of from 0 to 4"
   ]
  },
  {
   "cell_type": "markdown",
   "id": "e8f42df7-2d08-44c6-9b15-b2c93587fde5",
   "metadata": {},
   "source": [
    "Here we calculate the auto correlation functions for all bins"
   ]
  },
  {
   "cell_type": "code",
   "execution_count": 3,
   "id": "69b6feab-72f9-4bed-aa06-167ca1d14a11",
   "metadata": {},
   "outputs": [
    {
     "name": "stdout",
     "output_type": "stream",
     "text": [
      "Done tomo 1\n",
      "Done tomo 2\n",
      "Done tomo 3\n",
      "Done tomo 4\n",
      "Done tomo 5\n"
     ]
    }
   ],
   "source": [
    "for i in np.arange(5)+1:\n",
    "    #filename = '/global/homes/j/jharno/IA-infusion/SkySim5000/GalCat/StageIV_nz/GalCat_tomo{}_All_0.06GpAM_RA_Dec_g1_g2_w_den_Sij.dat'.format(i)\n",
    "    filename = '/global/homes/j/jharno/IA-infusion/SkySim5000/GalCat/StageIV_nz/GalCat_tomo{}_All_0.06GpAM_RA_Dec_g1_g2_w_den_Sij_linear_bias.dat'.format(i)\n",
    "    cat = treecorr.Catalog(filename, config_G, flip_g2=True)\n",
    "    #gg = treecorr.GGCorrelation(nbins = 20, min_sep = 0.005, max_sep = 7, bin_slop=0.01) \n",
    "    gg = treecorr.GGCorrelation(nbins = 20, min_sep=0.5, max_sep=475.5, sep_units='arcmin',bin_slop=0.01,)\n",
    "    #gg.process(cat)\n",
    "    gg.process(cat, metric = 'Arc')\n",
    "    gg.write('correlations/cross_correlation_tomo{}_{}_linear_bias'.format(i,i))\n",
    "    #gg.write('correlations/cross_correlation_tomo{}_{}'.format(i,i))\n",
    "\n",
    "    print('Done tomo', i)"
   ]
  },
  {
   "cell_type": "markdown",
   "id": "cace6001-0e94-4cdb-abb4-3ca0362e1495",
   "metadata": {},
   "source": [
    "Here we calculate the cross correlation functions for all bins"
   ]
  },
  {
   "cell_type": "code",
   "execution_count": 3,
   "id": "5766cbb5-3295-4355-9843-566b5ccb0365",
   "metadata": {},
   "outputs": [
    {
     "data": {
      "text/plain": [
       "array([1.00045588, 1.00037944, 1.0002824 , 1.00022363, 1.00016733,\n",
       "       1.00012737, 1.00009047, 1.00005798, 1.00002227, 0.99996944,\n",
       "       0.99989671, 0.9997696 , 0.99955227, 0.99918221, 0.9985295 ,\n",
       "       0.99738978, 0.99538037, 0.991948  , 0.98618924, 0.97657397])"
      ]
     },
     "execution_count": 3,
     "metadata": {},
     "output_type": "execute_result"
    }
   ],
   "source": [
    "gg.xip"
   ]
  },
  {
   "cell_type": "code",
   "execution_count": 5,
   "id": "d9c758c6-06ec-49d9-8aa4-7f383ba1a0a0",
   "metadata": {},
   "outputs": [
    {
     "name": "stdout",
     "output_type": "stream",
     "text": [
      "Done 2 1\n",
      "Done 3 1\n",
      "Done 3 2\n",
      "Done 4 3\n",
      "Done 5 1\n",
      "Done 5 2\n",
      "Done 5 3\n",
      "Done 5 4\n"
     ]
    }
   ],
   "source": [
    "for i in np.arange(5)+1:\n",
    "    for j in range(1, i):\n",
    "        #filename1 = '/global/homes/j/jharno/IA-infusion/SkySim5000/GalCat/StageIV_nz/GalCat_tomo{}_All_0.06GpAM_RA_Dec_g1_g2_w_den_Sij.dat'.format(i)\n",
    "        #filename2 = '/global/homes/j/jharno/IA-infusion/SkySim5000/GalCat/StageIV_nz/GalCat_tomo{}_All_0.06GpAM_RA_Dec_g1_g2_w_den_Sij.dat'.format(j)\n",
    "\n",
    "        filename1 = '/global/homes/j/jharno/IA-infusion/SkySim5000/GalCat/StageIV_nz/GalCat_tomo{}_All_0.06GpAM_RA_Dec_g1_g2_w_den_Sij_linear_bias.dat'.format(i)\n",
    "        filename2 = '/global/homes/j/jharno/IA-infusion/SkySim5000/GalCat/StageIV_nz/GalCat_tomo{}_All_0.06GpAM_RA_Dec_g1_g2_w_den_Sij_linear_bias.dat'.format(j)\n",
    "        cat_1 = treecorr.Catalog(filename1, config_G, flip_g2=True)\n",
    "        cat_2 = treecorr.Catalog(filename2, config_G, flip_g2=True)\n",
    "        #gg = treecorr.GGCorrelation(nbins = 20, min_sep = 0.005, max_sep = 7, bin_slop=0.01) \n",
    "        gg = treecorr.GGCorrelation(nbins = 20, min_sep=0.5, max_sep=475.5, sep_units='arcmin',bin_slop=0.01)\n",
    "        gg.process(cat_1, cat_2,metric = 'Arc')\n",
    "        #gg.process(cat_1, cat_2, metric = 'Arc')\n",
    "        #gg.write('correlations/cross_correlation_tomo{}_{}'.format(j,i))\n",
    "        gg.write('correlations/cross_correlation_tomo{}_{}_linear_bias'.format(j,i))\n",
    "\n",
    "        print('Done', i,j)"
   ]
  },
  {
   "cell_type": "markdown",
   "id": "412d4289-d705-4c31-acf1-8c9b547c0651",
   "metadata": {},
   "source": [
    "Here we show how to read the correlation functions saved to a file by TreeCorr"
   ]
  },
  {
   "cell_type": "code",
   "execution_count": 2,
   "id": "57aa80b3-79b9-4aad-ba78-1555f8d74ed0",
   "metadata": {},
   "outputs": [],
   "source": [
    "gg = treecorr.GGCorrelation(nbins = 20,\n",
    "                       min_sep = 0.03333333, #2 arcmin\n",
    "                       max_sep = 1.66666667)\n",
    "gg.read('correlations/cross_correlation_tomo3_3')"
   ]
  },
  {
   "cell_type": "code",
   "execution_count": 2,
   "id": "bef2b09c-b11c-4eb7-ad76-a0106be4fa98",
   "metadata": {},
   "outputs": [],
   "source": [
    "from astropy.table import Table"
   ]
  },
  {
   "cell_type": "code",
   "execution_count": 8,
   "id": "53668d03-4c5e-4c54-abac-c3e09572d2eb",
   "metadata": {},
   "outputs": [
    {
     "name": "stdout",
     "output_type": "stream",
     "text": [
      "Done tomo 1\n",
      "Done tomo 2\n",
      "Done tomo 3\n",
      "Done tomo 4\n",
      "Done tomo 5\n"
     ]
    }
   ],
   "source": [
    "#Compute xi+- for observed ellipticities with cosmic shear, noise and IA:\n",
    "\n",
    "# Run the auto-correlation functions:\n",
    "for i in np.arange(5)+1:\n",
    "    #filename = '/global/cscratch1/sd/jharno/fin_epsilon_IA_{}.dat'.format(i)\n",
    "    filename = '/global/cscratch1/sd/jharno/fin_epsilon_IA_{}_linear_bias.dat'.format(i)\n",
    "    #filename = '/global/cscratch1/sd/jharno/fin_epsilon_delta-NLA_{}.dat'.format(i)\n",
    "    #filename = '/global/cscratch1/sd/jharno/fin_epsilon_TATT_{}.dat'.format(i)\n",
    "\n",
    "\n",
    "    cat = treecorr.Catalog(filename, config_IA, flip_g2=True,first_row=2)\n",
    "    gg = treecorr.GGCorrelation(nbins = 20, min_sep=0.5, max_sep=475.5, sep_units='arcmin',bin_slop=0.01,)\n",
    "    gg.process(cat, metric = 'Arc')\n",
    "    #gg.write('correlations/infused_cross_correlation_tomo{}_{}'.format(i,i))\n",
    "    gg.write('correlations/infused_cross_correlation_tomo{}_{}_linear_bias'.format(i,i))\n",
    "    #gg.write('correlations/infused_cross_correlation_tomo_delta-NLA{}_{}'.format(i,i))\n",
    "    #gg.write('correlations/infused_cross_correlation_tomo_TATT{}_{}'.format(i,i))\n",
    "\n",
    "    print(\"Done tomo\", i)\n",
    "    "
   ]
  },
  {
   "cell_type": "code",
   "execution_count": 9,
   "id": "9a02087e-24a2-4851-a4bc-23c0aa100e4d",
   "metadata": {},
   "outputs": [
    {
     "name": "stdout",
     "output_type": "stream",
     "text": [
      "Done tomo 2 1\n",
      "Done tomo 3 1\n",
      "Done tomo 3 2\n",
      "Done tomo 4 1\n",
      "Done tomo 4 2\n",
      "Done tomo 4 3\n",
      "Done tomo 5 1\n",
      "Done tomo 5 2\n",
      "Done tomo 5 3\n",
      "Done tomo 5 4\n"
     ]
    }
   ],
   "source": [
    "# And the cross-redshift bins\n",
    "for i in np.arange(5)+1:\n",
    "    for j in range(1, i):\n",
    "        #filename1 = '/global/cscratch1/sd/jharno/fin_epsilon_IA_{}.dat'.format(i)\n",
    "        #filename2 = '/global/cscratch1/sd/jharno/fin_epsilon_IA_{}.dat'.format(j)\n",
    "\n",
    "        filename1 = '/global/cscratch1/sd/jharno/fin_epsilon_IA_{}_linear_bias.dat'.format(i)\n",
    "        filename2 = '/global/cscratch1/sd/jharno/fin_epsilon_IA_{}_linear_bias.dat'.format(j)\n",
    "\n",
    "\n",
    "        #filename1 = '/global/cscratch1/sd/jharno/fin_epsilon_delta-NLA_{}.dat'.format(i)\n",
    "        #filename2 = '/global/cscratch1/sd/jharno/fin_epsilon_delta-NLA_{}.dat'.format(j)\n",
    "\n",
    "        #filename1 = '/global/cscratch1/sd/jharno/fin_epsilon_TATT_{}.dat'.format(i)\n",
    "        #filename2 = '/global/cscratch1/sd/jharno/fin_epsilon_TATT_{}.dat'.format(j)\n",
    "\n",
    "        cat_1 = treecorr.Catalog(filename1, config_IA, flip_g2=True,first_row=2)\n",
    "        cat_2 = treecorr.Catalog(filename2, config_IA, flip_g2=True,first_row=2)\n",
    "        gg = treecorr.GGCorrelation(nbins = 20, min_sep=0.5, max_sep=475.5, sep_units='arcmin',bin_slop=0.01)\n",
    "        gg.process(cat_1, cat_2,metric = 'Arc')\n",
    "        #gg.write('correlations/infused_cross_correlation_tomo{}_{}'.format(j,i))\n",
    "        gg.write('correlations/infused_cross_correlation_tomo{}_{}_linear_bias'.format(j,i))\n",
    "        #gg.write('correlations/infused_cross_correlation_tomo_delta-NLA{}_{}'.format(j,i))\n",
    "        #gg.write('correlations/infused_cross_correlation_tomo_TATT{}_{}'.format(j,i))\n",
    "\n",
    "        print(\"Done tomo\", i,j)"
   ]
  },
  {
   "cell_type": "code",
   "execution_count": 10,
   "id": "b0e9d9f5-006d-480e-b9cf-6f25e8cd07a8",
   "metadata": {},
   "outputs": [
    {
     "name": "stdout",
     "output_type": "stream",
     "text": [
      "Done tomo 1\n",
      "Done tomo 2\n",
      "Done tomo 3\n",
      "Done tomo 4\n",
      "Done tomo 5\n"
     ]
    }
   ],
   "source": [
    "# Run treecorr on the mocks with IA infused, no noise:\n",
    "\n",
    "# Run the auto-correlation functions:\n",
    "#for i in range(1,2):\n",
    "for i in range(1,6):\n",
    "#for i in np.arange(5)+1:\n",
    "\n",
    "    #filename = '/global/cscratch1/sd/jharno/fin_epsilon_IA_{}.dat'.format(i)\n",
    "    filename = '/global/cscratch1/sd/jharno/fin_epsilon_IA_{}_linear_bias.dat'.format(i)\n",
    "\n",
    "    #filename = '/global/cscratch1/sd/jharno/fin_epsilon_delta-NLA_{}_orig.dat'.format(i)\n",
    "    #filename = '/global/cscratch1/sd/jharno/fin_epsilon_delta-NLA_{}_orig_smooth.dat'.format(i)\n",
    "    #filename = '/global/cscratch1/sd/jharno/fin_epsilon_delta-NLA_{}_orig_smooth_2.5.dat'.format(i)\n",
    "    #filename = '/global/cscratch1/sd/jharno/fin_epsilon_TATT_0.0_0.0_1.0_7.5_{}.dat'.format(i)\n",
    "\n",
    "    #filename = '/global/cscratch1/sd/jharno/fin_epsilon_delta-NLA_{}_m5.0.dat'.format(i)\n",
    "    #filename = '/global/cscratch1/sd/jharno/fin_epsilon_TATT_{}.dat'.format(i)\n",
    "\n",
    "    cat = treecorr.Catalog(filename, config_IA_noisefree, flip_g2=True,first_row=2)\n",
    "    gg = treecorr.GGCorrelation(nbins = 20, min_sep=0.5, max_sep=475.5, sep_units='arcmin',bin_slop=0.01,)\n",
    "    gg.process(cat, metric = 'Arc')\n",
    "    #gg.write('correlations/infused_cross_correlation_no_noise_tomo{}_{}'.format(i,i))\n",
    "    gg.write('correlations/infused_cross_correlation_no_noise_tomo{}_{}_linear_bias'.format(i,i))\n",
    "\n",
    "    #gg.write('correlations/infused_cross_correlation_no_noise_tomo_delta-NLA{}_{}'.format(i,i))\n",
    "    #gg.write('correlations/infused_cross_correlation_no_noise_tomo_delta-NLA{}_{}_Vm5.0'.format(i,i))\n",
    "    #gg.write('correlations/infused_cross_correlation_no_noise_tomo_delta-NLA{}_{}_orig'.format(i,i))\n",
    "    #gg.write('correlations/infused_cross_correlation_no_noise_tomo_delta-NLA{}_{}_orig_smooth'.format(i,i))\n",
    "    #gg.write('correlations/infused_cross_correlation_no_noise_tomo_delta-NLA{}_{}_orig_smooth_2.5'.format(i,i))\n",
    "    #gg.write('correlations/infused_cross_correlation_no_noise_tomo_TATT_0.0_0.0_1.0_7.5_{}_{}'.format(i,i))\n",
    "    #gg.write('correlations/infused_cross_correlation_no_noise_tomo_TATT{}_{}'.format(i,i))\n",
    "\n",
    "    print(\"Done tomo\", i)\n",
    "\n"
   ]
  },
  {
   "cell_type": "code",
   "execution_count": 11,
   "id": "310eaa5b-f27a-43ad-afa5-066d02a9d8aa",
   "metadata": {},
   "outputs": [
    {
     "name": "stdout",
     "output_type": "stream",
     "text": [
      "Done tomo 2 1\n",
      "Done tomo 3 1\n",
      "Done tomo 3 2\n",
      "Done tomo 4 1\n",
      "Done tomo 4 2\n",
      "Done tomo 4 3\n",
      "Done tomo 5 1\n",
      "Done tomo 5 2\n",
      "Done tomo 5 3\n",
      "Done tomo 5 4\n"
     ]
    }
   ],
   "source": [
    "# And the cross-redshift bins\n",
    "for i in np.arange(5)+1:\n",
    "    for j in range(1, i):\n",
    "        #filename1 = '/global/cscratch1/sd/jharno/fin_epsilon_IA_{}.dat'.format(i)\n",
    "        #filename2 = '/global/cscratch1/sd/jharno/fin_epsilon_IA_{}.dat'.format(j)\n",
    "\n",
    "        filename1 = '/global/cscratch1/sd/jharno/fin_epsilon_IA_{}_linear_bias.dat'.format(i)\n",
    "        filename2 = '/global/cscratch1/sd/jharno/fin_epsilon_IA_{}_linear_bias.dat'.format(j)\n",
    "\n",
    "\n",
    "        #filename1 = '/global/cscratch1/sd/jharno/fin_epsilon_delta-NLA_{}.dat'.format(i)\n",
    "        #filename2 = '/global/cscratch1/sd/jharno/fin_epsilon_delta-NLA_{}.dat'.format(j)\n",
    "\n",
    "        #filename1 = '/global/cscratch1/sd/jharno/fin_epsilon_TATT_{}.dat'.format(i)\n",
    "        #filename2 = '/global/cscratch1/sd/jharno/fin_epsilon_TATT_{}.dat'.format(j)\n",
    "\n",
    "        cat_1 = treecorr.Catalog(filename1, config_IA_noisefree, flip_g2=True,first_row=2)\n",
    "        cat_2 = treecorr.Catalog(filename2, config_IA_noisefree, flip_g2=True,first_row=2)\n",
    "        gg = treecorr.GGCorrelation(nbins = 20, min_sep=0.5, max_sep=475.5, sep_units='arcmin',bin_slop=0.01)\n",
    "        gg.process(cat_1, cat_2,metric = 'Arc')\n",
    "        #gg.write('correlations/infused_cross_correlation_no_noise_tomo{}_{}'.format(j,i))\n",
    "\n",
    "        gg.write('correlations/infused_cross_correlation_no_noise_tomo{}_{}_linear_bias'.format(j,i))\n",
    "\n",
    "        #gg.write('correlations/infused_cross_correlation_no_noise_tomo_delta-NLA{}_{}'.format(j,i))\n",
    "        #gg.write('correlations/infused_cross_correlation_no_noise_tomo_TATT{}_{}'.format(j,i))\n",
    "\n",
    "        print(\"Done tomo\", i,j)\n",
    "\n"
   ]
  },
  {
   "cell_type": "code",
   "execution_count": 12,
   "id": "713a7214-d780-43b8-aad5-58dd140f95c6",
   "metadata": {},
   "outputs": [
    {
     "name": "stdout",
     "output_type": "stream",
     "text": [
      "Done tomo 1\n",
      "Done tomo 2\n",
      "Done tomo 3\n",
      "Done tomo 4\n",
      "Done tomo 5\n"
     ]
    }
   ],
   "source": [
    "# Run treecorr on the pure IA signal:\n",
    "\n",
    "# Run the auto-correlation functions:\n",
    "for i in range(1,6):\n",
    "#for i in np.arange(5)+1:\n",
    "\n",
    "    #filename = '/global/cscratch1/sd/jharno/fin_epsilon_IA_{}.dat'.format(i)\n",
    "    filename = '/global/cscratch1/sd/jharno/fin_epsilon_IA_{}_linear_bias.dat'.format(i)\n",
    "\n",
    "    #filename = '/global/cscratch1/sd/jharno/fin_epsilon_delta-NLA_{}.dat'.format(i)\n",
    "    #filename = '/global/cscratch1/sd/jharno/fin_epsilon_delta-NLA_{}_V3.dat'.format(i)\n",
    "    #filename = '/global/cscratch1/sd/jharno/fin_epsilon_TATT_{}.dat'.format(i)\n",
    "\n",
    "\n",
    "\n",
    "    cat = treecorr.Catalog(filename, config_pureIA, flip_g2=True,first_row=2)\n",
    "\n",
    "    gg = treecorr.GGCorrelation(nbins = 20, min_sep=0.5, max_sep=475.5, sep_units='arcmin',bin_slop=0.01,)\n",
    "    gg.process(cat, metric = 'Arc')\n",
    "    #gg.write('correlations/infused_cross_correlation_TATT_tomo{}_{}'.format(i,i))    \n",
    "    gg.write('correlations/infused_cross_correlation_TATT_tomo{}_{}_linear_bias'.format(i,i))    \n",
    "\n",
    "    #gg.write('correlations/infused_cross_correlation_TATT_tomo_delta-NLA{}_{}'.format(i,i))    \n",
    "    #gg.write('correlations/infused_cross_correlation_TATT_tomo_delta-NLA{}_{}_V3'.format(i,i))    \n",
    "    #gg.write('correlations/infused_cross_correlation_TATT_tomo_TATT{}_{}'.format(i,i))    \n",
    "\n",
    "    print(\"Done tomo\",i)"
   ]
  },
  {
   "cell_type": "code",
   "execution_count": 17,
   "id": "ea412e1f-efd7-40de-897f-58723eaabf77",
   "metadata": {},
   "outputs": [
    {
     "name": "stdout",
     "output_type": "stream",
     "text": [
      "Done tomo 2 1\n",
      "Done tomo 3 1\n",
      "Done tomo 3 2\n",
      "Done tomo 4 1\n",
      "Done tomo 4 2\n",
      "Done tomo 4 3\n",
      "Done tomo 5 1\n",
      "Done tomo 5 2\n",
      "Done tomo 5 3\n",
      "Done tomo 5 4\n"
     ]
    }
   ],
   "source": [
    "# And the cross-redshift bins\n",
    "for i in np.arange(5)+1:\n",
    "    for j in range(1, i):\n",
    "        #filename1 = '/global/cscratch1/sd/jharno/fin_epsilon_IA_{}.dat'.format(i)\n",
    "        #filename2 = '/global/cscratch1/sd/jharno/fin_epsilon_IA_{}.dat'.format(j)\n",
    "\n",
    "        filename1 = '/global/cscratch1/sd/jharno/fin_epsilon_IA_{}_linear_bias.dat'.format(i)\n",
    "        filename2 = '/global/cscratch1/sd/jharno/fin_epsilon_IA_{}_linear_bias.dat'.format(j)\n",
    "\n",
    "\n",
    "        #filename1 = '/global/cscratch1/sd/jharno/fin_epsilon_delta-NLA_{}.dat'.format(i)\n",
    "        #filename2 = '/global/cscratch1/sd/jharno/fin_epsilon_delta-NLA_{}.dat'.format(j)\n",
    "\n",
    "        #filename1 = '/global/cscratch1/sd/jharno/fin_epsilon_TATT_{}.dat'.format(i)\n",
    "        #filename2 = '/global/cscratch1/sd/jharno/fin_epsilon_TATT_{}.dat'.format(j)\n",
    "\n",
    "        cat_1 = treecorr.Catalog(filename1, config_pureIA, flip_g2=True,first_row=2)\n",
    "        cat_2 = treecorr.Catalog(filename2, config_pureIA, flip_g2=True,first_row=2)\n",
    "        gg = treecorr.GGCorrelation(nbins = 20, min_sep=0.5, max_sep=475.5, sep_units='arcmin',bin_slop=0.01)\n",
    "        gg.process(cat_1, cat_2, metric = 'Arc')\n",
    "        #gg.write('correlations/infused_cross_correlation_TATT_tomo{}_{}'.format(j,i))       \n",
    "        gg.write('correlations/infused_cross_correlation_TATT_tomo{}_{}_linear_bias'.format(j,i))       \n",
    "\n",
    "        #gg.write('correlations/infused_cross_correlation_TATT_tomo_delta-NLA{}_{}'.format(j,i))\n",
    "        #gg.write('correlations/infused_cross_correlation_TATT_tomo_TATT{}_{}'.format(j,i))\n",
    "\n",
    "        print(\"Done tomo\",i,j)"
   ]
  },
  {
   "cell_type": "code",
   "execution_count": null,
   "id": "4844ad4e-12f5-4ab7-bbe0-9f5dfd2b0552",
   "metadata": {},
   "outputs": [],
   "source": [
    "\n"
   ]
  },
  {
   "cell_type": "code",
   "execution_count": 3,
   "id": "e84aaac2-3b2c-4985-aafd-026ff4e8683b",
   "metadata": {},
   "outputs": [
    {
     "name": "stderr",
     "output_type": "stream",
     "text": [
      "/global/common/software/lsst/common/miniconda/dev-v1r1/envs/desc/lib/python3.9/site-packages/treecorr/ggcorrelation.py:510: RuntimeWarning: invalid value encountered in sqrt\n",
      "  np.sqrt(self.varxip), np.sqrt(self.varxim),\n"
     ]
    },
    {
     "name": "stdout",
     "output_type": "stream",
     "text": [
      "Done tomo 1 1\n"
     ]
    }
   ],
   "source": [
    "# Get the GI term: \n",
    "#Run treecorr on the pure IA_TATT signal of the foreground, and the pure shear of the background:\n",
    "# Get auto+cross bins\n",
    "#for i in range(5,6):\n",
    "#    for j in range(i+1, 6):\n",
    "#for i in np.arange(5)+1:\n",
    "for i in range(1,2):\n",
    "    for j in range(1,i+1):\n",
    "\n",
    "        #filename1 = '/global/cscratch1/sd/jharno/fin_epsilon_IA_{}.dat'.format(i)\n",
    "        #filename2 = '/global/cscratch1/sd/jharno/fin_epsilon_IA_{}.dat'.format(j)\n",
    "\n",
    "        filename1 = '/global/cscratch1/sd/jharno/fin_epsilon_IA_{}_linear_bias.dat'.format(i)\n",
    "        filename2 = '/global/cscratch1/sd/jharno/fin_epsilon_IA_{}_linear_bias.dat'.format(j)\n",
    "\n",
    "\n",
    "        #filename1 = '/global/cscratch1/sd/jharno/fin_epsilon_delta-NLA_{}.dat'.format(i)\n",
    "        #filename2 = '/global/cscratch1/sd/jharno/fin_epsilon_delta-NLA_{}.dat'.format(j)\n",
    "        #filename1 = '/global/cscratch1/sd/jharno/fin_epsilon_delta-NLA_{}_V3.dat'.format(i)\n",
    "        #filename2 = '/global/cscratch1/sd/jharno/fin_epsilon_delta-NLA_{}_V3.dat'.format(j)\n",
    "\n",
    "\n",
    "        #filename1 = '/global/cscratch1/sd/jharno/fin_epsilon_TATT_{}.dat'.format(i)\n",
    "        #filename2 = '/global/cscratch1/sd/jharno/fin_epsilon_TATT_{}.dat'.format(j)\n",
    "\n",
    "        cat_1 = treecorr.Catalog(filename1, config_G, flip_g2=True,first_row=2)\n",
    "        cat_2 = treecorr.Catalog(filename2, config_pureIA, flip_g2=True,first_row=2)\n",
    "        gg = treecorr.GGCorrelation(nbins = 20, min_sep=0.5, max_sep=475.5, sep_units='arcmin',bin_slop=0.01)\n",
    "        gg.process(cat_1, cat_2, metric = 'Arc')\n",
    "        #gg.write('correlations/infused_cross_correlation_GI_tomo{}_{}'.format(j,i))\n",
    "        gg.write('correlations/infused_cross_correlation_GI_tomo{}_{}_linear_bias'.format(j,i))\n",
    "\n",
    "        #gg.write('correlations/infused_cross_correlation_GI_tomo_delta-NLA{}_{}'.format(j,i))\n",
    "        #gg.write('correlations/infused_cross_correlation_GI_tomo_delta-NLA{}_{}_V3'.format(j,i))\n",
    "        #gg.write('correlations/infused_cross_correlation_GI_tomo_TATT{}_{}'.format(j,i))\n",
    "\n",
    "        print(\"Done tomo\",i,j)"
   ]
  },
  {
   "cell_type": "code",
   "execution_count": 4,
   "id": "e2b8ccca-870b-4ef2-9b2c-e07fbba0da48",
   "metadata": {},
   "outputs": [
    {
     "data": {
      "text/plain": [
       "2"
      ]
     },
     "execution_count": 4,
     "metadata": {},
     "output_type": "execute_result"
    }
   ],
   "source": [
    "1+1\n"
   ]
  },
  {
   "cell_type": "code",
   "execution_count": null,
   "id": "b89108e6-b9db-431b-a72e-887c64a112ae",
   "metadata": {},
   "outputs": [],
   "source": []
  }
 ],
 "metadata": {
  "kernelspec": {
   "display_name": "desc-python-dev",
   "language": "python",
   "name": "desc-python-dev"
  },
  "language_info": {
   "codemirror_mode": {
    "name": "ipython",
    "version": 3
   },
   "file_extension": ".py",
   "mimetype": "text/x-python",
   "name": "python",
   "nbconvert_exporter": "python",
   "pygments_lexer": "ipython3",
   "version": "3.8.12"
  }
 },
 "nbformat": 4,
 "nbformat_minor": 5
}
