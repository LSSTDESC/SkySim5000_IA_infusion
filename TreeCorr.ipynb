{
 "cells": [
  {
   "cell_type": "code",
   "execution_count": 1,
   "id": "6a29d428-17c3-4368-bab2-19fe283d14af",
   "metadata": {},
   "outputs": [],
   "source": [
    "import numpy as np\n",
    "import pylab as pl\n",
    "import treecorr\n",
    "import os\n",
    "import csv\n"
   ]
  },
  {
   "cell_type": "code",
   "execution_count": 2,
   "id": "75579c44-84de-4ec7-b24a-13257bbd5d05",
   "metadata": {},
   "outputs": [],
   "source": [
    "#Measure the cross-correlation function using catalogue of different tomographic bin but same line of sight using treecorr :\n",
    "def corr2(name1,name2,a,b,c,d,gg):\n",
    "    cat  = treecorr.Catalog(f'{name1}', ra_col=1, dec_col=2, ra_units= 'degrees',dec_units='degrees',g1_col=a, g2_col=b, flip_g2='True')\n",
    "    cat2 = treecorr.Catalog(f'{name2}', ra_col=1, dec_col=2, ra_units= 'degrees',dec_units='degrees', g1_col=c, g2_col=d, flip_g2='True')\n",
    "    gg.process(cat,cat2)\n",
    "    xip = gg.xip  # The xi_plus correlation function\n",
    "    xim = gg.xim  # The xi_minus correlation function\n",
    "    meanr=gg.meanr # The mean r value\n",
    "    return(xip,xim,meanr) \n",
    "\n",
    "    #varxip=gg.varxip \n",
    "    #varxim=gg.varxim\n",
    "    #gg.write('gg.txt')  # Write results to a file\n",
    "    #return(xip,xim,varxip,varxim,meanr) \n",
    "\n"
   ]
  },
  {
   "cell_type": "code",
   "execution_count": 3,
   "id": "903a1305-b829-4a2f-8339-a2f550c17eb7",
   "metadata": {},
   "outputs": [],
   "source": [
    "# Define paths and file names:\n",
    "path='IA-infusion/SkySim5000/GalCat/zs_plane/'\n",
    "fname_tomo1='0.3035GalCat_%sGpAM_nside%s_X_Y_g1_g2_w.asc'\n",
    "fname_tomo2='0.5022GalCat_%sGpAM_nside%s_X_Y_g1_g2_w.asc'\n",
    "fname_tomo3='0.6557GalCat_%sGpAM_nside%s_X_Y_g1_g2_w.asc'\n",
    "fname_tomo4='0.8240GalCat_%sGpAM_nside%s_X_Y_g1_g2_w.asc'\n",
    "fname_tomo5='1.0060GalCat_%sGpAM_nside%s_X_Y_g1_g2_w.asc'\n",
    "\n",
    "#Number of bin used for treecorr:\n",
    "nbrbin=15 \n",
    "\n",
    "#define the correlation function object:\n",
    "gg = treecorr.GGCorrelation(min_sep=0.5, max_sep=475.5, nbins=nbrbin, bin_slop=0.01019992909, sep_units='arcmin', metric='Arc')\n"
   ]
  },
  {
   "cell_type": "code",
   "execution_count": 4,
   "id": "a38a4b8a-de4f-488c-bec6-1c647fa1bfa3",
   "metadata": {},
   "outputs": [],
   "source": [
    "fname1=fname_tomo2\n",
    "fname2=fname_tomo2\n",
    "\n",
    "xip, xim, theta= corr2(path+fname1,path+fname2,3,4,3,4,gg)"
   ]
  },
  {
   "cell_type": "code",
   "execution_count": null,
   "id": "ef925159-5ffb-48af-8f63-7facbdff2d71",
   "metadata": {},
   "outputs": [],
   "source": [
    "1+1"
   ]
  },
  {
   "cell_type": "code",
   "execution_count": 5,
   "id": "d6c1a1be-cdd4-44c8-93cd-7147e939a01b",
   "metadata": {},
   "outputs": [
    {
     "name": "stdout",
     "output_type": "stream",
     "text": [
      "0.655610170867977 5.787188008884062e-05 6.585676957634818e-07\n",
      "1.035512683194924 4.557040780642846e-05 2.6245897571839157e-06\n",
      "1.635240823168757 3.471376789945104e-05 5.1820167344330986e-06\n",
      "2.5826703433671048 2.510609506780861e-05 5.727116692066141e-06\n",
      "4.079400078729165 1.7297004465629774e-05 5.716065211102184e-06\n",
      "6.4439565205720895 1.147457577816653e-05 5.201726161090616e-06\n",
      "10.179054578837576 7.589408533053659e-06 4.291499701434533e-06\n",
      "16.079201307605594 5.088695667961036e-06 3.236141689963075e-06\n",
      "25.398597864397576 3.44025765354931e-06 2.2678106853829735e-06\n",
      "40.11834558018106 2.2543840247782573e-06 1.5521366221053624e-06\n",
      "63.36554104517262 1.4355512841324306e-06 1.0755057350902019e-06\n",
      "100.07743667918655 8.714358767716117e-07 7.642046171845808e-07\n",
      "158.0400213415369 4.849525952355845e-07 5.188444213278136e-07\n",
      "249.5321722338884 1.665798274901863e-07 3.6343921955956733e-07\n",
      "393.8584152960895 2.5517660728528973e-08 2.843572730292241e-07\n"
     ]
    }
   ],
   "source": [
    "for bin in range(0,nbrbin):\n",
    "    print(theta[bin], xip[bin], xim[bin])"
   ]
  },
  {
   "cell_type": "code",
   "execution_count": null,
   "id": "b35eaae2-bdf7-48be-8242-425aaeca7b79",
   "metadata": {},
   "outputs": [],
   "source": []
  }
 ],
 "metadata": {
  "kernelspec": {
   "display_name": "desc-python-dev",
   "language": "python",
   "name": "desc-python-dev"
  },
  "language_info": {
   "codemirror_mode": {
    "name": "ipython",
    "version": 3
   },
   "file_extension": ".py",
   "mimetype": "text/x-python",
   "name": "python",
   "nbconvert_exporter": "python",
   "pygments_lexer": "ipython3",
   "version": "3.8.12"
  }
 },
 "nbformat": 4,
 "nbformat_minor": 5
}
