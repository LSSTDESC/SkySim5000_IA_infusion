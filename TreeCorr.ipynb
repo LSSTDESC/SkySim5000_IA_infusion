{
 "cells": [
  {
   "cell_type": "code",
   "execution_count": null,
   "id": "6a29d428-17c3-4368-bab2-19fe283d14af",
   "metadata": {},
   "outputs": [],
   "source": [
    "import treecorr\n",
    "import pyccl as ccl\n",
    "import numpy as np\n",
    "    \n",
    "config = {'ra_col' : 1,\n",
    "          'dec_col' : 2,\n",
    "          'g1_col' : 3,\n",
    "          'g2_col' : 4,\n",
    "          'w_col' : 5,\n",
    "          'ra_units' : 'deg',\n",
    "          'dec_units' : 'deg'}\n"
   ]
  },
  {
   "cell_type": "markdown",
   "id": "78f18a63-92a8-4d9c-aeaf-a7382cb51d15",
   "metadata": {},
   "source": [
    "We load all of the data into a single array for simplicity, n=6 is used for consistency so that we can start counting from 1 to 5 instead of from 0 to 4\n",
    "\n",
    "Here we calculate the auto correlation functions for all bins"
   ]
  },
  {
   "cell_type": "code",
   "execution_count": null,
   "id": "75579c44-84de-4ec7-b24a-13257bbd5d05",
   "metadata": {},
   "outputs": [],
   "source": [
    "for i in np.arange(5)+1:\n",
    "    filename = '/global/homes/j/jharno/IA-infusion/SkySim5000/GalCat/StageIV_nz/GalCat_tomo{}_All_0.06GpAM_RA_Dec_g1_g2_w_den_Sij.dat'.format(i)\n",
    "    cat = treecorr.Catalog(filename, config, flip_g2=True)\n",
    "    #gg = treecorr.GGCorrelation(nbins = 20, min_sep = 0.005, max_sep = 7, bin_slop=0.01) \n",
    "    gg = treecorr.GGCorrelation(nbins = 20, min_sep=0.5, max_sep=475.5, sep_units='arcmin',bin_slop=0.01,)\n",
    "    gg.process(cat, metric = 'Arc')\n",
    "    gg.write('correlations/cross_correlation_tomo{}_{}'.format(i,i))\n"
   ]
  },
  {
   "cell_type": "markdown",
   "id": "ab74695b-36bf-4e32-be9f-d0707c844dd6",
   "metadata": {},
   "source": [
    "Here we calculate the cross correlation functions for all bins"
   ]
  },
  {
   "cell_type": "code",
   "execution_count": null,
   "id": "903a1305-b829-4a2f-8339-a2f550c17eb7",
   "metadata": {},
   "outputs": [],
   "source": [
    "for i in np.arange(5)+1:\n",
    "    for j in range(1, i):\n",
    "        filename1 = '/global/homes/j/jharno/IA-infusion/SkySim5000/GalCat/StageIV_nz/GalCat_tomo{}_All_0.06GpAM_RA_Dec_g1_g2_w_den_Sij.dat'.format(i)\n",
    "        filename2 = '/global/homes/j/jharno/IA-infusion/SkySim5000/GalCat/StageIV_nz/GalCat_tomo{}_All_0.06GpAM_RA_Dec_g1_g2_w_den_Sij.dat'.format(j)\n",
    "        cat_1 = treecorr.Catalog(filename1, config, flip_g2='True')\n",
    "        cat_2 = treecorr.Catalog(filename2, config, flip_g2='True')\n",
    "        #gg = treecorr.GGCorrelation(nbins = 20, min_sep = 0.005, max_sep = 7, bin_slop=0.01) \n",
    "        gg = treecorr.GGCorrelation(nbins = 20, min_sep=0.5, max_sep=475.5, sep_units='arcmin',bin_slop=0.01)\n",
    "        gg.process(cat_1, cat_2)\n",
    "        #gg.process(cat_1, cat_2, metric = 'Arc')\n",
    "        gg.write('correlations/cross_correlation_tomo{}_{}'.format(j,i))"
   ]
  },
  {
   "cell_type": "markdown",
   "id": "15d87f09-ec1e-420c-80c9-b2dbc42f2649",
   "metadata": {},
   "source": [
    "Here we show how to read the correlation functions saved to a file by TreeCorr"
   ]
  },
  {
   "cell_type": "code",
   "execution_count": null,
   "id": "a38a4b8a-de4f-488c-bec6-1c647fa1bfa3",
   "metadata": {},
   "outputs": [],
   "source": [
    "gg = treecorr.GGCorrelation(nbins = 20,\n",
    "                       min_sep = 0.03333333, #2 arcmin\n",
    "                       max_sep = 1.66666667)\n",
    "gg.read('correlations/cross_correlation_tomo3_3')"
   ]
  },
  {
   "cell_type": "code",
   "execution_count": null,
   "id": "ef925159-5ffb-48af-8f63-7facbdff2d71",
   "metadata": {},
   "outputs": [],
   "source": [
    "from astropy.table import Table"
   ]
  },
  {
   "cell_type": "code",
   "execution_count": null,
   "id": "d6c1a1be-cdd4-44c8-93cd-7147e939a01b",
   "metadata": {},
   "outputs": [],
   "source": [
    "##'ra','dec','z','weight','delta','e_obs_1','e_obs_2', 'e_obs_no_noise_1','e_obs_no_noise_2','e_IA_TATT_1', 'e_IA_TATT_2'\n",
    "\n",
    "# Run the auto-correlation functions:\n",
    "config_IA = {'ra_col' : 1,\n",
    "          'dec_col' : 2,\n",
    "          'g1_col' : 6,\n",
    "          'g2_col' : 7,\n",
    "          'w_col' : 4,\n",
    "          'ra_units' : 'deg',\n",
    "          'dec_units' : 'deg'}\n",
    "\n",
    "\n",
    "# Run the auto-correlation functions:\n",
    "for i in np.arange(5)+1:\n",
    "    filename = '/global/cscratch1/sd/lhior/fin_epsilon_IA_{}.dat'.format(i)\n",
    "    cat = treecorr.Catalog(filename, config_IA, flip_g2=True,first_row=2)\n",
    "    #gg = treecorr.GGCorrelation(nbins = 20, min_sep = 0.005, max_sep = 7, bin_slop=0.01) \n",
    "    gg = treecorr.GGCorrelation(nbins = 20, min_sep=0.5, max_sep=475.5, sep_units='arcmin',bin_slop=0.01,)\n",
    "    gg.process(cat, metric = 'Arc')\n",
    "    gg.write('correlations/infused_cross_correlation_tomo{}_{}'.format(i,i))\n",
    "\n",
    "# And the cross-redshift bins\n",
    "for i in np.arange(5)+1:\n",
    "    for j in range(1, i):\n",
    "        filename1 = '/global/cscratch1/sd/lhior/fin_epsilon_IA_{}.dat'.format(i)\n",
    "        filename2 = '/global/cscratch1/sd/lhior/fin_epsilon_IA_{}.dat'.format(j)\n",
    "        cat_1 = treecorr.Catalog(filename1, config_IA, flip_g2='True',first_row=2)\n",
    "        cat_2 = treecorr.Catalog(filename2, config_IA, flip_g2='True',first_row=2)\n",
    "        #gg = treecorr.GGCorrelation(nbins = 20, min_sep = 0.005, max_sep = 7, bin_slop=0.01) \n",
    "        gg = treecorr.GGCorrelation(nbins = 20, min_sep=0.5, max_sep=475.5, sep_units='arcmin',bin_slop=0.01)\n",
    "        gg.process(cat_1, cat_2)\n",
    "        #gg.process(cat_1, cat_2, metric = 'Arc')\n",
    "        gg.write('correlations/infused_cross_correlation_tomo{}_{}'.format(j,i))"
   ]
  },
  {
   "cell_type": "code",
   "execution_count": null,
   "id": "b35eaae2-bdf7-48be-8242-425aaeca7b79",
   "metadata": {},
   "outputs": [],
   "source": [
    "# Run treecorr on the mocks with IA infused, no noise:\n",
    "\n",
    "# Run the auto-correlation functions:\n",
    "config_IA = {'ra_col' : 1,\n",
    "          'dec_col' : 2,\n",
    "          'g1_col' : 8,\n",
    "          'g2_col' : 9,\n",
    "          'w_col' : 4,\n",
    "          'ra_units' : 'deg',\n",
    "          'dec_units' : 'deg'}\n",
    "\n",
    "\n",
    "# Run the auto-correlation functions:\n",
    "for i in np.arange(5)+1:\n",
    "    filename = '/global/cscratch1/sd/lhior/fin_epsilon_IA_{}.dat'.format(i)\n",
    "    cat = treecorr.Catalog(filename, config_IA, flip_g2=True,first_row=2)\n",
    "    #gg = treecorr.GGCorrelation(nbins = 20, min_sep = 0.005, max_sep = 7, bin_slop=0.01) \n",
    "    gg = treecorr.GGCorrelation(nbins = 20, min_sep=0.5, max_sep=475.5, sep_units='arcmin',bin_slop=0.01,)\n",
    "    gg.process(cat, metric = 'Arc')\n",
    "    gg.write('correlations/infused_cross_correlation_no_noise_tomo{}_{}'.format(i,i))\n",
    "\n",
    "# And the cross-redshift bins\n",
    "for i in np.arange(5)+1:\n",
    "    for j in range(1, i):\n",
    "        filename1 = '/global/cscratch1/sd/lhior/fin_epsilon_IA_{}.dat'.format(i)\n",
    "        filename2 = '/global/cscratch1/sd/lhior/fin_epsilon_IA_{}.dat'.format(j)\n",
    "        cat_1 = treecorr.Catalog(filename1, config_IA, flip_g2='True',first_row=2)\n",
    "        cat_2 = treecorr.Catalog(filename2, config_IA, flip_g2='True',first_row=2)\n",
    "        #gg = treecorr.GGCorrelation(nbins = 20, min_sep = 0.005, max_sep = 7, bin_slop=0.01) \n",
    "        gg = treecorr.GGCorrelation(nbins = 20, min_sep=0.5, max_sep=475.5, sep_units='arcmin',bin_slop=0.01)\n",
    "        gg.process(cat_1, cat_2)\n",
    "        #gg.process(cat_1, cat_2, metric = 'Arc')\n",
    "        gg.write('correlations/infused_cross_correlation_no_noise_tomo{}_{}'.format(j,i))"
   ]
  },
  {
   "cell_type": "code",
   "execution_count": null,
   "id": "bcbe1687-c833-4941-819b-666d35d1a69a",
   "metadata": {},
   "outputs": [],
   "source": [
    "\n",
    "# Run treecorr on the mocks with IA_TATT infused:\n",
    "\n",
    "\n",
    "# Run the auto-correlation functions:\n",
    "config_IA = {'ra_col' : 1,\n",
    "          'dec_col' : 2,\n",
    "          'g1_col' : 10,\n",
    "          'g2_col' : 11,\n",
    "          'w_col' : 4,\n",
    "          'ra_units' : 'deg',\n",
    "          'dec_units' : 'deg'}\n",
    "\n",
    "\n",
    "# Run the auto-correlation functions:\n",
    "for i in np.arange(5)+1:\n",
    "    filename = '/global/cscratch1/sd/lhior/fin_epsilon_IA_{}.dat'.format(i)\n",
    "    cat = treecorr.Catalog(filename, config_IA, flip_g2=True,first_row=2)\n",
    "    #gg = treecorr.GGCorrelation(nbins = 20, min_sep = 0.005, max_sep = 7, bin_slop=0.01) \n",
    "    gg = treecorr.GGCorrelation(nbins = 20, min_sep=0.5, max_sep=475.5, sep_units='arcmin',bin_slop=0.01,)\n",
    "    gg.process(cat, metric = 'Arc')\n",
    "    gg.write('correlations/infused_cross_correlation_TATT_tomo{}_{}'.format(i,i))\n",
    "\n",
    "# And the cross-redshift bins\n",
    "for i in np.arange(5)+1:\n",
    "    for j in range(1, i):\n",
    "        filename1 = '/global/cscratch1/sd/lhior/fin_epsilon_IA_{}.dat'.format(i)\n",
    "        filename2 = '/global/cscratch1/sd/lhior/fin_epsilon_IA_{}.dat'.format(j)\n",
    "        cat_1 = treecorr.Catalog(filename1, config_IA, flip_g2='True',first_row=2)\n",
    "        cat_2 = treecorr.Catalog(filename2, config_IA, flip_g2='True',first_row=2)\n",
    "        #gg = treecorr.GGCorrelation(nbins = 20, min_sep = 0.005, max_sep = 7, bin_slop=0.01) \n",
    "        gg = treecorr.GGCorrelation(nbins = 20, min_sep=0.5, max_sep=475.5, sep_units='arcmin',bin_slop=0.01)\n",
    "        gg.process(cat_1, cat_2)\n",
    "        #gg.process(cat_1, cat_2, metric = 'Arc')\n",
    "        gg.write('correlations/infused_cross_correlation_TATT_tomo{}_{}'.format(j,i))"
   ]
  }
 ],
 "metadata": {
  "kernelspec": {
   "display_name": "desc-python-dev",
   "language": "python",
   "name": "desc-python-dev"
  },
  "language_info": {
   "codemirror_mode": {
    "name": "ipython",
    "version": 3
   },
   "file_extension": ".py",
   "mimetype": "text/x-python",
   "name": "python",
   "nbconvert_exporter": "python",
   "pygments_lexer": "ipython3",
   "version": "3.8.12"
  }
 },
 "nbformat": 4,
 "nbformat_minor": 5
}
