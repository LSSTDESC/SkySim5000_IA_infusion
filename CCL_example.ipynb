{
 "cells": [
  {
   "cell_type": "code",
   "execution_count": 1,
   "id": "e991046b-c203-467c-af68-573706112d6c",
   "metadata": {},
   "outputs": [
    {
     "name": "stdout",
     "output_type": "stream",
     "text": [
      "%pylab is deprecated, use %matplotlib inline and import the required libraries.\n",
      "Populating the interactive namespace from numpy and matplotlib\n"
     ]
    },
    {
     "name": "stderr",
     "output_type": "stream",
     "text": [
      "/global/common/software/lsst/common/miniconda/dp-v0.0.42-d/lib/python3.8/site-packages/IPython/core/magics/pylab.py:162: UserWarning: pylab import has clobbered these variables: ['plt']\n",
      "`%matplotlib` prevents importing * from pylab and numpy\n",
      "  warn(\"pylab import has clobbered these variables: %s\"  % clobbered +\n"
     ]
    }
   ],
   "source": [
    "    import numpy as np\n",
    "    import pylab as plt\n",
    "    import pyccl as ccl\n",
    "    import pyccl.nl_pt as pt\n",
    "    import pyccl.ccllib as lib\n",
    "    from astropy import units as u\n",
    "    from astropy.coordinates import Angle\n",
    "    %pylab inline \n",
    "    from astropy.table import Table"
   ]
  },
  {
   "cell_type": "code",
   "execution_count": 3,
   "id": "e093f808-c086-419c-a8fd-459df0c9f6bb",
   "metadata": {},
   "outputs": [],
   "source": [
    "#OuterRim:\n",
    "cosmo = ccl.Cosmology(Omega_c=0.22, Omega_b=0.0448, \n",
    "    h=0.71, sigma8 = 0.801, n_s= 0.963,w0=-1.00,wa=0.0, Omega_k=0.0)\n",
    " "
   ]
  },
  {
   "cell_type": "code",
   "execution_count": null,
   "id": "4a04f0fa-32ce-44a8-a0f4-c587b91b7e9f",
   "metadata": {},
   "outputs": [],
   "source": []
  }
 ],
 "metadata": {
  "kernelspec": {
   "display_name": "desc-python-dev",
   "language": "python",
   "name": "desc-python-dev"
  },
  "language_info": {
   "codemirror_mode": {
    "name": "ipython",
    "version": 3
   },
   "file_extension": ".py",
   "mimetype": "text/x-python",
   "name": "python",
   "nbconvert_exporter": "python",
   "pygments_lexer": "ipython3",
   "version": "3.8.12"
  }
 },
 "nbformat": 4,
 "nbformat_minor": 5
}
