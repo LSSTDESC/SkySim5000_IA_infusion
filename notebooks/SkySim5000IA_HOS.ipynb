{
 "cells": [
  {
   "cell_type": "code",
   "execution_count": 1,
   "id": "66e62354-3da4-4ded-bf91-c840f6d18c3a",
   "metadata": {},
   "outputs": [],
   "source": [
    "import numpy as np\n",
    "from glob import glob\n",
    "import matplotlib.pyplot as plt\n",
    "from matplotlib.lines import Line2D"
   ]
  },
  {
   "cell_type": "code",
   "execution_count": 2,
   "id": "9f22e2a3-1050-4d6c-916c-d040bc639c3b",
   "metadata": {
    "tags": []
   },
   "outputs": [],
   "source": [
    "import os\n",
    "#from HOScodes import *"
   ]
  },
  {
   "cell_type": "code",
   "execution_count": 3,
   "id": "2a975e6b-16a1-4d1a-8b72-bed3140fca21",
   "metadata": {
    "tags": []
   },
   "outputs": [],
   "source": [
    "plt.style.use('/global/homes/j/jatorres/plots/pltstyle.mplstyle') #only to load mpl style params #Fix latex compiler"
   ]
  },
  {
   "cell_type": "markdown",
   "id": "9f899f62-43e2-4fd3-9658-2c8625b79072",
   "metadata": {
    "tags": []
   },
   "source": [
    "# Intrinsic Alignments Infused simulations"
   ]
  },
  {
   "cell_type": "code",
   "execution_count": 4,
   "id": "ad028707-840c-4ac9-85fb-ac5d6e940d99",
   "metadata": {
    "tags": []
   },
   "outputs": [],
   "source": [
    "dir_results = '/pscratch/sd/j/jatorres/data/HOScodes/SkySim5000IA/'"
   ]
  },
  {
   "cell_type": "markdown",
   "id": "5418a180-4925-4277-81a2-ac8a89e0cdf6",
   "metadata": {},
   "source": [
    "## Select IA model"
   ]
  },
  {
   "cell_type": "code",
   "execution_count": 5,
   "id": "6fd26c9b-ff01-4906-aa5e-45559670881e",
   "metadata": {
    "tags": []
   },
   "outputs": [],
   "source": [
    "IA_model = 'NLA'\n",
    "IA_params_dict = {'noIA':['noIA'],\n",
    "                  'NLA':['AIAp1','AIAm1'],\n",
    "                  'deltaNLA':['AIAp1_bta1','AIAp1_bta2'],\n",
    "                  'deltaTT':['C2m1_bta1','C2p1_bta1'],\n",
    "                  'TATT':['AIAp1_C2p1_bta1'],\n",
    "                  'TT':['C2p1','C2m1'],\n",
    "                  'HODNLA':['AIAp1'],\n",
    "                  'HODTT':['A2p1']}\n",
    "free_par = IA_params_dict[IA_model]\n",
    "f0 = IA_model+'_'+free_par[0]"
   ]
  },
  {
   "cell_type": "markdown",
   "id": "cbb8295c-4073-41f0-b9dd-176621a7b977",
   "metadata": {
    "jp-MarkdownHeadingCollapsed": true,
    "tags": []
   },
   "source": [
    "## map2alm"
   ]
  },
  {
   "cell_type": "code",
   "execution_count": null,
   "id": "64c9484e-7163-45d1-a69f-333dce169e00",
   "metadata": {
    "tags": []
   },
   "outputs": [],
   "source": [
    "ax_d = {'0':(0,0),'1':(0,1),'2':(0,2),'3':(1,0),'4':(1,1)} #plot axes dict\n",
    "ell_map2_bins = np.arange(0,5001,1)\n",
    "ell_rb = ell_map2_bins[50:-1].reshape(99,50).mean(axis=1) #x-axis map2\n",
    "\n",
    "l1 = Line2D([0],[0],lw=2,c='k')# line element for legends\n",
    "l2 = Line2D([0],[0],lw=2,c='r')"
   ]
  },
  {
   "cell_type": "code",
   "execution_count": null,
   "id": "888a95bb-b889-4ee6-8d75-ade72a58c4ab",
   "metadata": {
    "tags": []
   },
   "outputs": [],
   "source": [
    "\n",
    "\n",
    "SkySim5000_map2_IA = []\n",
    "SkySim5000_map2_SC = []\n",
    "SkySim5000_map2_noIA = []\n",
    "\n",
    "p=0\n",
    "q = 0\n",
    "for i in range(1,6):\n",
    "    p = i - 1\n",
    "    #print('saving bin (%d,%d)'%(i,i),'index:',int(10 - (5 - p)*(4-p)/2 + p))\n",
    "    SkySim5000_map2_noIA.append(np.loadtxt(dir_results+'noIA/map2/kappa_skysim5000_noIA_noisefree_tomo%d_Nmap%d_map2_Cell_ell_0_5000.dat'%(i,i)))\n",
    "    SkySim5000_map2_IA.append(np.loadtxt(dir_results+IA_model+'/map2/kappa_skysim5000_'+IA_model+'_'+f0+'_noisefree_tomo%d_Nmap%d_map2_Cell_ell_0_5000.dat'%(i,i)))\n",
    "    SkySim5000_map2_SC.append(np.loadtxt(dir_results+IA_model+'/map2/kappa_skysim5000_deltaNLA_noIA_bta1_noisefree_tomo%d_Nmap%d_map2_Cell_ell_0_5000.dat'%(i,i)))\n",
    "    #SkySim5000_map2_IA.append(np.loadtxt(dir_results+IA_model+'/map2/kappa_skysim5000_'+f0+'_'+IA_model+'_noisefree_tomo%d_Nmap%d_map2_Cell_ell_0_5000.dat'%(i,i)))\n",
    "    for j in range(i+1,6):\n",
    "        q = j - 1\n",
    "    #    print('saving bin (%d,%d)'%(i,j),'index:',int(10 - (5 - p)*(4-p)/2 + q))\n",
    "#        print('saving bin (%d,%d)'%(i,j),'index:',)\n",
    "        SkySim5000_map2_noIA.append(np.loadtxt(dir_results+'noIA/map2/kappa_skysim5000_noIA_noisefree_tomo%d_Nmap%d_%d_map2_Cell_ell_0_5000.dat'%(j,j,i)))\n",
    "        SkySim5000_map2_IA.append(np.loadtxt(dir_results+IA_model+'/map2/kappa_skysim5000_'+IA_model+'_'+f0+'_noisefree_tomo%d_Nmap%d_%d_map2_Cell_ell_0_5000.dat'%(j,j,i)))\n",
    "        SkySim5000_map2_SC.append(np.loadtxt(dir_results+IA_model+'/map2/kappa_skysim5000_deltaNLA_noIA_bta1_noisefree_tomo%d_Nmap%d_%d_map2_Cell_ell_0_5000.dat'%(j,j,i)))\n",
    "        #SkySim5000_map2_IA.append(np.loadtxt(dir_results+IA_model+'/map2/kappa_skysim5000_'+f0+'_'+IA_model+'_noisefree_tomo%d_Nmap%d_%d_map2_Cell_ell_0_5000.dat'%(j,j,i)))"
   ]
  },
  {
   "cell_type": "code",
   "execution_count": null,
   "id": "a4c85c10-cff6-4695-a0ec-c480517c0d0f",
   "metadata": {
    "tags": []
   },
   "outputs": [],
   "source": [
    "map2_rebinned_mean_noIA = []\n",
    "map2_rebinned_mean_IA = []\n",
    "map2_rebinned_mean_SC = []\n",
    "map2_rebinned_std_noIA = []\n",
    "map2_rebinned_std_IA = []\n",
    "map2_rebinned_std_SC = []\n",
    "for i in range(15):\n",
    "    map2_rb = SkySim5000_map2_noIA[i][50:-1].reshape(99,50) #this is only a linear rebinning. Maybe try log-binning later\n",
    "    map2_rb_mean = np.mean(map2_rb,axis=1)\n",
    "    map2_rb_std = np.std(map2_rb,axis=1)\n",
    "    map2_rebinned_mean_noIA.append(map2_rb_mean)\n",
    "    map2_rebinned_std_noIA.append(map2_rb_std)\n",
    "    map2_rb = SkySim5000_map2_IA[i][50:-1].reshape(99,50)\n",
    "    map2_rb_mean = np.mean(map2_rb,axis=1)\n",
    "    map2_rb_std = np.std(map2_rb,axis=1)\n",
    "    map2_rebinned_mean_IA.append(map2_rb_mean)\n",
    "    map2_rebinned_std_IA.append(map2_rb_std)\n",
    "    map2_rb = SkySim5000_map2_SC[i][50:-1].reshape(99,50)\n",
    "    map2_rb_mean = np.mean(map2_rb,axis=1)\n",
    "    map2_rb_std = np.std(map2_rb,axis=1)\n",
    "    map2_rebinned_mean_SC.append(map2_rb_mean)\n",
    "    map2_rebinned_std_SC.append(map2_rb_std)"
   ]
  },
  {
   "cell_type": "code",
   "execution_count": null,
   "id": "719a0c94-ed0c-43fc-b135-924daf7b6512",
   "metadata": {
    "tags": []
   },
   "outputs": [],
   "source": [
    "p=0\n",
    "q = 0\n",
    "f,ax = plt.subplots(5,5,figsize=(20,12),sharex=False,sharey=False)\n",
    "for i in range(1,6):\n",
    "    p = i - 1\n",
    "    index1 = int(10 - (5 - p)*(4-p)/2 + p)\n",
    "    ax[i-1,i-1].plot(ell_rb,np.zeros_like(map2_rebinned_mean_noIA[index1]),'k-',lw=2)\n",
    "    #ax[i-1,i-1].plot(ell_rb,map2_rebinned_mean_NLAp1[index1]/(map2_rebinned_mean_noIA[index1])-1,'r-',lw=2)\n",
    "    ax[i-1,i-1].errorbar(ell_rb,map2_rebinned_mean_IA[index1]/(map2_rebinned_mean_noIA[index1])-1,yerr=map2_rebinned_std_IA[index1]/(map2_rebinned_mean_noIA[index1]),fmt='r-',lw=2)\n",
    "    ax[i-1,i-1].errorbar(ell_rb,map2_rebinned_mean_SC[index1]/(map2_rebinned_mean_noIA[index1])-1,yerr=map2_rebinned_std_SC[index1]/(map2_rebinned_mean_noIA[index1]),fmt='b-',lw=2)\n",
    "    ax[i-1,i-1].set_ylim(-1.2,1.2)\n",
    "    ax[i-1,i-1].set_yticks([-1,-0.5,0,0.5,1])\n",
    "    ax[i-1,i-1].set_xlim(7e1,4e3)\n",
    "    ax[i-1,i-1].set_xscale('log')\n",
    "    ax[i-1,i-1].set_xlabel(r'$\\ell$')\n",
    "    ax[i-1,i-1].set_ylabel(r'$\\Delta C_{\\ell}/C_{\\ell}^{\\rm noIA}$')\n",
    "    ax[i-1,i-1].text(1e2,0.6,'%d - %d'%(i,i))\n",
    "    #print('index: %d'%index1)\n",
    "    for j in range(i+1,6):\n",
    "        q = j - 1\n",
    "        f.delaxes(ax[j-1,i-1])\n",
    "        index2 = int(10 - (5 - p)*(4-p)/2 + q)\n",
    "        ax[i-1,j-1].plot(ell_rb,np.zeros_like(map2_rebinned_mean_noIA[index2]),'k-',lw=2)\n",
    "        #ax[i-1,j-1].plot(ell_rb,map2_rebinned_mean_NLAp1[index2]/(map2_rebinned_mean_noIA[index2])-1,'r-',lw=2)\n",
    "        ax[i-1,j-1].errorbar(ell_rb,map2_rebinned_mean_IA[index2]/(map2_rebinned_mean_noIA[index2])-1,yerr=np.abs(map2_rebinned_std_IA[index2]/(map2_rebinned_mean_noIA[index2])),fmt='r-',lw=2)\n",
    "        ax[i-1,j-1].errorbar(ell_rb,map2_rebinned_mean_SC[index2]/(map2_rebinned_mean_noIA[index2])-1,yerr=np.abs(map2_rebinned_std_SC[index2]/(map2_rebinned_mean_noIA[index2])),fmt='b-',lw=2)\n",
    "        ax[i-1,j-1].set_ylim(-1.2,1.2)\n",
    "        ax[i-1,j-1].set_yticks([-1,-0.5,0,0.5,1])\n",
    "        ax[i-1,j-1].set_xlim(7e1,4e3)\n",
    "        ax[i-1,j-1].set_xscale('log')\n",
    "        ax[i-1,j-1].set_xlabel(r'$\\ell$')\n",
    "        ax[i-1,j-1].text(1e2,0.6,'%d - %d'%(i,j))\n",
    "        #print('index: %d'%index2)\n",
    "\n",
    "#ax[0,0].set_yscale('log')\n",
    "ax[0,0].legend([l1,l2],['noIA',r'NLA ${\\rm A}_{\\rm IA} = +1$'],bbox_to_anchor=(0.5,-0.5))\n",
    "plt.tight_layout()\n",
    "plt.subplots_adjust(wspace=0.2,hspace=0.2)\n",
    "#plt.savefig('/global/homes/j/jatorres/plots/map2alm_auto_cross_TATT_0ellbins_0_5001_rebinned.jpg',bbox_inches='tight')\n",
    "plt.show()"
   ]
  },
  {
   "cell_type": "markdown",
   "id": "78d8a343-cdb6-47ce-a933-8f1026c95252",
   "metadata": {
    "jp-MarkdownHeadingCollapsed": true,
    "tags": []
   },
   "source": [
    "## $M_{\\rm ap}^3$"
   ]
  },
  {
   "cell_type": "code",
   "execution_count": null,
   "id": "a3473ab0-76b4-4340-a888-9a7b5e84493b",
   "metadata": {
    "tags": []
   },
   "outputs": [],
   "source": [
    "from itertools import combinations_with_replacement"
   ]
  },
  {
   "cell_type": "code",
   "execution_count": null,
   "id": "564560b3-a108-4fe1-bf2e-e3c30f125371",
   "metadata": {
    "tags": []
   },
   "outputs": [],
   "source": [
    "theta_tr = combinations_with_replacement([4,8,16,32],3)\n",
    "theta_tr_map3_bins = list(theta_tr)\n",
    "theta_tr_map3_bins\n",
    "theta_format = [ '{0}\\' {1}\\' {2}\\' '.format(*tr) for tr in theta_tr_map3_bins ]"
   ]
  },
  {
   "cell_type": "code",
   "execution_count": null,
   "id": "f2046fa4-43c4-43a4-a884-b33fd1874dad",
   "metadata": {
    "tags": []
   },
   "outputs": [],
   "source": [
    "SkySim5000_map3_noIA = []\n",
    "SkySim5000_map3_IA = []\n",
    "\n",
    "p=0\n",
    "q = 0\n",
    "for i in range(1,6):\n",
    "    p = i - 1\n",
    "    #print('saving bin (%d,%d)'%(i,i),'index:',int(10 - (5 - p)*(4-p)/2 + p))\n",
    "    SkySim5000_map3_noIA.append(np.loadtxt(dir_results+'noIA/map3/kappa_skysim5000_noIA_noisefree_tomo%d_map3_DV_thetas.dat'%(i)))\n",
    "    SkySim5000_map3_IA.append(np.loadtxt(dir_results+IA_model+'/map3/kappa_skysim5000_'+IA_model+'_'+f0+'_noisefree_tomo%d_map3_DV_thetas.dat'%(i)))\n",
    "    #SkySim5000_map3_IA.append(np.loadtxt(dir_results+IA_model+'/map3/kappa_skysim5000_'+f0+'_'+IA_model+'_noisefree_tomo%d_map3_DV_thetas.dat'%(i)))\n"
   ]
  },
  {
   "cell_type": "code",
   "execution_count": null,
   "id": "9d05d71b-d421-409a-9f65-010a6e775093",
   "metadata": {},
   "outputs": [],
   "source": [
    "f,ax = plt.subplots(2,3,figsize=(16,10),sharex=False,sharey=True)\n",
    "\n",
    "ax[ax_d['0']].set_ylabel(r'$\\left<{ M_{\\rm ap}^3 }\\right>/\\left<{ M_{\\rm ap}^{3,\\rm noIA} }\\right>$')\n",
    "ax[ax_d['3']].set_ylabel(r'$\\left<{ M_{\\rm ap}^3 }\\right>/\\left<{ M_{\\rm ap}^3 ,\\rm noIA}\\right>$')\n",
    "for i in range(5):\n",
    "    l0, = ax[ax_d['%d'%i]].plot(np.arange(20),SkySim5000_map3_IA[i]/SkySim5000_map3_noIA[i] - 1,c='dodgerblue',ms=10,marker='.',ls=' ')\n",
    "    l0, = ax[ax_d['%d'%i]].plot(np.arange(20),np.zeros_like(SkySim5000_map3_IA[i]),ls='--',lw=1.5)\n",
    "    ax[ax_d['%d'%i]].set_xticks(np.arange(20))\n",
    "    ax[ax_d['%d'%i]].set_xticklabels(theta_format, minor=False, rotation=90)\n",
    "    ax[ax_d['%d'%i]].set_title('Tomobin %d'%(i+1),fontsize=14)\n",
    "f.delaxes(ax[1,2])    \n",
    "#a1 = ax[1,1].legend([l1,l2,l3,l4],['Theory',r'$N_{\\rm shells} = 19$',r'$N_{\\rm shells} = 50$',r'$N_{\\rm shells} = 106$'],loc=1,bbox_to_anchor=(1.7,1.0))\n",
    "#ax[0,0].set_yscale('log')\n",
    "#ax[0].set_xscale('log')\n",
    "ax[0,0].set_ylim(-1,1)\n",
    "plt.tight_layout()\n",
    "plt.subplots_adjust(wspace=0.01)\n",
    "plt.show()\n",
    "#plt.savefig('imgs/DESC_meeting/map3_Nshells_19_50_106.pdf',bbox_inches='tight')"
   ]
  },
  {
   "cell_type": "markdown",
   "id": "73d74767-0387-4f56-bde2-be9b06119ed7",
   "metadata": {
    "tags": []
   },
   "source": [
    "## PDF"
   ]
  },
  {
   "cell_type": "code",
   "execution_count": 6,
   "id": "0a6e7edf-f84c-47b3-8dee-9409838b0500",
   "metadata": {
    "tags": []
   },
   "outputs": [],
   "source": [
    "#stddev_kappa_map = 0.0165#standard deviation of fiducial kappa maps at the first tomographic bin. if kappa is not sigma_0 normalized, this is an OK value.        \n",
    "bins=np.linspace(-0.005,0.005,21) \n",
    "binmids_kappacounts=(bins[1:]+bins[:-1])/2"
   ]
  },
  {
   "cell_type": "code",
   "execution_count": 7,
   "id": "c0cbd3e6-abdd-43b5-9301-254412cd0f72",
   "metadata": {},
   "outputs": [
    {
     "data": {
      "text/plain": [
       "array([-0.00475, -0.00425, -0.00375, -0.00325, -0.00275, -0.00225,\n",
       "       -0.00175, -0.00125, -0.00075, -0.00025,  0.00025,  0.00075,\n",
       "        0.00125,  0.00175,  0.00225,  0.00275,  0.00325,  0.00375,\n",
       "        0.00425,  0.00475])"
      ]
     },
     "execution_count": 7,
     "metadata": {},
     "output_type": "execute_result"
    }
   ],
   "source": [
    "binmids_kappacounts"
   ]
  },
  {
   "cell_type": "code",
   "execution_count": 8,
   "id": "c5da89bb-fa6c-4249-96da-ec994a790526",
   "metadata": {
    "tags": []
   },
   "outputs": [],
   "source": [
    "sl = [1,2,3,4]# smoothing 1,2,5,10.25,20 arcmin respectively.\n",
    "s_i = 1\n",
    "s_l = sl[s_i]"
   ]
  },
  {
   "cell_type": "code",
   "execution_count": 11,
   "id": "3c38aad8-aa94-4db9-b157-cc76c372eb5a",
   "metadata": {
    "tags": []
   },
   "outputs": [],
   "source": [
    "SkySim5000_PDF_clus_IA = []\n",
    "SkySim5000_PDF_clus = []\n",
    "SkySim5000_PDF_IA = []\n",
    "SkySim5000_PDF_noIA = []\n",
    "\n",
    "for i in range(1,6):\n",
    "    #print('saving bin (%d,%d)'%(i,i),'index:',int(10 - (5 - p)*(4-p)/2 + p))\n",
    "    SkySim5000_PDF_noIA.append(np.loadtxt(dir_results+'noIA/PDF/smoothed_theta2_kappa_skysim5000_noIA_noisefree_tomo%d_Nmap%d_Counts_kmin-0.005_kmax0.005_20kappabins.dat'%(i,i)))\n",
    "    SkySim5000_PDF_IA.append(np.loadtxt(dir_results+'NLA/PDF/smoothed_theta2_kappa_skysim5000_NLA_AIAp1_noisefree_tomo%d_Nmap%d_Counts_kmin-0.005_kmax0.005_20kappabins.dat'%(i,i)))\n",
    "    SkySim5000_PDF_clus_IA.append(np.loadtxt(dir_results+'deltaNLA/PDF/smoothed_theta2_kappa_skysim5000_deltaNLA_AIAp1_bta1_noisefree_tomo%d_Nmap%d_Counts_kmin-0.005_kmax0.005_20kappabins.dat'%(i,i)))\n",
    "    SkySim5000_PDF_clus.append(np.loadtxt(dir_results+'deltaNLA/PDF/smoothed_theta2_kappa_skysim5000_deltaNLA_noIA_bta1_noisefree_tomo%d_Nmap%d_Counts_kmin-0.005_kmax0.005_20kappabins.dat'%(i,i)))\n",
    "    \n"
   ]
  },
  {
   "cell_type": "code",
   "execution_count": 13,
   "id": "55812a5a-86e2-47bf-9f04-19f16b9aa8a3",
   "metadata": {
    "tags": []
   },
   "outputs": [
    {
     "name": "stderr",
     "output_type": "stream",
     "text": [
      "/tmp/ipykernel_829094/3774374126.py:10: RuntimeWarning: divide by zero encountered in divide\n",
      "  l0, = ax[ax_d['%d'%i]].plot(binmids_kappacounts,SkySim5000_PDF_IA[i]/SkySim5000_PDF_noIA[i] -1,'bs-')\n",
      "/tmp/ipykernel_829094/3774374126.py:10: RuntimeWarning: invalid value encountered in divide\n",
      "  l0, = ax[ax_d['%d'%i]].plot(binmids_kappacounts,SkySim5000_PDF_IA[i]/SkySim5000_PDF_noIA[i] -1,'bs-')\n",
      "/tmp/ipykernel_829094/3774374126.py:11: RuntimeWarning: invalid value encountered in divide\n",
      "  l1, = ax[ax_d['%d'%i]].plot(binmids_kappacounts,SkySim5000_PDF_noIA[i]/SkySim5000_PDF_noIA[i] -1,'k-')\n",
      "/tmp/ipykernel_829094/3774374126.py:12: RuntimeWarning: divide by zero encountered in divide\n",
      "  l2, = ax[ax_d['%d'%i]].plot(binmids_kappacounts,SkySim5000_PDF_clus_IA[i]/SkySim5000_PDF_noIA[i] -1,'r^-')\n",
      "/tmp/ipykernel_829094/3774374126.py:13: RuntimeWarning: invalid value encountered in divide\n",
      "  l2, = ax[ax_d['%d'%i]].plot(binmids_kappacounts,SkySim5000_PDF_clus[i]/SkySim5000_PDF_noIA[i] -1,'go-')\n",
      "/tmp/ipykernel_829094/3774374126.py:13: RuntimeWarning: divide by zero encountered in divide\n",
      "  l2, = ax[ax_d['%d'%i]].plot(binmids_kappacounts,SkySim5000_PDF_clus[i]/SkySim5000_PDF_noIA[i] -1,'go-')\n"
     ]
    },
    {
     "data": {
      "image/png": "[encoded data removed]",
      "text/plain": [
       "<Figure size 1400x1000 with 5 Axes>"
      ]
     },
     "metadata": {},
     "output_type": "display_data"
    }
   ],
   "source": [
    "ax_d = {'0':(0,0),'1':(0,1),'2':(0,2),'3':(1,0),'4':(1,1)}\n",
    "\n",
    "f,ax = plt.subplots(2,3,figsize=(14,10),sharex=True,sharey=True)\n",
    "\n",
    "ax[ax_d['0']].set_ylabel(r'$\\mathcal{P}(\\kappa)$(Counts)')\n",
    "ax[ax_d['3']].set_ylabel(r'$\\mathcal{P}(\\kappa)$(Counts)')\n",
    "\n",
    "for i in range(5):\n",
    "\n",
    "    l0, = ax[ax_d['%d'%i]].plot(binmids_kappacounts,SkySim5000_PDF_IA[i]/SkySim5000_PDF_noIA[i] -1,'bs-')\n",
    "    l1, = ax[ax_d['%d'%i]].plot(binmids_kappacounts,SkySim5000_PDF_noIA[i]/SkySim5000_PDF_noIA[i] -1,'k-')\n",
    "    l2, = ax[ax_d['%d'%i]].plot(binmids_kappacounts,SkySim5000_PDF_clus_IA[i]/SkySim5000_PDF_noIA[i] -1,'r^-')\n",
    "    l2, = ax[ax_d['%d'%i]].plot(binmids_kappacounts,SkySim5000_PDF_clus[i]/SkySim5000_PDF_noIA[i] -1,'go-')\n",
    "\n",
    "    #ax[ax_d['%d'%i]].set_xticks([-0.01,-0.005,0.0,0.005])\n",
    "    ax[ax_d['%d'%i]].set_title('Tomobin %d'%(i+1),fontsize=14)\n",
    "    ax[0,0].set_xlim(-0.005,0.005)\n",
    "    #ax[ax_d['%d'%i]].set_ylim(0,120)\n",
    "    ax[ax_d['%d'%i]].set_xlabel(r'$\\kappa$')\n",
    "#a1 = ax[1,1].legend([l1,l2,l3,l4],['Theory',r'$N_{\\rm shells} = 19$',r'$N_{\\rm shells} = 50$',r'$N_{\\rm shells} = 106$'],loc=1,bbox_to_anchor=(1.7,1.0))\n",
    "f.delaxes(ax[1,2])\n",
    "#c1 = ax[ax_d['2']].legend([l0,l1],['hacc-noia','hacc-ia'],loc=1)\n",
    "#ax[ax_d['2']].add_artist(c1)\n",
    "#ax[0,0].set_yscale('log')\n",
    "ax[0,0].set_ylim(-1.5,0.5)\n",
    "#ax[0,0].set_xlim(-0.005,0.005)\n",
    "\n",
    "plt.tight_layout()\n",
    "plt.subplots_adjust(wspace=0.01)\n",
    "#plt.savefig('/global/homes/j/jatorres/plots/pdf_comparison_hacc-ia_skysim_e1flip.jpg',bbox_inches='tight')\n",
    "plt.show()"
   ]
  },
  {
   "cell_type": "code",
   "execution_count": null,
   "id": "cd4083bf-24b5-461f-85ce-e2e41b25ac95",
   "metadata": {
    "tags": []
   },
   "outputs": [],
   "source": [
    "\n",
    "SkySim5000_peaks_IA = []\n",
    "SkySim5000_minima_IA = []\n",
    "SkySim5000_peaks_noIA = []\n",
    "SkySim5000_minima_noIA = []\n",
    "\n",
    "for i in range(1,6):\n",
    "    #print('saving bin (%d,%d)'%(i,i),'index:',int(10 - (5 - p)*(4-p)/2 + p))\n",
    "    #SkySim5000_PDF_noIA.append(np.loadtxt(dir_results+'flipped/noIA/peaks/kappa_skysim5000_noIA_noisefree_tomo%d_e1flip_Nmap%d_peaks_posRADEC_amp.dat'%(i,i),usecols=(2,)))\n",
    "    SkySim5000_peaks_noIA.append(np.loadtxt(dir_results+'noIA/peaks/smoothed_theta%d_kappa_skysim5000_noIA_noisefree_tomo%d_Nmap%d_peaks_posRADEC_amp.dat'%(s_i,i,i)))\n",
    "    SkySim5000_minima_noIA.append(np.loadtxt(dir_results+'noIA/peaks/smoothed_theta%d_kappa_skysim5000_noIA_noisefree_tomo%d_Nmap%d_minima_posRADEC_amp.dat'%(s_i,i,i)))\n",
    "    #SkySim5000_PDF_noIA_f.append(np.loadtxt(dir_results+'flipped/noIA/peaks/kappa_skysim5000_noIA_noisefree_tomo%d_e2flip_Nmap%d_peaks_posRADEC_amp.dat'%(i,i),usecols=(2,)))\n",
    "    #SkySim5000_PDF_IA.append(np.loadtxt(dir_results+IA_model+'/PDF/smoothed_theta%d_kappa_skysim5000_'%s_i+f0+'_'+IA_model+'_noisefree_tomo%d_Nmap%d_Counts_kappa_width0.1_200Kappabins.dat'%(i,i)))\n",
    "    SkySim5000_peaks_IA.append(np.loadtxt(dir_results+IA_model+'/peaks/smoothed_theta%d_kappa_skysim5000_NLA_AIAp1_noisefree_tomo%d_Nmap%d_peaks_posRADEC_amp.dat'%(s_i,i,i)))\n",
    "    SkySim5000_minima_IA.append(np.loadtxt(dir_results+IA_model+'/peaks/smoothed_theta%d_kappa_skysim5000_NLA_AIAp1_noisefree_tomo%d_Nmap%d_minima_posRADEC_amp.dat'%(s_i,i,i)))\n",
    "    \n"
   ]
  },
  {
   "cell_type": "code",
   "execution_count": null,
   "id": "c552f408-d87e-4d55-9133-b891dcb878bd",
   "metadata": {
    "tags": []
   },
   "outputs": [],
   "source": [
    "ax_d = {'0':(0,0),'1':(0,1),'2':(0,2),'3':(1,0),'4':(1,1)}\n",
    "\n",
    "f,ax = plt.subplots(2,3,figsize=(14,10),sharex=False,sharey=True)\n",
    "\n",
    "ax[ax_d['0']].set_ylabel(r'$\\mathcal{P}(\\kappa)$(Counts)')\n",
    "ax[ax_d['3']].set_ylabel(r'$\\mathcal{P}(\\kappa)$(Counts)')\n",
    "\n",
    "for i in range(5):\n",
    "    bins=np.linspace(-0.05,0.05,201) #typical ranges and number of bins\n",
    "    binmids_peaks_minima=(bins[1:]+bins[:-1])/2\n",
    "    counts_peaks,bins=np.histogram(SkySim5000_peaks_IA[i],density=False,bins=bins)\n",
    "    counts_minima,bins=np.histogram(SkySim5000_minima_IA[i],density=False,bins=bins)\n",
    "\n",
    "    counts_peaks_noIA,bins=np.histogram(SkySim5000_peaks_noIA[i],density=False,bins=bins)\n",
    "    counts_minima_noIA,bins=np.histogram(SkySim5000_minima_noIA[i],density=False,bins=bins)\n",
    "\n",
    "    l2, = ax[ax_d['%d'%i]].plot(binmids_kappacounts,counts_peaks,color='red',marker='o',ls='--')\n",
    "    l3, = ax[ax_d['%d'%i]].plot(binmids_kappacounts,counts_minima,color='red',marker='o',ls=':')\n",
    "    m2, = ax[ax_d['%d'%i]].plot(binmids_kappacounts,counts_peaks_noIA,color='black',marker='o',ls='--')\n",
    "    m3, = ax[ax_d['%d'%i]].plot(binmids_kappacounts,counts_minima_noIA,color='black',marker='o',ls=':')\n",
    "    #\n",
    "    ax[ax_d['%d'%i]].set_xticks([-0.01,-0.005,0.0,0.005])\n",
    "    ax[ax_d['%d'%i]].set_title('Tomobin %d'%(i+1),fontsize=14)\n",
    "    ax[ax_d['%d'%i]].set_xlim(-0.01,0.01)\n",
    "    ax[ax_d['%d'%i]].set_xlabel(r'$\\kappa$')\n",
    "#a1 = ax[1,1].legend([l1,l2,l3,l4],['Theory',r'$N_{\\rm shells} = 19$',r'$N_{\\rm shells} = 50$',r'$N_{\\rm shells} = 106$'],loc=1,bbox_to_anchor=(1.7,1.0))\n",
    "f.delaxes(ax[1,2]) \n",
    "#ax[0,0].set_yscale('log')\n",
    "#ax[0,0].set_ylim(-1,1)\n",
    "ax[0,0].set_xlim(-0.01,0.01)\n",
    "plt.tight_layout()\n",
    "plt.subplots_adjust(wspace=0.01)\n",
    "#plt.savefig('/global/homes/j/jatorres/plots/PDF_TATT.png',bbox_inches='tight')\n",
    "plt.show()"
   ]
  },
  {
   "cell_type": "markdown",
   "id": "481674f2-0ecb-4f88-9e17-05798802facf",
   "metadata": {
    "tags": []
   },
   "source": [
    "## Integrated 3PCF"
   ]
  },
  {
   "cell_type": "code",
   "execution_count": null,
   "id": "362118a0-e47d-4c89-92dd-495bc563e63a",
   "metadata": {},
   "outputs": [],
   "source": [
    "f0"
   ]
  },
  {
   "cell_type": "code",
   "execution_count": null,
   "id": "e68dcb8c-05f6-4590-99bf-320e88ea3e56",
   "metadata": {
    "tags": []
   },
   "outputs": [],
   "source": [
    "SkySim5000_i3PCF_zp_noIA = []\n",
    "SkySim5000_i3PCF_zm_noIA = []\n",
    "SkySim5000_i3PCF_zp_noIA = []\n",
    "SkySim5000_i3PCF_zm_noIA = []\n",
    "\n",
    "p=0\n",
    "q = 0\n",
    "\n",
    "for i in range(1,6):\n",
    "    p = i - 1\n",
    "    #print('saving bin (%d,%d)'%(i,i),'index:',int(10 - (5 - p)*(4-p)/2 + p))\n",
    "    SkySim5000_i3PCF_zm_noIA.append(np.loadtxt(dir_results+IA_model+'/i3PCF/zeta_m_SkySim5000_tomo{0}_tomo{1}_tomo{2}_'.format(i,i,3)+f0+'_shear_theta_zeta_zetaerr.dat'))\n",
    "    SkySim5000_i3PCF_zp_noIA.append(np.loadtxt(dir_results+IA_model+'/i3PCF/zeta_p_SkySim5000_tomo{0}_tomo{1}_tomo{2}_'.format(i,i,3)+f0+'_shear_theta_zeta_zetaerr.dat'))\n",
    "    SkySim5000_i3PCF_zp_IA.append(np.loadtxt(dir_results+IA_model+'/i3PCF/zeta_p_SkySim5000_tomo{0}_tomo{1}_tomo{2}_'.format(i,i,3)+f0+'_shear+IA_theta_zeta_zetaerr.dat'))\n",
    "    SkySim5000_i3PCF_zm_IA.append(np.loadtxt(dir_results+IA_model+'/i3PCF/zeta_m_SkySim5000_tomo{0}_tomo{1}_tomo{2}_'.format(i,i,3)+f0+'_shear+IA_theta_zeta_zetaerr.dat'))\n",
    "    \n"
   ]
  },
  {
   "cell_type": "code",
   "execution_count": null,
   "id": "7852af32-1e7c-4156-a768-57e5faba4563",
   "metadata": {
    "tags": []
   },
   "outputs": [],
   "source": [
    "line_shear = Line2D([0,0],[0,0],lw=2,ls='-',color='k')\n",
    "line_shear_IA = Line2D([0,0],[0,0],lw=2,ls='--',color='k')"
   ]
  },
  {
   "cell_type": "code",
   "execution_count": null,
   "id": "d82cdad3-93a8-4926-a601-f5c999dc733c",
   "metadata": {
    "tags": []
   },
   "outputs": [],
   "source": [
    "ax_d = {'0':(0,0),'1':(0,1),'2':(0,2),'3':(1,0),'4':(1,1)} #plot axes dict\n",
    "\n",
    "l1 = Line2D([0],[0],lw=2,c='k')# line element for legends\n",
    "l2 = Line2D([0],[0],lw=2,c='r')\n",
    "l1 = Line2D([0],[0],lw=2,c='k')# line element for legends\n",
    "l2 = Line2D([0],[0],lw=2,c='r')\n",
    "\n",
    "line_shear = Line2D([0,0],[0,0],lw=2,ls='-',color='k')\n",
    "line_shear_IA = Line2D([0,0],[0,0],lw=2,ls='--',color='k')"
   ]
  },
  {
   "cell_type": "code",
   "execution_count": null,
   "id": "76a5ba64-6e67-4298-ab5f-afecc787ff5a",
   "metadata": {},
   "outputs": [],
   "source": [
    "f,ax = plt.subplots(2,3,figsize=(14,8),sharex=False,sharey=False)\n",
    "\n",
    "ax[ax_d['0']].set_ylabel(r'$\\zeta_{\\pm}$')\n",
    "ax[ax_d['3']].set_ylabel(r'$\\zeta_{\\pm}$')\n",
    "\n",
    "pre_factor = 1e8\n",
    "theta_arcmins = SkySim5000_i3PCF_zm_noIA[0][:,0]\n",
    "\n",
    "for i in range(5):\n",
    "    l0 = ax[ax_d['%d'%i]].errorbar(theta_arcmins,theta_arcmins*pre_factor*SkySim5000_i3PCF_zm_noIA[i][:,1],yerr=theta_arcmins*pre_factor*SkySim5000_i3PCF_zm_noIA[i][:,2],c='b',fmt='-',capsize=2)\n",
    "    l1 = ax[ax_d['%d'%i]].errorbar(theta_arcmins,theta_arcmins*pre_factor*SkySim5000_i3PCF_zm_baryon[i][:,1],yerr=theta_arcmins*pre_factor*SkySim5000_i3PCF_zm_baryon[i][:,2],c='b',fmt='--',capsize=2)\n",
    "    l2 = ax[ax_d['%d'%i]].errorbar(theta_arcmins,theta_arcmins*pre_factor*SkySim5000_i3PCF_zp_noIA[i][:,1],yerr=theta_arcmins*pre_factor*SkySim5000_i3PCF_zp_noIA[i][:,2],c='r',fmt='-',capsize=2)\n",
    "    l3 = ax[ax_d['%d'%i]].errorbar(theta_arcmins,theta_arcmins*pre_factor*SkySim5000_i3PCF_zp_baryon[i][:,1],yerr=theta_arcmins*pre_factor*SkySim5000_i3PCF_zp_baryon[i][:,2],c='r',fmt='--',capsize=2)\n",
    "\n",
    "#    l2, = ax[ax_d['%d'%i]].errobar()\n",
    "#    l3, = ax[ax_d['%d'%i]].errobar()    \n",
    "    ax[ax_d['%d'%i]].set_title('Tomobin %d'%(i+1),fontsize=14)\n",
    "    ax[ax_d['%d'%i]].set_xlabel('$\\\\theta$ [arcmins]', fontsize=15)\n",
    "    ax[ax_d['%d'%i]].set_xscale('log')\n",
    "f.delaxes(ax[1,2])    \n",
    "a1 = ax[1,1].legend([l0,l2],[r'$\\zeta_{+}$',r'$\\zeta_{-}$'],loc=1,bbox_to_anchor=(1.7,1.0))\n",
    "a2 = ax[1,1].legend([line_shear,line_shear_IA],[r'dmo',r'dmb'],loc=1,bbox_to_anchor=(1.7,0.70))\n",
    "ax[1,1].add_artist(a1)\n",
    "ax[1,1].add_artist(a2)\n",
    "#ax[0,0].set_yscale('log')\n",
    "#ax[0,0].set_ylim(-30,30)\n",
    "\n",
    "plt.tight_layout()\n",
    "plt.subplots_adjust(wspace=0.2)\n",
    "plt.show()\n",
    "#plt.savefig('imgs/DESC_meeting/map3_Nshells_19_50_106.pdf',bbox_inches='tight')"
   ]
  },
  {
   "cell_type": "markdown",
   "id": "fa39942f-3c61-4b11-8124-2417a241d257",
   "metadata": {},
   "source": [
    "## Some cross bins"
   ]
  },
  {
   "cell_type": "code",
   "execution_count": null,
   "id": "aaabd5ed-8b56-4eda-88b5-a40d674ac9f0",
   "metadata": {},
   "outputs": [],
   "source": [
    "IA_params_dict = {'noIA':['noIA'],\n",
    "                  'NLA':['AIAp1','AIAm1'],\n",
    "                  'deltaNLA':['AIAp1_bta1','AIAp1_bta2','noIA_bta1'],\n",
    "                  'deltaTT':['C2m1_bta1','C2p1_bta1'],\n",
    "                  'TATT':['AIAp1_C2p1_bta1'],\n",
    "                  'TT':['C2p1','C2m1'],\n",
    "                  'HODNLA':['AIAp1'],\n",
    "                  'HODTT':['A2p1']}\n"
   ]
  },
  {
   "cell_type": "code",
   "execution_count": null,
   "id": "626a2e27-d49a-4e8a-865d-3fad083bcd25",
   "metadata": {
    "tags": []
   },
   "outputs": [],
   "source": [
    "IA_model1 = 'NLA'\n",
    "free_par = IA_params_dict[IA_model1]\n",
    "f1 = IA_model1+'_'+free_par[0]\n",
    "#\n",
    "IA_model2 = 'TT'\n",
    "free_par = IA_params_dict[IA_model2]\n",
    "f2 = IA_model2+'_'+free_par[0]\n",
    "#\n",
    "IA_model3 = 'deltaNLA'\n",
    "free_par = IA_params_dict[IA_model3]\n",
    "f3 = IA_model3+'_'+free_par[0]"
   ]
  },
  {
   "cell_type": "code",
   "execution_count": null,
   "id": "96912f4e-244e-4f2f-9963-8aee99662940",
   "metadata": {},
   "outputs": [],
   "source": [
    "p=0\n",
    "q = 0\n",
    "\n",
    "\n",
    "trios = np.array([[1,1,1],\n",
    "                  [1,1,3],\n",
    "                  [1,3,3],\n",
    "                  [3,1,1],\n",
    "                  [3,1,3],\n",
    "                  [3,3,3]])\n"
   ]
  },
  {
   "cell_type": "code",
   "execution_count": null,
   "id": "f30b5057-4b9d-4111-8dd4-df384450a4c9",
   "metadata": {
    "tags": []
   },
   "outputs": [],
   "source": [
    "SkySim5000_i3PCF_zp_IA_TT = []\n",
    "SkySim5000_i3PCF_zm_IA_TT = []\n",
    "SkySim5000_i3PCF_zp_IA_NLA = []\n",
    "SkySim5000_i3PCF_zm_IA_NLA = []\n",
    "SkySim5000_i3PCF_zp_IA_deltaNLA = []\n",
    "SkySim5000_i3PCF_zm_IA_deltaNLA= []\n",
    "\n",
    "SkySim5000_i3PCF_zp_noIA_TT = []\n",
    "SkySim5000_i3PCF_zm_noIA_TT = []\n",
    "SkySim5000_i3PCF_zp_noIA_NLA = []\n",
    "SkySim5000_i3PCF_zm_noIA_NLA = []\n",
    "SkySim5000_i3PCF_zp_noIA_deltaNLA = []\n",
    "SkySim5000_i3PCF_zm_noIA_deltaNLA= []\n",
    "\n",
    "\n",
    "for t in trios:\n",
    "    i,j,k = t \n",
    "    \n",
    "    #print('saving bin (%d,%d)'%(i,i),'index:',int(10 - (5 - p)*(4-p)/2 + p))\n",
    "    SkySim5000_i3PCF_zm_IA_TT.append(np.loadtxt(dir_results+IA_model2+'/i3PCF/zeta_m_SkySim5000_tomo{0}_tomo{1}_tomo{2}_'.format(i,j,k)+f2+'_shear+IA_theta_zeta_zetaerr.dat'))\n",
    "    SkySim5000_i3PCF_zp_IA_TT.append(np.loadtxt(dir_results+IA_model2+'/i3PCF/zeta_p_SkySim5000_tomo{0}_tomo{1}_tomo{2}_'.format(i,j,k)+f2+'_shear+IA_theta_zeta_zetaerr.dat'))\n",
    "    SkySim5000_i3PCF_zm_IA_NLA.append(np.loadtxt(dir_results+IA_model1+'/i3PCF/zeta_m_SkySim5000_tomo{0}_tomo{1}_tomo{2}_'.format(i,j,k)+f1+'_shear+IA_theta_zeta_zetaerr.dat'))\n",
    "    SkySim5000_i3PCF_zp_IA_NLA.append(np.loadtxt(dir_results+IA_model1+'/i3PCF/zeta_p_SkySim5000_tomo{0}_tomo{1}_tomo{2}_'.format(i,j,k)+f1+'_shear+IA_theta_zeta_zetaerr.dat'))\n",
    "    SkySim5000_i3PCF_zm_IA_deltaNLA.append(np.loadtxt(dir_results+IA_model3+'/i3PCF/zeta_m_SkySim5000_tomo{0}_tomo{1}_tomo{2}_'.format(i,j,k)+f3+'_shear+IA_theta_zeta_zetaerr.dat'))\n",
    "    SkySim5000_i3PCF_zp_IA_deltaNLA.append(np.loadtxt(dir_results+IA_model3+'/i3PCF/zeta_p_SkySim5000_tomo{0}_tomo{1}_tomo{2}_'.format(i,j,k)+f3+'_shear+IA_theta_zeta_zetaerr.dat'))    \n",
    "\n",
    "    SkySim5000_i3PCF_zm_noIA_TT.append(np.loadtxt(dir_results+IA_model2+'/i3PCF/zeta_m_SkySim5000_tomo{0}_tomo{1}_tomo{2}_'.format(i,j,k)+f2+'_shear_theta_zeta_zetaerr.dat'))\n",
    "    SkySim5000_i3PCF_zp_noIA_TT.append(np.loadtxt(dir_results+IA_model2+'/i3PCF/zeta_p_SkySim5000_tomo{0}_tomo{1}_tomo{2}_'.format(i,j,k)+f2+'_shear_theta_zeta_zetaerr.dat'))\n",
    "    SkySim5000_i3PCF_zm_noIA_NLA.append(np.loadtxt(dir_results+IA_model1+'/i3PCF/zeta_m_SkySim5000_tomo{0}_tomo{1}_tomo{2}_'.format(i,j,k)+f1+'_shear_theta_zeta_zetaerr.dat'))\n",
    "    SkySim5000_i3PCF_zp_noIA_NLA.append(np.loadtxt(dir_results+IA_model1+'/i3PCF/zeta_p_SkySim5000_tomo{0}_tomo{1}_tomo{2}_'.format(i,j,k)+f1+'_shear_theta_zeta_zetaerr.dat'))\n",
    "    SkySim5000_i3PCF_zm_noIA_deltaNLA.append(np.loadtxt(dir_results+IA_model3+'/i3PCF/zeta_m_SkySim5000_tomo{0}_tomo{1}_tomo{2}_'.format(i,j,k)+f3+'_shear_theta_zeta_zetaerr.dat'))\n",
    "    SkySim5000_i3PCF_zp_noIA_deltaNLA.append(np.loadtxt(dir_results+IA_model3+'/i3PCF/zeta_p_SkySim5000_tomo{0}_tomo{1}_tomo{2}_'.format(i,j,k)+f3+'_shear_theta_zeta_zetaerr.dat'))    "
   ]
  },
  {
   "cell_type": "code",
   "execution_count": null,
   "id": "8f9d1880-af8b-47ff-b688-42ba94a8db96",
   "metadata": {
    "tags": []
   },
   "outputs": [],
   "source": [
    "ax_d = {'0':(0,0),'1':(1,0),'2':(2,0),'3':(0,1),'4':(1,1),'5':(2,1)} #plot axes dict\n",
    "\n",
    "l1 = Line2D([0],[0],lw=2,c='k')# line element for legends\n",
    "l2 = Line2D([0],[0],lw=2,c='r')\n",
    "\n",
    "line_shear = Line2D([0,0],[0,0],lw=2,ls='-',color='k')\n",
    "line_shear_IA = Line2D([0,0],[0,0],lw=2,ls='--',color='k')"
   ]
  },
  {
   "cell_type": "code",
   "execution_count": null,
   "id": "8e60159a-2a11-46f3-bd00-041c299b271b",
   "metadata": {},
   "outputs": [],
   "source": [
    "f,ax = plt.subplots(3,2,figsize=(12,8),sharex=True,sharey=False)\n",
    "\n",
    "#ax[ax_d['0']].set_ylabel(r'$\\zeta_{\\pm}$')\n",
    "#ax[ax_d['3']].set_ylabel(r'$\\zeta_{\\pm}$')\n",
    "\n",
    "pre_factor = 1e8\n",
    "theta_arcmins = SkySim5000_i3PCF_zm_noIA_NLA[0][:,0]\n",
    "\n",
    "for i in range(6):\n",
    "    l0 = ax[ax_d['%d'%i]].errorbar(theta_arcmins,theta_arcmins*pre_factor*SkySim5000_i3PCF_zm_IA_NLA[i][:,1],yerr=theta_arcmins*pre_factor*SkySim5000_i3PCF_zm_IA_NLA[i][:,2],c='r',fmt='-',capsize=2)\n",
    "    l1 = ax[ax_d['%d'%i]].errorbar(theta_arcmins,theta_arcmins*pre_factor*SkySim5000_i3PCF_zm_IA_TT[i][:,1],yerr=theta_arcmins*pre_factor*SkySim5000_i3PCF_zm_IA_TT[i][:,2],c='g',fmt='-',capsize=2)\n",
    "    l2 = ax[ax_d['%d'%i]].errorbar(theta_arcmins,theta_arcmins*pre_factor*SkySim5000_i3PCF_zm_IA_deltaNLA[i][:,1],yerr=theta_arcmins*pre_factor*SkySim5000_i3PCF_zp_IA_deltaNLA[i][:,2],c='b',fmt='-',capsize=2)\n",
    "    l3 = ax[ax_d['%d'%i]].errorbar(theta_arcmins,theta_arcmins*pre_factor*SkySim5000_i3PCF_zm_noIA_NLA[i][:,1],yerr=theta_arcmins*pre_factor*SkySim5000_i3PCF_zm_IA_NLA[i][:,2],c='r',fmt='--',capsize=2)\n",
    "    l4 = ax[ax_d['%d'%i]].errorbar(theta_arcmins,theta_arcmins*pre_factor*SkySim5000_i3PCF_zm_noIA_TT[i][:,1],yerr=theta_arcmins*pre_factor*SkySim5000_i3PCF_zm_IA_TT[i][:,2],c='g',fmt='--',capsize=2)\n",
    "    l5 = ax[ax_d['%d'%i]].errorbar(theta_arcmins,theta_arcmins*pre_factor*SkySim5000_i3PCF_zm_noIA_deltaNLA[i][:,1],yerr=theta_arcmins*pre_factor*SkySim5000_i3PCF_zp_IA_deltaNLA[i][:,2],c='b',fmt='--',capsize=2)\n",
    "    \n",
    "\n",
    "\n",
    "    ax[ax_d['%d'%i]].set_title('Tomobin %d-%d-%d'%(tuple(trios[i])),fontsize=14)\n",
    "    ax[ax_d['%d'%i]].set_xscale('log')\n",
    "ax[ax_d['2']].set_xlabel('$\\\\theta$ [arcmins]', fontsize=15)\n",
    "\n",
    "\n",
    "a1 = ax[1,1].legend([l0,l2],[r'$\\zeta_{+}$',r'$\\zeta_{-}$'],loc=1,bbox_to_anchor=(1.5,1.0))\n",
    "a2 = ax[1,1].legend([line_shear,line_shear_IA],[r'Shear',r'Shear+IA'],loc=1,bbox_to_anchor=(1.5,0.60))\n",
    "ax[1,1].add_artist(a1)\n",
    "ax[1,1].add_artist(a2)\n",
    "#ax[0,0].set_yscale('log')\n",
    "#ax[0,0].set_ylim(-30,30)\n",
    "\n",
    "plt.tight_layout()\n",
    "plt.subplots_adjust(wspace=0.12)\n",
    "#plt.savefig('/global/homes/j/jatorres/HOS-Y1-prep/hoscodes/notebooks/imgs/i3pcf_TT_shear_shear+IA_noiseless.jpg',bbox_inches='tight')"
   ]
  },
  {
   "cell_type": "code",
   "execution_count": null,
   "id": "05be71f9-d412-463e-9dd2-91c5766f39bd",
   "metadata": {},
   "outputs": [],
   "source": []
  }
 ],
 "metadata": {
  "kernelspec": {
   "display_name": "cuQuantum",
   "language": "python",
   "name": "cuquantum"
  },
  "language_info": {
   "codemirror_mode": {
    "name": "ipython",
    "version": 3
   },
   "file_extension": ".py",
   "mimetype": "text/x-python",
   "name": "python",
   "nbconvert_exporter": "python",
   "pygments_lexer": "ipython3",
   "version": "3.8.13"
  }
 },
 "nbformat": 4,
 "nbformat_minor": 5
}
